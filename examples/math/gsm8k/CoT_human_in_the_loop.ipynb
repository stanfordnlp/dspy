{
 "cells": [
  {
   "cell_type": "code",
   "execution_count": 1,
   "metadata": {},
   "outputs": [
    {
     "name": "stderr",
     "output_type": "stream",
     "text": [
      "/Users/ben/code/dspy/.venv/lib/python3.11/site-packages/tqdm/auto.py:21: TqdmWarning: IProgress not found. Please update jupyter and ipywidgets. See https://ipywidgets.readthedocs.io/en/stable/user_install.html\n",
      "  from .autonotebook import tqdm as notebook_tqdm\n",
      "100%|██████████| 7473/7473 [00:00<00:00, 79479.76it/s]\n",
      "100%|██████████| 1319/1319 [00:00<00:00, 93299.50it/s]\n"
     ]
    }
   ],
   "source": [
    "# %load_ext autoreload\n",
    "# %autoreload 2\n",
    "# import sys; sys.path.append('/future/u/okhattab/repos/public/stanfordnlp/dspy')\n",
    "\n",
    "import dspy\n",
    "from dspy.evaluate import Evaluate\n",
    "from dspy.datasets.gsm8k import GSM8K, gsm8k_metric\n",
    "from dspy.teleprompt import BootstrapFewShotWithHuman\n",
    "\n",
    "gms8k = GSM8K()\n",
    "turbo = dspy.OpenAI(model=\"gpt-3.5-turbo-instruct\", max_tokens=250)\n",
    "\n",
    "trainset, devset = gms8k.train, gms8k.dev\n",
    "\n",
    "dspy.settings.configure(lm=turbo)"
   ]
  },
  {
   "cell_type": "code",
   "execution_count": 2,
   "metadata": {},
   "outputs": [
    {
     "name": "stderr",
     "output_type": "stream",
     "text": [
      "/Users/ben/code/dspy/.venv/lib/python3.11/site-packages/argilla/datasets/_resource.py:264: UserWarning: Workspace not provided. Using default workspace: argilla id: 735cae0d-eb08-45c3-ad79-0a11ad4dd2c2\n",
      "  warnings.warn(f\"Workspace not provided. Using default workspace: {workspace.name} id: {workspace.id}\")\n",
      "/Users/ben/code/dspy/.venv/lib/python3.11/site-packages/argilla/records/_mapping/_mapper.py:89: UserWarning: Keys ['gold_reasoning'] in data are not present in the mapping and will be ignored.\n",
      "  warnings.warn(f\"Keys {unknown_keys} in data are not present in the mapping and will be ignored.\")\n"
     ]
    },
    {
     "data": {
      "text/html": [
       "<pre style=\"white-space:pre;overflow-x:auto;line-height:normal;font-family:Menlo,'DejaVu Sans Mono',consolas,'Courier New',monospace\">DatasetRecords: The provided batch size <span style=\"color: #008080; text-decoration-color: #008080; font-weight: bold\">256</span> was normalized. Using value <span style=\"color: #008080; text-decoration-color: #008080; font-weight: bold\">200</span>.\n",
       "</pre>\n"
      ],
      "text/plain": [
       "DatasetRecords: The provided batch size \u001b[1;36m256\u001b[0m was normalized. Using value \u001b[1;36m200\u001b[0m.\n"
      ]
     },
     "metadata": {},
     "output_type": "display_data"
    },
    {
     "name": "stderr",
     "output_type": "stream",
     "text": [
      "Sending records...: 100%|██████████| 1/1 [00:00<00:00,  1.95batch/s]\n"
     ]
    },
    {
     "data": {
      "text/plain": [
       "DatasetRecords(Dataset(id=UUID('6b884925-0c35-4b77-b1f8-1132458a39bf') inserted_at=datetime.datetime(2024, 10, 17, 19, 29, 44, 363607) updated_at=datetime.datetime(2024, 10, 17, 19, 29, 44, 507762) name='gsm8k' status='ready' guidelines=None allow_extra_metadata=False distribution=OverlapTaskDistributionModel(strategy='overlap', min_submitted=1) workspace_id=UUID('735cae0d-eb08-45c3-ad79-0a11ad4dd2c2') last_activity_at=datetime.datetime(2024, 10, 17, 19, 29, 44, 507762)))"
      ]
     },
     "execution_count": 2,
     "metadata": {},
     "output_type": "execute_result"
    }
   ],
   "source": [
    "import argilla as rg\n",
    "\n",
    "client = rg.Argilla(api_key=\"argilla.apikey\", api_url=\"http://localhost:6900\")\n",
    "\n",
    "dataset_name = \"gsm8k\"\n",
    "if client.datasets(dataset_name):\n",
    "    client.datasets(dataset_name).delete()\n",
    "\n",
    "rg_dataset = rg.Dataset(\n",
    "    name=dataset_name,\n",
    "    settings=rg.Settings(\n",
    "        fields=[\n",
    "            rg.TextField(name=\"question\"),\n",
    "        ],\n",
    "        questions=[\n",
    "            rg.TextQuestion(\n",
    "                name=\"answer\",\n",
    "            )\n",
    "        ],\n",
    "    ),\n",
    ")\n",
    "\n",
    "rg_dataset.create()\n",
    "\n",
    "rg_dataset.records.log(\n",
    "    [dict(example) for example in trainset], mapping={\"answer\": \"answer.response\"}\n",
    ")"
   ]
  },
  {
   "cell_type": "code",
   "execution_count": 3,
   "metadata": {},
   "outputs": [],
   "source": [
    "NUM_THREADS = 4\n",
    "evaluate = Evaluate(\n",
    "    devset=devset[:],\n",
    "    metric=gsm8k_metric,\n",
    "    num_threads=NUM_THREADS,\n",
    "    display_progress=True,\n",
    "    display_table=0,\n",
    ")"
   ]
  },
  {
   "cell_type": "code",
   "execution_count": 4,
   "metadata": {},
   "outputs": [],
   "source": [
    "class CoT(dspy.Module):\n",
    "    def __init__(self):\n",
    "        super().__init__()\n",
    "        self.prog = dspy.ChainOfThought(signature=\"question -> answer\")\n",
    "\n",
    "    def forward(self, question):\n",
    "        return self.prog(question=question)"
   ]
  },
  {
   "cell_type": "code",
   "execution_count": 6,
   "metadata": {},
   "outputs": [
    {
     "name": "stderr",
     "output_type": "stream",
     "text": [
      "WARNING:root:\t*** In DSPy 2.5, all LM clients except `dspy.LM` are deprecated. ***\n",
      " \t\tYou are using the client GPT3, which will be removed in DSPy 2.6.\n",
      " \t\tChanging the client is straightforward and will let you use new features (Adapters) that improve the consistency of LM outputs, especially when using chat LMs. \n",
      "\n",
      " \t\tLearn more about the changes and how to migrate at\n",
      " \t\thttps://github.com/stanfordnlp/dspy/blob/main/examples/migration.ipynb\n",
      "WARNING:root:\t*** In DSPy 2.5, all LM clients except `dspy.LM` are deprecated. ***\n",
      " \t\tYou are using the client GPT3, which will be removed in DSPy 2.6.\n",
      " \t\tChanging the client is straightforward and will let you use new features (Adapters) that improve the consistency of LM outputs, especially when using chat LMs. \n",
      "\n",
      " \t\tLearn more about the changes and how to migrate at\n",
      " \t\thttps://github.com/stanfordnlp/dspy/blob/main/examples/migration.ipynb\n"
     ]
    },
    {
     "name": "stdout",
     "output_type": "stream",
     "text": [
      "Going to sample between 1 and 8 traces per predictor.\n",
      "Will attempt to bootstrap 2 candidate sets.\n"
     ]
    },
    {
     "name": "stderr",
     "output_type": "stream",
     "text": [
      "WARNING:root:\t*** In DSPy 2.5, all LM clients except `dspy.LM` are deprecated. ***\n",
      " \t\tYou are using the client GPT3, which will be removed in DSPy 2.6.\n",
      " \t\tChanging the client is straightforward and will let you use new features (Adapters) that improve the consistency of LM outputs, especially when using chat LMs. \n",
      "\n",
      " \t\tLearn more about the changes and how to migrate at\n",
      " \t\thttps://github.com/stanfordnlp/dspy/blob/main/examples/migration.ipynb\n",
      "  0%|          | 0/10 [00:00<?, ?it/s]WARNING:root:\t*** In DSPy 2.5, all LM clients except `dspy.LM` are deprecated. ***\n",
      " \t\tYou are using the client GPT3, which will be removed in DSPy 2.6.\n",
      " \t\tChanging the client is straightforward and will let you use new features (Adapters) that improve the consistency of LM outputs, especially when using chat LMs. \n",
      "\n",
      " \t\tLearn more about the changes and how to migrate at\n",
      " \t\thttps://github.com/stanfordnlp/dspy/blob/main/examples/migration.ipynb\n",
      "Average Metric: 6 / 10  (60.0): 100%|██████████| 10/10 [00:00<00:00, 662.90it/s]\n"
     ]
    },
    {
     "name": "stdout",
     "output_type": "stream",
     "text": [
      "New best score: 60.0 for seed -3\n",
      "Scores so far: [60.0]\n",
      "Best score so far: 60.0\n"
     ]
    },
    {
     "name": "stderr",
     "output_type": "stream",
     "text": [
      "Average Metric: 6 / 10  (60.0): 100%|██████████| 10/10 [00:00<00:00, 1298.71it/s]\n"
     ]
    },
    {
     "name": "stdout",
     "output_type": "stream",
     "text": [
      "Scores so far: [60.0, 60.0]\n",
      "Best score so far: 60.0\n"
     ]
    },
    {
     "name": "stderr",
     "output_type": "stream",
     "text": [
      "100%|██████████| 10/10 [00:00<00:00, 1190.35it/s]\n"
     ]
    },
    {
     "name": "stdout",
     "output_type": "stream",
     "text": [
      "Bootstrapped 7 full traces after 10 examples in round 0.\n"
     ]
    },
    {
     "name": "stderr",
     "output_type": "stream",
     "text": [
      "Average Metric: 8 / 10  (80.0): 100%|██████████| 10/10 [00:00<00:00, 2047.10it/s]"
     ]
    },
    {
     "name": "stdout",
     "output_type": "stream",
     "text": [
      "New best score: 80.0 for seed -1\n",
      "Scores so far: [60.0, 60.0, 80.0]\n",
      "Best score so far: 80.0\n"
     ]
    },
    {
     "name": "stderr",
     "output_type": "stream",
     "text": [
      "\n",
      " 70%|███████   | 7/10 [00:00<00:00, 2561.52it/s]\n"
     ]
    },
    {
     "name": "stdout",
     "output_type": "stream",
     "text": [
      "Bootstrapped 7 full traces after 8 examples in round 0.\n"
     ]
    },
    {
     "name": "stderr",
     "output_type": "stream",
     "text": [
      "Average Metric: 8 / 10  (80.0): 100%|██████████| 10/10 [00:00<00:00, 1909.80it/s]\n"
     ]
    },
    {
     "name": "stdout",
     "output_type": "stream",
     "text": [
      "Scores so far: [60.0, 60.0, 80.0, 80.0]\n",
      "Best score so far: 80.0\n"
     ]
    },
    {
     "name": "stderr",
     "output_type": "stream",
     "text": [
      " 40%|████      | 4/10 [00:00<00:00, 2029.42it/s]\n"
     ]
    },
    {
     "name": "stdout",
     "output_type": "stream",
     "text": [
      "Bootstrapped 3 full traces after 5 examples in round 0.\n"
     ]
    },
    {
     "name": "stderr",
     "output_type": "stream",
     "text": [
      "Average Metric: 9 / 10  (90.0): 100%|██████████| 10/10 [00:00<00:00, 1799.90it/s]"
     ]
    },
    {
     "name": "stdout",
     "output_type": "stream",
     "text": [
      "New best score: 90.0 for seed 1\n",
      "Scores so far: [60.0, 60.0, 80.0, 80.0, 90.0]\n",
      "Best score so far: 90.0\n",
      "5 candidate programs found.\n"
     ]
    },
    {
     "name": "stderr",
     "output_type": "stream",
     "text": [
      "\n"
     ]
    }
   ],
   "source": [
    "teleprompter = BootstrapFewShotWithHuman(\n",
    "    metric=gsm8k_metric,\n",
    "    max_bootstrapped_demos=8,\n",
    "    max_labeled_demos=8,\n",
    "    num_candidate_programs=2,\n",
    "    num_threads=NUM_THREADS,\n",
    "    argilla_dataset=rg_dataset,\n",
    ")\n",
    "\n",
    "cot_bs = teleprompter.compile(\n",
    "    student=CoT(),\n",
    "    trainset=trainset[:10],\n",
    "    valset=devset[:10],\n",
    ")"
   ]
  },
  {
   "cell_type": "code",
   "execution_count": 7,
   "metadata": {},
   "outputs": [
    {
     "name": "stderr",
     "output_type": "stream",
     "text": [
      "Average Metric: 14 / 20  (70.0): 100%|██████████| 20/20 [00:00<00:00, 1704.62it/s]\n"
     ]
    },
    {
     "data": {
      "text/plain": [
       "70.0"
      ]
     },
     "execution_count": 7,
     "metadata": {},
     "output_type": "execute_result"
    }
   ],
   "source": [
    "evaluate(cot_bs, devset=devset[:20])"
   ]
  },
  {
   "cell_type": "code",
   "execution_count": 7,
   "metadata": {},
   "outputs": [
    {
     "name": "stdout",
     "output_type": "stream",
     "text": [
      "\n",
      "\n",
      "\n",
      "Given the fields `question`, produce the fields `answer`.\n",
      "\n",
      "---\n",
      "\n",
      "Follow the following format.\n",
      "\n",
      "Question: ${question}\n",
      "Reasoning: Let's think step by step in order to ${produce the answer}. We ...\n",
      "Answer: ${answer}\n",
      "\n",
      "---\n",
      "\n",
      "Question: Mark is baking bread. He has to let it rise for 120 minutes twice. He also needs to spend 10 minutes kneading it and 30 minutes baking it. How many minutes does it take Mark to finish making the bread?\n",
      "Reasoning: Let's think step by step in order to find the total time it takes Mark to finish making the bread. We know that he has to let the bread rise for 120 minutes twice, which is 240 minutes. He also needs to spend 10 minutes kneading it and 30 minutes baking it. Therefore, the total time it takes Mark to finish making the bread is 240 + 10 + 30 = 280 minutes.\n",
      "Answer: 280\n",
      "\n",
      "---\n",
      "\n",
      "Question: Ben has $2000 for his business operations costs. He orders goods from his supplier and writes them a cheque for $600. His debtor pays him $800 from the purchases they had made on credit. Mr. Ben then decides to do equipment maintenance and spends $1200 on the whole operation. How much money is Mr. Ben remaining with?\n",
      "Reasoning: Let's think step by step in order to find the remaining amount of money. We first start with the total amount of money Mr. Ben has, which is $2000. Then, we subtract the amount he spent on goods from his supplier, which is $600. Next, we add the amount he received from his debtor, which is $800. Finally, we subtract the amount he spent on equipment maintenance, which is $1200. We can represent this as $2000 - $600 + $800 - $1200 = $1000.\n",
      "Answer: 1000\n",
      "\n",
      "---\n",
      "\n",
      "Question: Debbie works at a post office packing boxes to mail. Each large box takes 4 feet of packing tape to seal, each medium box takes 2 feet of packing tape to seal, and each small box takes 1 foot of packing tape to seal. Each box also takes 1 foot of packing tape to stick the address label on. Debbie packed two large boxes, eight medium boxes, and five small boxes this afternoon. How much tape did she use?\n",
      "Reasoning: Let's think step by step in order to find the total amount of tape Debbie used. We know that she used 4 feet of tape for each large box, 2 feet of tape for each medium box, and 1 foot of tape for each small box. Therefore, we can calculate the total amount of tape used for each type of box by multiplying the number of boxes by the amount of tape needed for each box. For the large boxes, she used 4 feet of tape for each of the 2 boxes, so she used 8 feet of tape. For the medium boxes, she used 2 feet of tape for each of the 8 boxes, so she used 16 feet of tape. For the small boxes, she used 1 foot of tape for each of the 5 boxes, so she used 5 feet of tape. In total, she used 8 + 16 + 5 = 29 feet of tape. Additionally, she used 1 foot of tape for each box to stick the address label, so she used 15 feet of tape for the 15 boxes. Therefore, the total amount of tape she used is 29 + 15 = 44 feet.\n",
      "Answer: 44 feet\n",
      "\n",
      "---\n",
      "\n",
      "Question: Heloise has dogs and cats in the ratio of 10:17, with the total number of pets being 189. If she gives 10 dogs to her friend Janet, how many dogs does she remain with altogether?\n",
      "Reasoning: Let's think step by step in order to find the number of dogs Heloise remains with. We know that the total number of pets is 189, and the ratio of dogs to cats is 10:17. This means that for every 10 dogs, there are 17 cats. If we divide 189 by 27 (10+17), we get 7. This means that for every 7 sets of 10 dogs and 17 cats, there are 189 pets. Since we are only interested in the number of dogs, we can multiply 7 by 10 to get 70 dogs. If Heloise gives 10 dogs to Janet, she will remain with 70-10 = 60 dogs.\n",
      "Answer: 60\n",
      "\n",
      "---\n",
      "\n",
      "Question: Jorge is 24 years younger than Simon. In 2005, Jorge is 16 years old. In 2010, how old would Simon be?\n",
      "Answer: 45\n",
      "\n",
      "---\n",
      "\n",
      "Question: Sally is selling boxes of crackers for her scout troop's fund-raiser. If she sells 50% more on Sunday than she sold on Saturday, then she'll have sold a total of 150 boxes on the two days. How many boxes did she sell on Saturday?\n",
      "Answer: 60\n",
      "\n",
      "---\n",
      "\n",
      "Question: Audrey is 7 years older than Heracles. In 3 years, Audrey will be twice as old as Heracles is now. How old is Heracles now?\n",
      "Answer: 10\n",
      "\n",
      "---\n",
      "\n",
      "Question: Billy is breeding mice for an experiment. He starts with 8 mice, who each have 6 pups. When the pups grow up, all the mice have another 6 pups. Then each adult mouse eats 2 of their pups due to the stress of overcrowding. How many mice are left?\n",
      "Answer: 280\n",
      "\n",
      "---\n",
      "\n",
      "Question: John plays paintball 3 times a month. Each time he plays he buys 3 boxes of paintballs. They cost $25 per box. How much does he spend a month on paintballs?\n",
      "Reasoning: Let's think step by step in order to\u001b[32m find the total amount of money John spends on paintballs in a month. We know that he plays paintball 3 times a month, and each time he buys 3 boxes of paintballs. This means he buys a total of 9 boxes of paintballs in a month. Each box costs $25, so the total amount he spends on paintballs in a month is 9 x $25 = $225.\n",
      "Answer: $225\u001b[0m\n",
      "\n",
      "\n",
      "\n"
     ]
    },
    {
     "data": {
      "text/plain": [
       "\"\\n\\n\\nGiven the fields `question`, produce the fields `answer`.\\n\\n---\\n\\nFollow the following format.\\n\\nQuestion: ${question}\\nReasoning: Let's think step by step in order to ${produce the answer}. We ...\\nAnswer: ${answer}\\n\\n---\\n\\nQuestion: Mark is baking bread. He has to let it rise for 120 minutes twice. He also needs to spend 10 minutes kneading it and 30 minutes baking it. How many minutes does it take Mark to finish making the bread?\\nReasoning: Let's think step by step in order to find the total time it takes Mark to finish making the bread. We know that he has to let the bread rise for 120 minutes twice, which is 240 minutes. He also needs to spend 10 minutes kneading it and 30 minutes baking it. Therefore, the total time it takes Mark to finish making the bread is 240 + 10 + 30 = 280 minutes.\\nAnswer: 280\\n\\n---\\n\\nQuestion: Ben has $2000 for his business operations costs. He orders goods from his supplier and writes them a cheque for $600. His debtor pays him $800 from the purchases they had made on credit. Mr. Ben then decides to do equipment maintenance and spends $1200 on the whole operation. How much money is Mr. Ben remaining with?\\nReasoning: Let's think step by step in order to find the remaining amount of money. We first start with the total amount of money Mr. Ben has, which is $2000. Then, we subtract the amount he spent on goods from his supplier, which is $600. Next, we add the amount he received from his debtor, which is $800. Finally, we subtract the amount he spent on equipment maintenance, which is $1200. We can represent this as $2000 - $600 + $800 - $1200 = $1000.\\nAnswer: 1000\\n\\n---\\n\\nQuestion: Debbie works at a post office packing boxes to mail. Each large box takes 4 feet of packing tape to seal, each medium box takes 2 feet of packing tape to seal, and each small box takes 1 foot of packing tape to seal. Each box also takes 1 foot of packing tape to stick the address label on. Debbie packed two large boxes, eight medium boxes, and five small boxes this afternoon. How much tape did she use?\\nReasoning: Let's think step by step in order to find the total amount of tape Debbie used. We know that she used 4 feet of tape for each large box, 2 feet of tape for each medium box, and 1 foot of tape for each small box. Therefore, we can calculate the total amount of tape used for each type of box by multiplying the number of boxes by the amount of tape needed for each box. For the large boxes, she used 4 feet of tape for each of the 2 boxes, so she used 8 feet of tape. For the medium boxes, she used 2 feet of tape for each of the 8 boxes, so she used 16 feet of tape. For the small boxes, she used 1 foot of tape for each of the 5 boxes, so she used 5 feet of tape. In total, she used 8 + 16 + 5 = 29 feet of tape. Additionally, she used 1 foot of tape for each box to stick the address label, so she used 15 feet of tape for the 15 boxes. Therefore, the total amount of tape she used is 29 + 15 = 44 feet.\\nAnswer: 44 feet\\n\\n---\\n\\nQuestion: Heloise has dogs and cats in the ratio of 10:17, with the total number of pets being 189. If she gives 10 dogs to her friend Janet, how many dogs does she remain with altogether?\\nReasoning: Let's think step by step in order to find the number of dogs Heloise remains with. We know that the total number of pets is 189, and the ratio of dogs to cats is 10:17. This means that for every 10 dogs, there are 17 cats. If we divide 189 by 27 (10+17), we get 7. This means that for every 7 sets of 10 dogs and 17 cats, there are 189 pets. Since we are only interested in the number of dogs, we can multiply 7 by 10 to get 70 dogs. If Heloise gives 10 dogs to Janet, she will remain with 70-10 = 60 dogs.\\nAnswer: 60\\n\\n---\\n\\nQuestion: Jorge is 24 years younger than Simon. In 2005, Jorge is 16 years old. In 2010, how old would Simon be?\\nAnswer: 45\\n\\n---\\n\\nQuestion: Sally is selling boxes of crackers for her scout troop's fund-raiser. If she sells 50% more on Sunday than she sold on Saturday, then she'll have sold a total of 150 boxes on the two days. How many boxes did she sell on Saturday?\\nAnswer: 60\\n\\n---\\n\\nQuestion: Audrey is 7 years older than Heracles. In 3 years, Audrey will be twice as old as Heracles is now. How old is Heracles now?\\nAnswer: 10\\n\\n---\\n\\nQuestion: Billy is breeding mice for an experiment. He starts with 8 mice, who each have 6 pups. When the pups grow up, all the mice have another 6 pups. Then each adult mouse eats 2 of their pups due to the stress of overcrowding. How many mice are left?\\nAnswer: 280\\n\\n---\\n\\nQuestion: John plays paintball 3 times a month. Each time he plays he buys 3 boxes of paintballs. They cost $25 per box. How much does he spend a month on paintballs?\\nReasoning: Let's think step by step in order to\\x1b[32m find the total amount of money John spends on paintballs in a month. We know that he plays paintball 3 times a month, and each time he buys 3 boxes of paintballs. This means he buys a total of 9 boxes of paintballs in a month. Each box costs $25, so the total amount he spends on paintballs in a month is 9 x $25 = $225.\\nAnswer: $225\\x1b[0m\\n\\n\\n\""
      ]
     },
     "execution_count": 7,
     "metadata": {},
     "output_type": "execute_result"
    }
   ],
   "source": [
    "turbo.inspect_history(n=1)"
   ]
  }
 ],
 "metadata": {
  "kernelspec": {
   "display_name": ".venv",
   "language": "python",
   "name": "python3"
  },
  "language_info": {
   "codemirror_mode": {
    "name": "ipython",
    "version": 3
   },
   "file_extension": ".py",
   "mimetype": "text/x-python",
   "name": "python",
   "nbconvert_exporter": "python",
   "pygments_lexer": "ipython3",
   "version": "3.11.9"
  },
  "orig_nbformat": 4
 },
 "nbformat": 4,
 "nbformat_minor": 2
}
