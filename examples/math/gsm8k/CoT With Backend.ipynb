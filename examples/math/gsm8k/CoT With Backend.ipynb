{
 "cells": [
  {
   "cell_type": "code",
   "execution_count": null,
   "id": "8698d500-a137-4d37-8fc9-9946abe6905a",
   "metadata": {},
   "outputs": [],
   "source": [
    "# %load_ext autoreload\n",
    "# %autoreload 2\n",
    "# import sys; sys.path.append('/future/u/okhattab/repos/public/stanfordnlp/dspy')\n",
    "\n",
    "import dspy\n",
    "from dspy.evaluate import Evaluate\n",
    "from dspy.datasets.gsm8k import GSM8K, gsm8k_metric\n",
    "from dspy.teleprompt import BootstrapFewShotWithRandomSearch\n",
    "from dspy.modeling import JSONBackend"
   ]
  },
  {
   "cell_type": "code",
   "execution_count": null,
   "id": "758e7833-9119-4206-9271-142159f975a2",
   "metadata": {},
   "outputs": [],
   "source": [
    "gms8k = GSM8K()\n",
    "\n",
    "backend = JSONBackend(model=\"gpt-3.5-turbo\", params={\"max_tokens\": 500, \"temperature\": 0.5, \"num_retries\": 5})\n",
    "dspy.settings.configure(backend=backend)\n",
    "\n",
    "trainset, devset = gms8k.train, gms8k.dev"
   ]
  },
  {
   "cell_type": "code",
   "execution_count": null,
   "id": "2721ab68-7566-42f0-a2a5-6dc3fd379e9a",
   "metadata": {},
   "outputs": [],
   "source": [
    "NUM_THREADS = 4\n",
    "evaluate = Evaluate(devset=devset[:], metric=gsm8k_metric, num_threads=NUM_THREADS, display_progress=True, display_table=0)"
   ]
  },
  {
   "cell_type": "code",
   "execution_count": null,
   "id": "9820f6c7-99d4-4275-b6d2-92fc57f51b0d",
   "metadata": {},
   "outputs": [],
   "source": [
    "class CoT(dspy.Module):\n",
    "    def __init__(self):\n",
    "        super().__init__()\n",
    "        self.prog = dspy.ChainOfThought(\"question -> answer\")\n",
    "    \n",
    "    def forward(self, question):\n",
    "        return self.prog(question=question)"
   ]
  },
  {
   "cell_type": "code",
   "execution_count": null,
   "id": "531b410e-6547-4dfe-a8b7-2a3687f1c2c9",
   "metadata": {},
   "outputs": [],
   "source": [
    "RUN_FROM_SCRATCH = True\n",
    "\n",
    "if RUN_FROM_SCRATCH:\n",
    "    config = dict(max_bootstrapped_demos=5, max_labeled_demos=8, num_candidate_programs=5, num_threads=NUM_THREADS)\n",
    "    teleprompter = BootstrapFewShotWithRandomSearch(metric=gsm8k_metric, **config)\n",
    "    cot_bs = teleprompter.compile(CoT(), trainset=trainset, valset=devset)\n",
    "    # cot_bs.save('turbo_8_8_10_gsm8k_200_300.json')\n",
    "else:\n",
    "    cot_bs = CoT()\n",
    "    cot_bs.load('turbo_8_8_10_gsm8k_200_300.json')"
   ]
  },
  {
   "cell_type": "code",
   "execution_count": null,
   "id": "499e1174-e6c5-4a68-ace1-15ec812c2276",
   "metadata": {},
   "outputs": [],
   "source": [
    "evaluate(cot_bs, devset=devset[:])"
   ]
  },
  {
   "cell_type": "code",
   "execution_count": null,
   "id": "7c07fdb2-ab2d-4cec-9606-27ee45f192e7",
   "metadata": {},
   "outputs": [],
   "source": [
    "print(backend.history[-1].prompt.to_str())"
   ]
  },
  {
   "cell_type": "code",
   "execution_count": null,
   "id": "67c1709a-f283-401b-9b58-354aa48c75d2",
   "metadata": {},
   "outputs": [],
   "source": []
  }
 ],
 "metadata": {
  "kernelspec": {
   "display_name": "Python 3 (ipykernel)",
   "language": "python",
   "name": "python3"
  },
  "language_info": {
   "codemirror_mode": {
    "name": "ipython",
    "version": 3
   },
   "file_extension": ".py",
   "mimetype": "text/x-python",
   "name": "python",
   "nbconvert_exporter": "python",
   "pygments_lexer": "ipython3",
   "version": "3.9.18"
  }
 },
 "nbformat": 4,
 "nbformat_minor": 5
}
