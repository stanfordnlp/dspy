{
 "cells": [
  {
   "cell_type": "code",
   "execution_count": 12,
   "metadata": {},
   "outputs": [
    {
     "name": "stdout",
     "output_type": "stream",
     "text": [
      "env: SERPER_API_KEY=YOUR_SERPER_API_KEY\n",
      "env: OPENAI_API_KEY=YOUR_OPENAI_API_KEY\n"
     ]
    }
   ],
   "source": [
    "%env SERPER_API_KEY=YOUR_SERPER_API_KEY\n",
    "%env OPENAI_API_KEY=YOUR_OPENAI_API_KEY"
   ]
  },
  {
   "cell_type": "code",
   "execution_count": 5,
   "metadata": {},
   "outputs": [],
   "source": [
    "import os\n",
    "import dspy\n",
    "\n",
    "from dspy.predict.avatar import Avatar\n",
    "\n",
    "dspy.settings.configure(\n",
    "    lm=dspy.OpenAI(\n",
    "        model=\"gpt-3.5-turbo-0125\",\n",
    "        api_key=os.getenv(\"OPENAI_API_KEY\"),\n",
    "        max_tokens=4000,\n",
    "    )\n",
    ")\n",
    "\n",
    "class QASignature(dspy.Signature):\n",
    "    \"\"\"You will be given a question. Your task is to answer the question.\"\"\"\n",
    "    \n",
    "    question: str = dspy.InputField(\n",
    "        prefix=\"Question:\",\n",
    "        desc=\"question to ask\",\n",
    "        format=lambda x: x.strip(),\n",
    "    )\n",
    "    answer: str = dspy.OutputField(\n",
    "        prefix=\"Answer:\",\n",
    "        desc=\"answer to the question\",\n",
    "    )"
   ]
  },
  {
   "cell_type": "code",
   "execution_count": 8,
   "metadata": {},
   "outputs": [],
   "source": [
    "from dspy.predict.avatar import Tool\n",
    "from langchain_community.utilities import GoogleSerperAPIWrapper, ArxivAPIWrapper\n",
    "\n",
    "tools = [\n",
    "    Tool(\n",
    "        tool=GoogleSerperAPIWrapper(),\n",
    "        name=\"WEB_SEARCH\",\n",
    "        desc=\"Search the web for information to help answer the question.\",\n",
    "    ),\n",
    "    Tool(\n",
    "        tool=ArxivAPIWrapper(),\n",
    "        name=\"ARXIV_SEARCH\",\n",
    "        desc=\"Search the doi through arxiv to get the paper.\"\n",
    "    ),\n",
    "]\n",
    "\n",
    "avatar = Avatar(\n",
    "    QASignature,\n",
    "    tools=tools,\n",
    "    verbose=True,\n",
    ")"
   ]
  },
  {
   "cell_type": "code",
   "execution_count": 9,
   "metadata": {},
   "outputs": [
    {
     "name": "stdout",
     "output_type": "stream",
     "text": [
      "Starting the task...\n",
      "Action 1: WEB_SEARCH (History of the internet)\n",
      "Action 2: Finish (No additional input required)\n",
      "\n",
      "\n",
      "Answer:\n",
      "The Internet started in the 1960s as a way for government researchers to share information. It has its origins in the efforts of scientists and engineers to build and interconnect computer networks.\n"
     ]
    }
   ],
   "source": [
    "answer = avatar(question=\"Give me a brief overview of the history of the internet.\").answer\n",
    "\n",
    "print(f\"\\n\\nAnswer:\\n{answer}\")"
   ]
  },
  {
   "cell_type": "code",
   "execution_count": 10,
   "metadata": {},
   "outputs": [
    {
     "name": "stdout",
     "output_type": "stream",
     "text": [
      "Starting the task...\n",
      "Action 1: ARXIV_SEARCH (2201.00432)\n",
      "Action 2: WEB_SEARCH (titles related to independence polynomials of trees)\n",
      "Action 3: Finish (No further action needed.)\n",
      "\n",
      "\n",
      "Answer:\n",
      "The paper 2201.00432 is titled \"A Linear Algorithm for Computing Independence Polynomials of Trees\" by Ohr Kadrawi, Vadim E. Levit, Ron Yosef, Matan Mizrachi. The paper discusses an efficient algorithm for computing the independence polynomials of trees in linear time without the need for a database. Related papers on the topic include \"On Unimodality of Independence Polynomials of Trees\" and \"An identity for the independence polynomials of trees\" by Ivan Gutman.\n"
     ]
    }
   ],
   "source": [
    "answer = avatar(question=\"Summarize 2201.00432 for me and share titles for related papers on web.\").answer\n",
    "      \n",
    "print(f\"\\n\\nAnswer:\\n{answer}\")"
   ]
  },
  {
   "cell_type": "code",
   "execution_count": null,
   "metadata": {},
   "outputs": [],
   "source": []
  }
 ],
 "metadata": {
  "kernelspec": {
   "display_name": "dspy-74wouE_3-py3.10",
   "language": "python",
   "name": "python3"
  },
  "language_info": {
   "codemirror_mode": {
    "name": "ipython",
    "version": 3
   },
   "file_extension": ".py",
   "mimetype": "text/x-python",
   "name": "python",
   "nbconvert_exporter": "python",
   "pygments_lexer": "ipython3",
   "version": "3.10.12"
  }
 },
 "nbformat": 4,
 "nbformat_minor": 2
}
