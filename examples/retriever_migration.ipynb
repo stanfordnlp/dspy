{
 "cells": [
  {
   "cell_type": "markdown",
   "metadata": {},
   "source": [
    "### dspy.Retriever Interface\n",
    "This notebook demonstrates how to use the `dspy.Retriever` interface for custom retriever integrations.\n",
    "\n",
    "**Supported Integrations**: ColBERTv2, Databricks, FAISS, Milvus, Pinecone, Weaviate\n"
   ]
  },
  {
   "cell_type": "code",
   "execution_count": 1,
   "metadata": {},
   "outputs": [
    {
     "name": "stdout",
     "output_type": "stream",
     "text": [
      "[{'text': 'David Gregory (physician) | David Gregory (20 December 1625 – 1720) was a Scottish physician and inventor. His surname is sometimes spelt as Gregorie, the original Scottish spelling. He inherited Kinnairdy Castle in 1664. Three of his twenty-nine children became mathematics professors. He is credited with inventing a military cannon that Isaac Newton described as \"being destructive to the human species\". Copies and details of the model no longer exist. Gregory\\'s use of a barometer to predict farming-related weather conditions led him to be accused of witchcraft by Presbyterian ministers from Aberdeen, although he was never convicted.', 'pid': 3296134, 'rank': 1, 'score': 23.595149993896484, 'prob': 0.9494133657446476, 'long_text': 'David Gregory (physician) | David Gregory (20 December 1625 – 1720) was a Scottish physician and inventor. His surname is sometimes spelt as Gregorie, the original Scottish spelling. He inherited Kinnairdy Castle in 1664. Three of his twenty-nine children became mathematics professors. He is credited with inventing a military cannon that Isaac Newton described as \"being destructive to the human species\". Copies and details of the model no longer exist. Gregory\\'s use of a barometer to predict farming-related weather conditions led him to be accused of witchcraft by Presbyterian ministers from Aberdeen, although he was never convicted.'}, {'text': 'David Gregory (mathematician) | David Gregory (originally spelt Gregorie) FRS (? 1659 – 10 October 1708) was a Scottish mathematician and astronomer. He was professor of mathematics at the University of Edinburgh, Savilian Professor of Astronomy at the University of Oxford, and a commentator on Isaac Newton\\'s \"Principia\".', 'pid': 1499187, 'rank': 2, 'score': 19.923200607299805, 'prob': 0.024140595827172887, 'long_text': 'David Gregory (mathematician) | David Gregory (originally spelt Gregorie) FRS (? 1659 – 10 October 1708) was a Scottish mathematician and astronomer. He was professor of mathematics at the University of Edinburgh, Savilian Professor of Astronomy at the University of Oxford, and a commentator on Isaac Newton\\'s \"Principia\".'}, {'text': 'David Gregory (historian) | David Gregory (1696–1767) was an English churchman and academic, Dean of Christ Church, Oxford and the first Regius Professor of Modern History at Oxford.', 'pid': 1943433, 'rank': 3, 'score': 19.197763442993164, 'prob': 0.011686773511174484, 'long_text': 'David Gregory (historian) | David Gregory (1696–1767) was an English churchman and academic, Dean of Christ Church, Oxford and the first Regius Professor of Modern History at Oxford.'}, {'text': 'David Gregory (Royal Navy officer) | Vice Admiral Sir George David Archibald Gregory & Bar (8 October 1909 – 21 March 1975) was a Royal Navy officer who became Flag Officer, Scotland and Northern Ireland.', 'pid': 4237441, 'rank': 4, 'score': 18.8070011138916, 'prob': 0.007906580631912762, 'long_text': 'David Gregory (Royal Navy officer) | Vice Admiral Sir George David Archibald Gregory & Bar (8 October 1909 – 21 March 1975) was a Royal Navy officer who became Flag Officer, Scotland and Northern Ireland.'}, {'text': 'David Gregory (footballer, born 1951) | David Harry Gregory (born 6 October 1951) is an English former footballer who played in the Football League for Blackburn Rovers, Bury, Peterborough United, Portsmouth, Stoke City and Wrexham.', 'pid': 4276505, 'rank': 5, 'score': 18.6639461517334, 'prob': 0.006852684285092242, 'long_text': 'David Gregory (footballer, born 1951) | David Harry Gregory (born 6 October 1951) is an English former footballer who played in the Football League for Blackburn Rovers, Bury, Peterborough United, Portsmouth, Stoke City and Wrexham.'}]\n"
     ]
    }
   ],
   "source": [
    "import dspy\n",
    "\n",
    "\n",
    "results = dspy.ColBERTv2(url='http://20.102.90.50:2017/wiki17_abstracts')(\"What's the name of the castle that David Gregory inherited?\", k=5).passages\n",
    "print(results)"
   ]
  },
  {
   "cell_type": "markdown",
   "metadata": {},
   "source": [
    "You can create and configure your custom retrievers by implementing this interface.\n"
   ]
  },
  {
   "cell_type": "code",
   "execution_count": null,
   "metadata": {},
   "outputs": [],
   "source": [
    "class MyRetriever(dspy.Retriever):\n",
    "    def __init__(self, embedder: dspy.Embedding, k: int = 5, cache: bool = False):\n",
    "        # embedder: dspy.Embedding class to specify (1) embedding model and/or (2) embedding_function to perform any embedding computation\n",
    "        # k: number of top query results to return.\n",
    "        # cache: enable for query caching. (default is disabled)\n",
    "        super().__init__(embedder=embedder, k=k, cache=cache)\n",
    "\n",
    "    def forward(self, query, k):\n",
    "        embeddings = self.embedder([query])\n",
    "\n",
    "        #include custom logic here if your retriever supports a custom client, index, vector store, etc. \n",
    "        results = [\n",
    "            {\"passage\": f\"Mock passage {i+1} for query '{query}'\", \"doc_id\": i, \"score\": 1.0 / (i + 1)}\n",
    "            for i in range(k)\n",
    "        ]\n",
    "        passages = [res[\"passage\"] for res in results]\n",
    "        doc_ids = [res[\"doc_id\"] for res in results]\n",
    "        scores = [res[\"score\"] for res in results]\n",
    "        return dspy.Prediction(passages=passages, doc_ids=doc_ids, scores=scores)\n",
    "\n",
    "embedder=dspy.Embedding(embedding_model=\"openai/text-embedding-3-small\")\n",
    "retriever = MyRetriever(embedder=embedder, k=10, cache=True)\n",
    "\n",
    "result = retriever(\"What's the name of the castle that David Gregory inherited?\")\n",
    "print(result.passages)"
   ]
  },
  {
   "cell_type": "markdown",
   "metadata": {},
   "source": [
    "With this integration, you can easily configure retrievers in DSPy programs and pipelines.\n",
    "\n",
    "This example demonstrates a multi-hop program that declares layers for different modules and a retrievers to compose the system."
   ]
  },
  {
   "cell_type": "code",
   "execution_count": null,
   "metadata": {},
   "outputs": [],
   "source": [
    "class MultiHop(dspy.Module):\n",
    "    def __init__(self, retriever, passages_per_hop):\n",
    "        super().__init__()\n",
    "        self.retrieve = retriever(k=passages_per_hop) \n",
    "        self.generate_query = dspy.ChainOfThought(\"context ,question->search_query\")\n",
    "        self.generate_answer = dspy.ChainOfThought(\"context ,question->answer\")\n",
    "\n",
    "    def forward(self, question):\n",
    "        context = []\n",
    "        for hop in range(2):\n",
    "            query = self.generate_query(context=context, question=question).search_query\n",
    "            context += self.retrieve(query).passages\n",
    "        return dspy.Prediction(\n",
    "            context=context,\n",
    "            answer=self.generate_answer(context=context, question=question).answer,\n",
    "        )\n",
    "    \n",
    "embedder=dspy.Embedding(embedding_model=\"openai/text-embedding-3-small\")\n",
    "\n",
    "multihop = MultiHop(retriever=MyRetriever(embedder=embedder, cache=True), passages_per_hop=3)\n",
    "result = multihop(question = \"What's the name of the castle that David Gregory inherited?\")\n",
    "\n",
    "print(result.context)\n",
    "print(result.answer)"
   ]
  }
 ],
 "metadata": {
  "kernelspec": {
   "display_name": "NEW_DSPY",
   "language": "python",
   "name": "python3"
  },
  "language_info": {
   "codemirror_mode": {
    "name": "ipython",
    "version": 3
   },
   "file_extension": ".py",
   "mimetype": "text/x-python",
   "name": "python",
   "nbconvert_exporter": "python",
   "pygments_lexer": "ipython3",
   "version": "3.10.13"
  }
 },
 "nbformat": 4,
 "nbformat_minor": 2
}
