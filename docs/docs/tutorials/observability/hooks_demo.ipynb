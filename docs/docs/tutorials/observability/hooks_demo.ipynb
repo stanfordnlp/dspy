{
 "cells": [
  {
   "cell_type": "markdown",
   "id": "d3621c0a",
   "metadata": {},
   "source": [
    "# Hooks demo"
   ]
  },
  {
   "cell_type": "code",
   "execution_count": null,
   "id": "35aa5b4b",
   "metadata": {
    "lines_to_next_cell": 1
   },
   "outputs": [],
   "source": [
    "import types\n",
    "import dspy\n",
    "from dspy.utils.callback import BaseCallback"
   ]
  },
  {
   "cell_type": "markdown",
   "id": "59ace464",
   "metadata": {},
   "source": [
    "We define a callback that records events from three key hook families. It\n",
    "captures the raw provider response object, the raw completion text right\n",
    "before adapter parsing, and retry start/end signals with attempt metadata."
   ]
  },
  {
   "cell_type": "code",
   "execution_count": null,
   "id": "73a156d2",
   "metadata": {
    "lines_to_next_cell": 1
   },
   "outputs": [],
   "source": [
    "class DemoCallback(BaseCallback):\n",
    "    def __init__(self):\n",
    "        self.events = []\n",
    "\n",
    "    def on_adapter_parse_start(self, call_id, instance, inputs):\n",
    "        c = inputs.get(\"completion\", \"\") if isinstance(inputs, dict) else \"\"\n",
    "        self.events.append((\"adapter.parse.start\", len(c)))\n",
    "        print({\"event\": \"adapter.parse.start\", \"chars\": len(c)})\n",
    "\n",
    "    def on_retry_start(self, call_id, instance, attempt, reason=None, parent_call_id=None):\n",
    "        self.events.append((\"retry.start\", attempt, reason))\n",
    "        print({\"event\": \"retry.start\", \"attempt\": attempt, \"reason\": reason})\n",
    "\n",
    "    def on_retry_end(self, call_id, outputs, exception):\n",
    "        self.events.append((\"retry.end\", exception is None))\n",
    "        print({\"event\": \"retry.end\", \"success\": exception is None})"
   ]
  },
  {
   "cell_type": "markdown",
   "id": "5d5d5d60",
   "metadata": {},
   "source": [
    "Next, we define a tiny provider-compatible response and a dummy LM. The LM\n",
    "returns a single chat message containing a JSON string so the JSON adapter\n",
    "can parse to the expected output field format reliably in offline runs."
   ]
  },
  {
   "cell_type": "code",
   "execution_count": null,
   "id": "5ef34b4b",
   "metadata": {
    "lines_to_next_cell": 1
   },
   "outputs": [],
   "source": [
    "class DummyResponse:\n",
    "    def __init__(self, text):\n",
    "        self.choices = [types.SimpleNamespace(message=types.SimpleNamespace(content=text))]\n",
    "        self.usage = {\"prompt_tokens\": 1, \"completion_tokens\": 1}\n",
    "        self.model = \"dummy-model\"\n",
    "\n",
    "class DummyLM(dspy.BaseLM):\n",
    "    def forward(self, prompt=None, messages=None, **kwargs):\n",
    "        return DummyResponse(text='{\"a\": \"hello\"}')"
   ]
  },
  {
   "cell_type": "markdown",
   "id": "c5e4f2be",
   "metadata": {},
   "source": [
    "We configure DSPy to use the dummy LM and the JSON adapter to ensure that the\n",
    "raw completion string is valid JSON and maps to the signature output fields.\n",
    "We also register our callback to observe the hook events during execution."
   ]
  },
  {
   "cell_type": "code",
   "execution_count": null,
   "id": "49ecb4e7",
   "metadata": {},
   "outputs": [],
   "source": [
    "dspy.configure(\n",
    "    lm=DummyLM(model=\"dummy-model\"),\n",
    "    adapter=dspy.JSONAdapter(),\n",
    "    callbacks=[DemoCallback()],\n",
    ")"
   ]
  },
  {
   "cell_type": "markdown",
   "id": "d9da1e2a",
   "metadata": {},
   "source": [
    "The raw provider response hook fires as soon as the LM returns, before any\n",
    "processing or parsing is performed. Calling the LM directly triggers it."
   ]
  },
  {
   "cell_type": "code",
   "execution_count": null,
   "id": "4d809115",
   "metadata": {},
   "outputs": [],
   "source": [
    "lm = dspy.settings.lm\n",
    "_ = lm(prompt=\"hi\")"
   ]
  },
  {
   "cell_type": "markdown",
   "id": "0819d256",
   "metadata": {},
   "source": [
    "The raw completion hook is emitted right before adapters parse the LM output.\n",
    "Running a simple predictor produces a valid JSON output that can be parsed."
   ]
  },
  {
   "cell_type": "code",
   "execution_count": null,
   "id": "d69fa771",
   "metadata": {},
   "outputs": [],
   "source": [
    "pred = dspy.Predict(\"q->a\")\n",
    "res = pred(q=\"hello\")\n",
    "print(res)"
   ]
  },
  {
   "cell_type": "markdown",
   "id": "c2692d4e",
   "metadata": {},
   "source": [
    "Retry hooks are emitted by multi-try modules such as BestOfN and Refine. We\n",
    "force retries by using a reward function that always returns a low score."
   ]
  },
  {
   "cell_type": "code",
   "execution_count": null,
   "id": "66f90b3b",
   "metadata": {},
   "outputs": [],
   "source": [
    "mod = dspy.Predict(\"q->a\")\n",
    "bon = dspy.BestOfN(module=mod, N=2, reward_fn=lambda args, pr: 0.0, threshold=1.0)\n",
    "try:\n",
    "    _ = bon(q=\"force\")\n",
    "except Exception:\n",
    "    pass"
   ]
  }
 ],
 "metadata": {
  "jupytext": {
   "cell_metadata_filter": "-all",
   "main_language": "python",
   "notebook_metadata_filter": "-all"
  },
  "kernelspec": {
   "display_name": ".venv",
   "language": "python",
   "name": "python3"
  },
  "language_info": {
   "name": "python",
   "version": "3.12.11"
  }
 },
 "nbformat": 4,
 "nbformat_minor": 5
}
