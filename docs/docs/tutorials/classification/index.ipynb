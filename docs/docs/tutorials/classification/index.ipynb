{
 "cells": [
  {
   "cell_type": "markdown",
   "metadata": {
    "application/vnd.databricks.v1+cell": {
     "cellMetadata": {
      "byteLimit": 2048000,
      "rowLimit": 10000
     },
     "inputWidgets": {},
     "nuid": "7dd30846-ced7-4666-bbce-e5cc6571fde9",
     "showTitle": false,
     "tableResultSettingsMap": {},
     "title": ""
    }
   },
   "source": [
    "# Text Classification with DSPy\n",
    "\n",
    "This guide will walk you through building a text classification pipeline using DSPy and demonstrate how DSPy’s automatic prompt optimization can enhance text classification performance."
   ]
  },
  {
   "cell_type": "markdown",
   "metadata": {
    "application/vnd.databricks.v1+cell": {
     "cellMetadata": {
      "byteLimit": 2048000,
      "rowLimit": 10000
     },
     "inputWidgets": {},
     "nuid": "b6fbf4d8-17c2-41a9-b96b-074a414e07ae",
     "showTitle": false,
     "tableResultSettingsMap": {},
     "title": ""
    }
   },
   "source": [
    "Before we get started, let's install the necesssary packages."
   ]
  },
  {
   "cell_type": "code",
   "execution_count": 0,
   "metadata": {
    "application/vnd.databricks.v1+cell": {
     "cellMetadata": {
      "byteLimit": 2048000,
      "rowLimit": 10000
     },
     "inputWidgets": {},
     "nuid": "b3880c23-a592-43ea-b2e2-bca1e397f414",
     "showTitle": false,
     "tableResultSettingsMap": {},
     "title": ""
    }
   },
   "outputs": [
    {
     "output_type": "stream",
     "name": "stdout",
     "output_type": "stream",
     "text": [
      "\u001B[31mERROR: pip's dependency resolver does not currently take into account all the packages that are installed. This behaviour is the source of the following dependency conflicts.\nydata-profiling 4.5.1 requires pydantic<2,>=1.8.1, but you have pydantic 2.9.2 which is incompatible.\nopentelemetry-api 1.27.0 requires importlib-metadata<=8.4.0,>=6.0, but you have importlib-metadata 8.5.0 which is incompatible.\nmlflow-skinny 2.15.1 requires importlib-metadata!=4.7.0,<8,>=3.7.0, but you have importlib-metadata 8.5.0 which is incompatible.\nlangchain 0.1.20 requires tenacity<9.0.0,>=8.1.0, but you have tenacity 9.0.0 which is incompatible.\nlangchain-core 0.1.52 requires packaging<24.0,>=23.2, but you have packaging 24.1 which is incompatible.\nlangchain-core 0.1.52 requires tenacity<9.0.0,>=8.1.0, but you have tenacity 9.0.0 which is incompatible.\nlangchain-community 0.0.38 requires tenacity<9.0.0,>=8.1.0, but you have tenacity 9.0.0 which is incompatible.\ncomposer 0.23.5 requires importlib-metadata<7,>=5.0.0, but you have importlib-metadata 8.5.0 which is incompatible.\u001B[0m\u001B[31m\n\u001B[0m\u001B[43mNote: you may need to restart the kernel using %restart_python or dbutils.library.restartPython() to use updated packages.\u001B[0m\n"
     ]
    }
   ],
   "source": [
    "!pip install -q dspy datasets\n",
    "%restart_python"
   ]
  },
  {
   "cell_type": "markdown",
   "metadata": {
    "application/vnd.databricks.v1+cell": {
     "cellMetadata": {},
     "inputWidgets": {},
     "nuid": "1347f66f-326b-4ba0-9a11-18b92bcad5c0",
     "showTitle": false,
     "tableResultSettingsMap": {},
     "title": ""
    }
   },
   "source": [
    "In this guide we will use OpenAI gpt-4o-mini model, let's set up the OpenAI credentials."
   ]
  },
  {
   "cell_type": "code",
   "execution_count": 0,
   "metadata": {
    "application/vnd.databricks.v1+cell": {
     "cellMetadata": {
      "byteLimit": 2048000,
      "rowLimit": 10000
     },
     "inputWidgets": {},
     "nuid": "f9df8dc0-38a8-44f2-b424-ba408e21b109",
     "showTitle": false,
     "tableResultSettingsMap": {},
     "title": ""
    }
   },
   "outputs": [
    {
     "output_type": "display_data",
     "data": {
      "text/plain": [
       "Please enter your OpenAI API key:  [REDACTED]"
      ]
     },
     "metadata": {},
     "output_type": "display_data"
    }
   ],
   "source": [
    "\n",
    "import getpass\n",
    "import os\n",
    "\n",
    "openai_key = getpass.getpass(\"Please enter your OpenAI API key: \")\n",
    "os.environ[\"OPENAI_API_KEY\"] = openai_key"
   ]
  },
  {
   "cell_type": "markdown",
   "metadata": {
    "application/vnd.databricks.v1+cell": {
     "cellMetadata": {
      "byteLimit": 2048000,
      "rowLimit": 10000
     },
     "inputWidgets": {},
     "nuid": "1f5eefa2-bccc-41da-8479-f631662b5863",
     "showTitle": false,
     "tableResultSettingsMap": {},
     "title": ""
    }
   },
   "source": [
    "Import dependencies."
   ]
  },
  {
   "cell_type": "code",
   "execution_count": 0,
   "metadata": {
    "application/vnd.databricks.v1+cell": {
     "cellMetadata": {
      "byteLimit": 2048000,
      "rowLimit": 10000
     },
     "inputWidgets": {},
     "nuid": "82afa1ba-cd72-4d6f-9c31-317cfa24ebce",
     "showTitle": false,
     "tableResultSettingsMap": {},
     "title": ""
    }
   },
   "outputs": [],
   "source": [
    "import dspy\n",
    "import random\n",
    "from datasets import load_dataset\n",
    "from typing import Literal"
   ]
  },
  {
   "cell_type": "markdown",
   "metadata": {
    "application/vnd.databricks.v1+cell": {
     "cellMetadata": {},
     "inputWidgets": {},
     "nuid": "64b29886-f35e-4b9c-9a10-d5618bc0d330",
     "showTitle": false,
     "tableResultSettingsMap": {},
     "title": ""
    }
   },
   "source": [
    "## Prepare The Dataset\n",
    "\n",
    "In this guide, we will use the [Banking77 dataset](https://huggingface.co/datasets/PolyAI/banking77), a 77-class text classification dataset focused on banking topics. Let's load the dataset from the HuggingFace hub."
   ]
  },
  {
   "cell_type": "code",
   "execution_count": 0,
   "metadata": {
    "application/vnd.databricks.v1+cell": {
     "cellMetadata": {
      "byteLimit": 2048000,
      "rowLimit": 10000
     },
     "inputWidgets": {},
     "nuid": "afc7e388-f6d6-4f6a-9f3f-98dd07ec1b10",
     "showTitle": false,
     "tableResultSettingsMap": {},
     "title": ""
    }
   },
   "outputs": [
    {
     "output_type": "stream",
     "name": "stderr",
     "output_type": "stream",
     "text": [
      "/databricks/python_shell/lib/dbruntime/huggingface_patches/datasets.py:45: UserWarning: The cache_dir for this dataset is /root/.cache, which is not a persistent path.Therefore, if/when the cluster restarts, the downloaded dataset will be lost.The persistent storage options for this workspace/cluster config are: [DBFS, UC Volumes].Please update either `cache_dir` or the environment variable `HF_DATASETS_CACHE`to be under one of the following root directories: ['/dbfs/', '/Volumes/']\n  warnings.warn(warning_message)\n"
     ]
    },
    {
     "output_type": "display_data",
     "data": {
      "application/vnd.jupyter.widget-view+json": {
       "model_id": "9f1942b814e4404a9e28d77bcdcb15ce",
       "version_major": 2,
       "version_minor": 0
      },
      "text/plain": [
       "Downloading builder script:   0%|          | 0.00/7.17k [00:00<?, ?B/s]"
      ]
     },
     "metadata": {},
     "output_type": "display_data"
    },
    {
     "output_type": "display_data",
     "data": {
      "application/vnd.jupyter.widget-view+json": {
       "model_id": "9b246c0cbf4d4fc6915348bd54dec2b4",
       "version_major": 2,
       "version_minor": 0
      },
      "text/plain": [
       "Downloading metadata:   0%|          | 0.00/5.89k [00:00<?, ?B/s]"
      ]
     },
     "metadata": {},
     "output_type": "display_data"
    },
    {
     "output_type": "display_data",
     "data": {
      "application/vnd.jupyter.widget-view+json": {
       "model_id": "bf3035423bac49afa6fbaf2a653a70ab",
       "version_major": 2,
       "version_minor": 0
      },
      "text/plain": [
       "Downloading readme:   0%|          | 0.00/9.78k [00:00<?, ?B/s]"
      ]
     },
     "metadata": {},
     "output_type": "display_data"
    },
    {
     "output_type": "stream",
     "name": "stderr",
     "output_type": "stream",
     "text": [
      "/databricks/python_shell/lib/dbruntime/huggingface_patches/datasets.py:14: UserWarning: During large dataset downloads, there could be multiple progress bar widgets that can cause performance issues for your notebook or browser. To avoid these issues, use `datasets.utils.logging.disable_progress_bar()` to turn off the progress bars.\n  warnings.warn(\n"
     ]
    },
    {
     "output_type": "display_data",
     "data": {
      "application/vnd.jupyter.widget-view+json": {
       "model_id": "9c8e7c15485d41e383cd27fdbbe27b18",
       "version_major": 2,
       "version_minor": 0
      },
      "text/plain": [
       "Downloading data:   0%|          | 0.00/158k [00:00<?, ?B/s]"
      ]
     },
     "metadata": {},
     "output_type": "display_data"
    },
    {
     "output_type": "display_data",
     "data": {
      "application/vnd.jupyter.widget-view+json": {
       "model_id": "68ff0aadd4734ed0bd17802c935511e7",
       "version_major": 2,
       "version_minor": 0
      },
      "text/plain": [
       "Downloading data:   0%|          | 0.00/51.1k [00:00<?, ?B/s]"
      ]
     },
     "metadata": {},
     "output_type": "display_data"
    },
    {
     "output_type": "display_data",
     "data": {
      "application/vnd.jupyter.widget-view+json": {
       "model_id": "bf28c34774b6486487d3fe6c12243c34",
       "version_major": 2,
       "version_minor": 0
      },
      "text/plain": [
       "Generating train split:   0%|          | 0/10003 [00:00<?, ? examples/s]"
      ]
     },
     "metadata": {},
     "output_type": "display_data"
    },
    {
     "output_type": "display_data",
     "data": {
      "application/vnd.jupyter.widget-view+json": {
       "model_id": "ff9584ea42f04c8c9f41f392f0a50c1d",
       "version_major": 2,
       "version_minor": 0
      },
      "text/plain": [
       "Generating test split:   0%|          | 0/3080 [00:00<?, ? examples/s]"
      ]
     },
     "metadata": {},
     "output_type": "display_data"
    },
    {
     "output_type": "stream",
     "name": "stderr",
     "output_type": "stream",
     "text": [
      "/databricks/python_shell/lib/dbruntime/huggingface_patches/datasets.py:45: UserWarning: The cache_dir for this dataset is /root/.cache, which is not a persistent path.Therefore, if/when the cluster restarts, the downloaded dataset will be lost.The persistent storage options for this workspace/cluster config are: [DBFS, UC Volumes].Please update either `cache_dir` or the environment variable `HF_DATASETS_CACHE`to be under one of the following root directories: ['/dbfs/', '/Volumes/']\n  warnings.warn(warning_message)\n/databricks/python_shell/lib/dbruntime/huggingface_patches/datasets.py:14: UserWarning: During large dataset downloads, there could be multiple progress bar widgets that can cause performance issues for your notebook or browser. To avoid these issues, use `datasets.utils.logging.disable_progress_bar()` to turn off the progress bars.\n  warnings.warn(\n"
     ]
    }
   ],
   "source": [
    "trainset_hf = load_dataset(\"PolyAI/banking77\", split=\"train\", trust_remote_code=True)\n",
    "valset_hf = load_dataset(\"PolyAI/banking77\", split=\"test\", trust_remote_code=True)"
   ]
  },
  {
   "cell_type": "markdown",
   "metadata": {
    "application/vnd.databricks.v1+cell": {
     "cellMetadata": {},
     "inputWidgets": {},
     "nuid": "df4caaf1-c5e2-41ea-8162-cf60be11dffa",
     "showTitle": false,
     "tableResultSettingsMap": {},
     "title": ""
    }
   },
   "source": [
    "### Convert Dataset to DSPy Dataset\n",
    "\n",
    "In order to use the dataset in DSPy optimization or evaluation phase, we need to convert the dataset into DSPy dataset. The easiest way is converting the dataset into a list of `dspy.Example`, for a complete guide on how to prepare DSPy dataset, please refer to [this guide](https://dspy.ai/building-blocks/4-data/).\n",
    "\n",
    "Each training data will have 3 fields: `text`, `hint` and `label`, with `hint` and `label` both set as the golden label's text representation, e.g., \"virtual_card_not_working\". Each validation data will only have `text` and `label`."
   ]
  },
  {
   "cell_type": "code",
   "execution_count": 0,
   "metadata": {
    "application/vnd.databricks.v1+cell": {
     "cellMetadata": {
      "byteLimit": 2048000,
      "rowLimit": 10000
     },
     "inputWidgets": {},
     "nuid": "4b2b7f69-2a82-4aa4-adf1-3f2398d16266",
     "showTitle": false,
     "tableResultSettingsMap": {},
     "title": ""
    }
   },
   "outputs": [],
   "source": [
    "CLASSES = trainset_hf.features[\"label\"].names\n",
    "\n",
    "trainset = []\n",
    "valset = []\n",
    "\n",
    "for text, label in zip(trainset_hf[\"text\"], trainset_hf[\"label\"]):\n",
    "    trainset.append(dspy.Example(text=text, hint=CLASSES[label], label=CLASSES[label]).with_inputs(\"text\", \"hint\"))\n",
    "\n",
    "for text, label in zip(valset_hf[\"text\"], valset_hf[\"label\"]):\n",
    "    valset.append(dspy.Example(text=text, label=CLASSES[label]).with_inputs(\"text\"))\n",
    "\n",
    "# Shuffle the dataset.\n",
    "random.Random(0).shuffle(trainset)\n",
    "random.Random(0).shuffle(valset)"
   ]
  },
  {
   "cell_type": "markdown",
   "metadata": {
    "application/vnd.databricks.v1+cell": {
     "cellMetadata": {
      "byteLimit": 2048000,
      "rowLimit": 10000
     },
     "inputWidgets": {},
     "nuid": "2035329d-aaaa-44dc-bf8c-888aad37070d",
     "showTitle": false,
     "tableResultSettingsMap": {},
     "title": ""
    }
   },
   "source": [
    "## Build Your Model\n",
    "\n",
    "Now let's build our text classifier. In this guide we will build a simple model with a single `dspy.ChainOfThoughtWithHint` module. We enforce the output label to be one of the predefined `CLASSES`, by adding `type_=Literal[tuple(CLASSES)]` to the sigature."
   ]
  },
  {
   "cell_type": "code",
   "execution_count": 0,
   "metadata": {
    "application/vnd.databricks.v1+cell": {
     "cellMetadata": {
      "byteLimit": 2048000,
      "rowLimit": 10000
     },
     "inputWidgets": {},
     "nuid": "b9d9a08b-cda2-4def-94c0-382829f3b224",
     "showTitle": false,
     "tableResultSettingsMap": {},
     "title": ""
    }
   },
   "outputs": [],
   "source": [
    "signature = dspy.Signature(\"text -> label\").with_updated_fields('label', type_=Literal[tuple(CLASSES)])\n",
    "classifier = dspy.ChainOfThoughtWithHint(signature)"
   ]
  },
  {
   "cell_type": "markdown",
   "metadata": {
    "application/vnd.databricks.v1+cell": {
     "cellMetadata": {},
     "inputWidgets": {},
     "nuid": "55ee9b41-ced6-4efb-88f5-e578c73b735d",
     "showTitle": false,
     "tableResultSettingsMap": {},
     "title": ""
    }
   },
   "source": [
    "Let's not forget configuring the LM we want to use, in this guide we will OpenAI's gpt-4o-mini."
   ]
  },
  {
   "cell_type": "code",
   "execution_count": 0,
   "metadata": {
    "application/vnd.databricks.v1+cell": {
     "cellMetadata": {
      "byteLimit": 2048000,
      "rowLimit": 10000
     },
     "inputWidgets": {},
     "nuid": "1accf04b-6c84-43e0-b88b-f44c64b56999",
     "showTitle": false,
     "tableResultSettingsMap": {},
     "title": ""
    }
   },
   "outputs": [],
   "source": [
    "dspy.settings.configure(lm=dspy.LM(\"openai/gpt-4o-mini\"))"
   ]
  },
  {
   "cell_type": "markdown",
   "metadata": {
    "application/vnd.databricks.v1+cell": {
     "cellMetadata": {},
     "inputWidgets": {},
     "nuid": "b23df077-6f3b-4ee6-b9b0-4199de73a8b5",
     "showTitle": false,
     "tableResultSettingsMap": {},
     "title": ""
    }
   },
   "source": [
    "Let's try out our classifier on sample input."
   ]
  },
  {
   "cell_type": "code",
   "execution_count": 0,
   "metadata": {
    "application/vnd.databricks.v1+cell": {
     "cellMetadata": {},
     "inputWidgets": {},
     "nuid": "f23c1dab-f975-41aa-bbc9-5b65b4ca6912",
     "showTitle": false,
     "tableResultSettingsMap": {},
     "title": ""
    }
   },
   "outputs": [],
   "source": [
    "classifier(**valset[0].inputs())"
   ]
  },
  {
   "cell_type": "markdown",
   "metadata": {
    "application/vnd.databricks.v1+cell": {
     "cellMetadata": {},
     "inputWidgets": {},
     "nuid": "f9c1276e-6348-461d-aed8-c69a6e45d008",
     "showTitle": false,
     "tableResultSettingsMap": {},
     "title": ""
    }
   },
   "source": [
    "## Optimize your Model\n",
    "\n",
    "Now let's start optimizing the model！"
   ]
  },
  {
   "cell_type": "markdown",
   "metadata": {
    "application/vnd.databricks.v1+cell": {
     "cellMetadata": {},
     "inputWidgets": {},
     "nuid": "2648fe36-c434-4270-935a-9b1338dc2b2a",
     "showTitle": false,
     "tableResultSettingsMap": {},
     "title": ""
    }
   },
   "source": [
    "### Define Scoring Metric and Run Evaluation\n",
    "\n",
    "Before optimization, let's run an evaluation to see how our model performs without any sort of optimization. For text classification, the metric is simply accuracy."
   ]
  },
  {
   "cell_type": "code",
   "execution_count": 0,
   "metadata": {
    "application/vnd.databricks.v1+cell": {
     "cellMetadata": {
      "byteLimit": 2048000,
      "rowLimit": 10000
     },
     "inputWidgets": {},
     "nuid": "cce2d4ec-b0ec-4cb8-aca5-4534d591da72",
     "showTitle": false,
     "tableResultSettingsMap": {},
     "title": ""
    }
   },
   "outputs": [],
   "source": [
    "def accuracy(example, pred, trace=None):\n",
    "    try:\n",
    "        return int(example.label == pred.label)\n",
    "    except:\n",
    "        return 0"
   ]
  },
  {
   "cell_type": "code",
   "execution_count": 0,
   "metadata": {
    "application/vnd.databricks.v1+cell": {
     "cellMetadata": {
      "byteLimit": 2048000,
      "rowLimit": 10000
     },
     "inputWidgets": {},
     "nuid": "31ed0ad0-ed61-47e0-81ce-16af664b98c3",
     "showTitle": false,
     "tableResultSettingsMap": {},
     "title": ""
    }
   },
   "outputs": [],
   "source": [
    "from dspy.evaluate import Evaluate\n",
    "\n",
    "# Set up the evaluator, and we only use the first 100 validation data for evaluation.\n",
    "evaluator = Evaluate(devset=valset[:100], num_threads=5, display_progress=True, display_table=5)"
   ]
  },
  {
   "cell_type": "code",
   "execution_count": 0,
   "metadata": {
    "application/vnd.databricks.v1+cell": {
     "cellMetadata": {
      "byteLimit": 2048000,
      "rowLimit": 10000
     },
     "inputWidgets": {},
     "nuid": "85690c35-97f3-4ea8-8483-d137d99d3dd6",
     "showTitle": false,
     "tableResultSettingsMap": {},
     "title": ""
    }
   },
   "outputs": [
    {
     "output_type": "stream",
     "name": "stderr",
     "output_type": "stream",
     "text": [
      "\r  0%|          | 0/100 [00:00<?, ?it/s]\rAverage Metric: 1 / 1  (100.0):   0%|          | 0/100 [00:00<?, ?it/s]\rAverage Metric: 2 / 2  (100.0):   1%|          | 1/100 [00:00<00:00, 898.33it/s]\rAverage Metric: 3 / 3  (100.0):   2%|▏         | 2/100 [00:00<00:00, 755.73it/s]\rAverage Metric: 4 / 4  (100.0):   3%|▎         | 3/100 [00:00<00:00, 755.00it/s]\rAverage Metric: 5 / 5  (100.0):   4%|▍         | 4/100 [00:00<00:00, 780.84it/s]\rAverage Metric: 6 / 6  (100.0):   5%|▌         | 5/100 [00:00<00:00, 844.84it/s]\rAverage Metric: 7 / 7  (100.0):   6%|▌         | 6/100 [00:00<00:00, 851.26it/s]\rAverage Metric: 8 / 8  (100.0):   7%|▋         | 7/100 [00:00<00:00, 870.78it/s]\rAverage Metric: 9 / 9  (100.0):   8%|▊         | 8/100 [00:00<00:00, 902.27it/s]\rAverage Metric: 10 / 10  (100.0):   9%|▉         | 9/100 [00:00<00:00, 877.04it/s]\rAverage Metric: 11 / 11  (100.0):  10%|█         | 10/100 [00:00<00:00, 881.95it/s]\rAverage Metric: 11 / 12  (91.7):  11%|█         | 11/100 [00:00<00:00, 896.72it/s] \rAverage Metric: 12 / 13  (92.3):  12%|█▏        | 12/100 [00:00<00:00, 643.78it/s]\rAverage Metric: 13 / 14  (92.9):  13%|█▎        | 13/100 [00:00<00:00, 655.79it/s]\rAverage Metric: 14 / 15  (93.3):  14%|█▍        | 14/100 [00:00<00:00, 474.49it/s]\rAverage Metric: 15 / 16  (93.8):  15%|█▌        | 15/100 [00:00<00:00, 490.32it/s]\rAverage Metric: 16 / 17  (94.1):  16%|█▌        | 16/100 [00:00<00:00, 402.90it/s]\rAverage Metric: 16 / 18  (88.9):  17%|█▋        | 17/100 [00:00<00:00, 419.99it/s]\rAverage Metric: 16 / 19  (84.2):  18%|█▊        | 18/100 [00:00<00:00, 438.25it/s]\rAverage Metric: 17 / 20  (85.0):  19%|█▉        | 19/100 [00:00<00:00, 454.48it/s]\rAverage Metric: 18 / 21  (85.7):  20%|██        | 20/100 [00:00<00:00, 471.97it/s]\rAverage Metric: 18 / 22  (81.8):  21%|██        | 21/100 [00:00<00:00, 489.43it/s]\rAverage Metric: 19 / 23  (82.6):  22%|██▏       | 22/100 [00:00<00:00, 506.65it/s]\rAverage Metric: 19 / 24  (79.2):  23%|██▎       | 23/100 [00:00<00:00, 523.40it/s]\rAverage Metric: 20 / 25  (80.0):  24%|██▍       | 24/100 [00:00<00:00, 539.83it/s]\rAverage Metric: 21 / 26  (80.8):  25%|██▌       | 25/100 [00:00<00:00, 552.83it/s]\rAverage Metric: 22 / 27  (81.5):  26%|██▌       | 26/100 [00:00<00:00, 567.28it/s]\rAverage Metric: 22 / 28  (78.6):  27%|██▋       | 27/100 [00:00<00:00, 580.90it/s]\rAverage Metric: 22 / 29  (75.9):  28%|██▊       | 28/100 [00:00<00:00, 584.05it/s]\rAverage Metric: 22 / 30  (73.3):  29%|██▉       | 29/100 [00:00<00:00, 598.02it/s]\rAverage Metric: 23 / 31  (74.2):  30%|███       | 30/100 [00:00<00:00, 612.30it/s]\rAverage Metric: 23 / 32  (71.9):  31%|███       | 31/100 [00:00<00:00, 624.12it/s]\rAverage Metric: 24 / 33  (72.7):  32%|███▏      | 32/100 [00:00<00:00, 637.01it/s]\rAverage Metric: 24 / 34  (70.6):  33%|███▎      | 33/100 [00:00<00:00, 651.02it/s]\rAverage Metric: 25 / 35  (71.4):  34%|███▍      | 34/100 [00:00<00:00, 663.98it/s]\rAverage Metric: 26 / 36  (72.2):  35%|███▌      | 35/100 [00:00<00:00, 674.57it/s]\rAverage Metric: 26 / 37  (70.3):  36%|███▌      | 36/100 [00:00<00:00, 686.92it/s]\rAverage Metric: 27 / 38  (71.1):  37%|███▋      | 37/100 [00:00<00:00, 699.29it/s]\rAverage Metric: 28 / 39  (71.8):  38%|███▊      | 38/100 [00:00<00:00, 707.50it/s]\rAverage Metric: 29 / 40  (72.5):  39%|███▉      | 39/100 [00:00<00:00, 717.42it/s]\rAverage Metric: 30 / 41  (73.2):  40%|████      | 40/100 [00:00<00:00, 727.61it/s]\rAverage Metric: 30 / 42  (71.4):  41%|████      | 41/100 [00:00<00:00, 737.48it/s]\rAverage Metric: 31 / 43  (72.1):  42%|████▏     | 42/100 [00:00<00:00, 731.31it/s]\rAverage Metric: 31 / 44  (70.5):  43%|████▎     | 43/100 [00:00<00:00, 739.91it/s]\rAverage Metric: 31 / 45  (68.9):  44%|████▍     | 44/100 [00:00<00:00, 748.94it/s]\rAverage Metric: 31 / 46  (67.4):  45%|████▌     | 45/100 [00:00<00:00, 759.04it/s]\rAverage Metric: 32 / 47  (68.1):  46%|████▌     | 46/100 [00:00<00:00, 766.67it/s]\rAverage Metric: 33 / 48  (68.8):  47%|████▋     | 47/100 [00:00<00:00, 775.27it/s]\rAverage Metric: 34 / 49  (69.4):  48%|████▊     | 48/100 [00:00<00:00, 785.49it/s]\rAverage Metric: 34 / 50  (68.0):  49%|████▉     | 49/100 [00:00<00:00, 794.35it/s]\rAverage Metric: 35 / 51  (68.6):  50%|█████     | 50/100 [00:00<00:00, 804.32it/s]\rAverage Metric: 36 / 52  (69.2):  51%|█████     | 51/100 [00:00<00:00, 814.56it/s]\rAverage Metric: 36 / 53  (67.9):  52%|█████▏    | 52/100 [00:00<00:00, 824.53it/s]\rAverage Metric: 37 / 54  (68.5):  53%|█████▎    | 53/100 [00:01<00:01, 44.61it/s] \rAverage Metric: 37 / 54  (68.5):  54%|█████▍    | 54/100 [00:01<00:01, 45.25it/s]\rAverage Metric: 37 / 55  (67.3):  54%|█████▍    | 54/100 [00:01<00:01, 45.25it/s]\rAverage Metric: 38 / 56  (67.9):  55%|█████▌    | 55/100 [00:01<00:00, 45.25it/s]\rAverage Metric: 39 / 57  (68.4):  56%|█████▌    | 56/100 [00:01<00:00, 45.25it/s]\rAverage Metric: 40 / 58  (69.0):  57%|█████▋    | 57/100 [00:02<00:00, 45.25it/s]\rAverage Metric: 41 / 59  (69.5):  58%|█████▊    | 58/100 [00:02<00:00, 45.25it/s]\rAverage Metric: 41 / 59  (69.5):  59%|█████▉    | 59/100 [00:02<00:02, 16.86it/s]\rAverage Metric: 42 / 60  (70.0):  59%|█████▉    | 59/100 [00:03<00:02, 16.86it/s]\rAverage Metric: 43 / 61  (70.5):  60%|██████    | 60/100 [00:03<00:02, 16.86it/s]\rAverage Metric: 44 / 62  (71.0):  61%|██████    | 61/100 [00:03<00:02, 16.86it/s]\rAverage Metric: 44 / 62  (71.0):  62%|██████▏   | 62/100 [00:03<00:02, 13.25it/s]\rAverage Metric: 44 / 63  (69.8):  62%|██████▏   | 62/100 [00:04<00:02, 13.25it/s]\rAverage Metric: 45 / 64  (70.3):  63%|██████▎   | 63/100 [00:04<00:02, 13.25it/s]\rAverage Metric: 45 / 64  (70.3):  64%|██████▍   | 64/100 [00:04<00:03,  9.86it/s]\rAverage Metric: 46 / 65  (70.8):  64%|██████▍   | 64/100 [00:05<00:03,  9.86it/s]\rAverage Metric: 46 / 65  (70.8):  65%|██████▌   | 65/100 [00:05<00:04,  7.10it/s]\rAverage Metric: 47 / 66  (71.2):  65%|██████▌   | 65/100 [00:05<00:04,  7.10it/s]\rAverage Metric: 47 / 66  (71.2):  66%|██████▌   | 66/100 [00:05<00:04,  6.86it/s]\rAverage Metric: 48 / 67  (71.6):  66%|██████▌   | 66/100 [00:05<00:04,  6.86it/s]\rAverage Metric: 48 / 67  (71.6):  67%|██████▋   | 67/100 [00:05<00:04,  6.93it/s]\rAverage Metric: 48 / 68  (70.6):  67%|██████▋   | 67/100 [00:06<00:04,  6.93it/s]\rAverage Metric: 48 / 68  (70.6):  68%|██████▊   | 68/100 [00:06<00:08,  3.96it/s]\rAverage Metric: 49 / 69  (71.0):  68%|██████▊   | 68/100 [00:06<00:08,  3.96it/s]\rAverage Metric: 50 / 70  (71.4):  69%|██████▉   | 69/100 [00:06<00:07,  3.96it/s]\rAverage Metric: 51 / 71  (71.8):  70%|███████   | 70/100 [00:07<00:07,  3.96it/s]\rAverage Metric: 51 / 71  (71.8):  71%|███████   | 71/100 [00:07<00:06,  4.61it/s]\rAverage Metric: 51 / 72  (70.8):  71%|███████   | 71/100 [00:07<00:06,  4.61it/s]\rAverage Metric: 51 / 72  (70.8):  72%|███████▏  | 72/100 [00:07<00:08,  3.43it/s]\rAverage Metric: 51 / 73  (69.9):  72%|███████▏  | 72/100 [00:08<00:08,  3.43it/s]\rAverage Metric: 51 / 73  (69.9):  73%|███████▎  | 73/100 [00:08<00:08,  3.10it/s]\rAverage Metric: 51 / 74  (68.9):  73%|███████▎  | 73/100 [00:08<00:08,  3.10it/s]\rAverage Metric: 51 / 75  (68.0):  74%|███████▍  | 74/100 [00:08<00:08,  3.10it/s]\rAverage Metric: 51 / 76  (67.1):  75%|███████▌  | 75/100 [00:09<00:08,  3.10it/s]\rAverage Metric: 51 / 76  (67.1):  76%|███████▌  | 76/100 [00:09<00:07,  3.30it/s]\rAverage Metric: 52 / 77  (67.5):  76%|███████▌  | 76/100 [00:09<00:07,  3.30it/s]\rAverage Metric: 52 / 77  (67.5):  77%|███████▋  | 77/100 [00:09<00:08,  2.85it/s]\rAverage Metric: 52 / 78  (66.7):  77%|███████▋  | 77/100 [00:09<00:08,  2.85it/s]\rAverage Metric: 53 / 79  (67.1):  78%|███████▊  | 78/100 [00:09<00:07,  2.85it/s]\rAverage Metric: 53 / 79  (67.1):  79%|███████▉  | 79/100 [00:09<00:05,  3.87it/s]\rAverage Metric: 53 / 80  (66.2):  79%|███████▉  | 79/100 [00:10<00:05,  3.87it/s]\rAverage Metric: 53 / 80  (66.2):  80%|████████  | 80/100 [00:10<00:07,  2.55it/s]\rAverage Metric: 54 / 81  (66.7):  80%|████████  | 80/100 [00:11<00:07,  2.55it/s]\rAverage Metric: 54 / 81  (66.7):  81%|████████  | 81/100 [00:11<00:07,  2.58it/s]\rAverage Metric: 54 / 82  (65.9):  81%|████████  | 81/100 [00:11<00:07,  2.58it/s]\rAverage Metric: 54 / 82  (65.9):  82%|████████▏ | 82/100 [00:11<00:06,  2.65it/s]\rAverage Metric: 55 / 83  (66.3):  82%|████████▏ | 82/100 [00:11<00:06,  2.65it/s]\rAverage Metric: 55 / 83  (66.3):  83%|████████▎ | 83/100 [00:11<00:05,  2.97it/s]\rAverage Metric: 56 / 84  (66.7):  83%|████████▎ | 83/100 [00:12<00:05,  2.97it/s]\rAverage Metric: 56 / 84  (66.7):  84%|████████▍ | 84/100 [00:12<00:05,  3.02it/s]\rAverage Metric: 56 / 85  (65.9):  84%|████████▍ | 84/100 [00:13<00:05,  3.02it/s]\rAverage Metric: 56 / 85  (65.9):  85%|████████▌ | 85/100 [00:13<00:09,  1.54it/s]\rAverage Metric: 57 / 86  (66.3):  85%|████████▌ | 85/100 [00:14<00:09,  1.54it/s]\rAverage Metric: 57 / 86  (66.3):  86%|████████▌ | 86/100 [00:14<00:08,  1.63it/s]\rAverage Metric: 58 / 87  (66.7):  86%|████████▌ | 86/100 [00:14<00:08,  1.63it/s]\rAverage Metric: 58 / 87  (66.7):  87%|████████▋ | 87/100 [00:14<00:06,  2.03it/s]\rAverage Metric: 58 / 88  (65.9):  87%|████████▋ | 87/100 [00:14<00:06,  2.03it/s]\rAverage Metric: 58 / 88  (65.9):  88%|████████▊ | 88/100 [00:14<00:06,  1.86it/s]\rAverage Metric: 59 / 89  (66.3):  88%|████████▊ | 88/100 [00:14<00:06,  1.86it/s]\rAverage Metric: 59 / 90  (65.6):  89%|████████▉ | 89/100 [00:15<00:05,  1.86it/s]\rAverage Metric: 59 / 90  (65.6):  90%|█████████ | 90/100 [00:15<00:03,  2.74it/s]\rAverage Metric: 60 / 91  (65.9):  90%|█████████ | 90/100 [00:15<00:03,  2.74it/s]\rAverage Metric: 60 / 91  (65.9):  91%|█████████ | 91/100 [00:15<00:03,  2.62it/s]\rAverage Metric: 60 / 92  (65.2):  91%|█████████ | 91/100 [00:16<00:03,  2.62it/s]\rAverage Metric: 60 / 92  (65.2):  92%|█████████▏| 92/100 [00:16<00:04,  1.94it/s]\rAverage Metric: 61 / 93  (65.6):  92%|█████████▏| 92/100 [00:16<00:04,  1.94it/s]\rAverage Metric: 62 / 94  (66.0):  93%|█████████▎| 93/100 [00:16<00:03,  1.94it/s]\rAverage Metric: 62 / 95  (65.3):  94%|█████████▍| 94/100 [00:16<00:03,  1.94it/s]\rAverage Metric: 63 / 96  (65.6):  95%|█████████▌| 95/100 [00:17<00:02,  1.94it/s]\rAverage Metric: 63 / 96  (65.6):  96%|█████████▌| 96/100 [00:17<00:01,  2.46it/s]\rAverage Metric: 63 / 97  (64.9):  96%|█████████▌| 96/100 [00:17<00:01,  2.46it/s]\rAverage Metric: 64 / 98  (65.3):  97%|█████████▋| 97/100 [00:18<00:01,  2.46it/s]\rAverage Metric: 64 / 98  (65.3):  98%|█████████▊| 98/100 [00:18<00:00,  2.96it/s]\rAverage Metric: 65 / 99  (65.7):  98%|█████████▊| 98/100 [00:18<00:00,  2.96it/s]\rAverage Metric: 65 / 99  (65.7):  99%|█████████▉| 99/100 [00:18<00:00,  2.81it/s]\rAverage Metric: 66 / 100  (66.0):  99%|█████████▉| 99/100 [00:18<00:00,  2.81it/s]\rAverage Metric: 66 / 100  (66.0): 100%|██████████| 100/100 [00:18<00:00,  2.96it/s]\rAverage Metric: 66 / 100  (66.0): 100%|██████████| 100/100 [00:18<00:00,  5.26it/s]\n2024/11/12 22:02:01 INFO dspy.evaluate.evaluate: Average Metric: 66 / 100 (66.0%)\n"
     ]
    },
    {
     "output_type": "display_data",
     "data": {
      "text/html": [
       "<style type=\"text/css\">\n",
       "#T_2be97 th {\n",
       "  text-align: left;\n",
       "}\n",
       "#T_2be97 td {\n",
       "  text-align: left;\n",
       "}\n",
       "#T_2be97_row0_col0, #T_2be97_row0_col1, #T_2be97_row0_col2, #T_2be97_row0_col3, #T_2be97_row0_col4, #T_2be97_row1_col0, #T_2be97_row1_col1, #T_2be97_row1_col2, #T_2be97_row1_col3, #T_2be97_row1_col4, #T_2be97_row2_col0, #T_2be97_row2_col1, #T_2be97_row2_col2, #T_2be97_row2_col3, #T_2be97_row2_col4, #T_2be97_row3_col0, #T_2be97_row3_col1, #T_2be97_row3_col2, #T_2be97_row3_col3, #T_2be97_row3_col4, #T_2be97_row4_col0, #T_2be97_row4_col1, #T_2be97_row4_col2, #T_2be97_row4_col3, #T_2be97_row4_col4 {\n",
       "  text-align: left;\n",
       "  white-space: pre-wrap;\n",
       "  word-wrap: break-word;\n",
       "  max-width: 400px;\n",
       "}\n",
       "</style>\n",
       "<table id=\"T_2be97\">\n",
       "  <thead>\n",
       "    <tr>\n",
       "      <th class=\"blank level0\" >&nbsp;</th>\n",
       "      <th id=\"T_2be97_level0_col0\" class=\"col_heading level0 col0\" >text</th>\n",
       "      <th id=\"T_2be97_level0_col1\" class=\"col_heading level0 col1\" >example_label</th>\n",
       "      <th id=\"T_2be97_level0_col2\" class=\"col_heading level0 col2\" >rationale</th>\n",
       "      <th id=\"T_2be97_level0_col3\" class=\"col_heading level0 col3\" >pred_label</th>\n",
       "      <th id=\"T_2be97_level0_col4\" class=\"col_heading level0 col4\" >accuracy</th>\n",
       "    </tr>\n",
       "  </thead>\n",
       "  <tbody>\n",
       "    <tr>\n",
       "      <th id=\"T_2be97_level0_row0\" class=\"row_heading level0 row0\" >0</th>\n",
       "      <td id=\"T_2be97_row0_col0\" class=\"data row0 col0\" >Please delete my account.</td>\n",
       "      <td id=\"T_2be97_row0_col1\" class=\"data row0 col1\" >terminate_account</td>\n",
       "      <td id=\"T_2be97_row0_col2\" class=\"data row0 col2\" >terminate_account. We are processing a request to delete the user's account, which falls under the category of account termination.</td>\n",
       "      <td id=\"T_2be97_row0_col3\" class=\"data row0 col3\" >terminate_account</td>\n",
       "      <td id=\"T_2be97_row0_col4\" class=\"data row0 col4\" >✔️ [1]</td>\n",
       "    </tr>\n",
       "    <tr>\n",
       "      <th id=\"T_2be97_level0_row1\" class=\"row_heading level0 row1\" >1</th>\n",
       "      <td id=\"T_2be97_row1_col0\" class=\"data row1 col0\" >There's a debit on my account that I didn't do.</td>\n",
       "      <td id=\"T_2be97_row1_col1\" class=\"data row1 col1\" >direct_debit_payment_not_recognised</td>\n",
       "      <td id=\"T_2be97_row1_col2\" class=\"data row1 col2\" >This situation describes a debit on the account that the user did not authorize, which suggests a potential issue with a transaction that may need...</td>\n",
       "      <td id=\"T_2be97_row1_col3\" class=\"data row1 col3\" >request_refund</td>\n",
       "      <td id=\"T_2be97_row1_col4\" class=\"data row1 col4\" ></td>\n",
       "    </tr>\n",
       "    <tr>\n",
       "      <th id=\"T_2be97_level0_row2\" class=\"row_heading level0 row2\" >2</th>\n",
       "      <td id=\"T_2be97_row2_col0\" class=\"data row2 col0\" >Where do I order a virtual card from?</td>\n",
       "      <td id=\"T_2be97_row2_col1\" class=\"data row2 col1\" >getting_virtual_card</td>\n",
       "      <td id=\"T_2be97_row2_col2\" class=\"data row2 col2\" >The user is inquiring about the process of ordering a virtual card, which falls under the category of obtaining a virtual card. Therefore, the appropriate...</td>\n",
       "      <td id=\"T_2be97_row2_col3\" class=\"data row2 col3\" >getting_virtual_card</td>\n",
       "      <td id=\"T_2be97_row2_col4\" class=\"data row2 col4\" >✔️ [1]</td>\n",
       "    </tr>\n",
       "    <tr>\n",
       "      <th id=\"T_2be97_level0_row3\" class=\"row_heading level0 row3\" >3</th>\n",
       "      <td id=\"T_2be97_row3_col0\" class=\"data row3 col0\" >Where is my card accepted?</td>\n",
       "      <td id=\"T_2be97_row3_col1\" class=\"data row3 col1\" >card_acceptance</td>\n",
       "      <td id=\"T_2be97_row3_col2\" class=\"data row3 col2\" >card_acceptance. We are addressing a query about where the card can be used, which pertains to its acceptance at various locations or merchants.</td>\n",
       "      <td id=\"T_2be97_row3_col3\" class=\"data row3 col3\" >card_acceptance</td>\n",
       "      <td id=\"T_2be97_row3_col4\" class=\"data row3 col4\" >✔️ [1]</td>\n",
       "    </tr>\n",
       "    <tr>\n",
       "      <th id=\"T_2be97_level0_row4\" class=\"row_heading level0 row4\" >4</th>\n",
       "      <td id=\"T_2be97_row4_col0\" class=\"data row4 col0\" >If I want a physical card, do I have to pay anything?</td>\n",
       "      <td id=\"T_2be97_row4_col1\" class=\"data row4 col1\" >order_physical_card</td>\n",
       "      <td id=\"T_2be97_row4_col2\" class=\"data row4 col2\" >The question is about whether there is a fee associated with obtaining a physical card, which relates to the process of getting a physical card....</td>\n",
       "      <td id=\"T_2be97_row4_col3\" class=\"data row4 col3\" >get_physical_card</td>\n",
       "      <td id=\"T_2be97_row4_col4\" class=\"data row4 col4\" ></td>\n",
       "    </tr>\n",
       "  </tbody>\n",
       "</table>\n"
      ],
      "text/plain": [
       "<pandas.io.formats.style.Styler at 0x7f824a677cd0>"
      ]
     },
     "metadata": {},
     "output_type": "display_data"
    },
    {
     "output_type": "display_data",
     "data": {
      "text/html": [
       "\n",
       "                <div style='\n",
       "                    text-align: center;\n",
       "                    font-size: 16px;\n",
       "                    font-weight: bold;\n",
       "                    color: #555;\n",
       "                    margin: 10px 0;'>\n",
       "                    ... 95 more rows not displayed ...\n",
       "                </div>\n",
       "                "
      ],
      "text/plain": [
       "<IPython.core.display.HTML object>"
      ]
     },
     "metadata": {},
     "output_type": "display_data"
    }
   ],
   "source": [
    "eval_score = evaluator(classifier, metric=accuracy)"
   ]
  },
  {
   "cell_type": "markdown",
   "metadata": {
    "application/vnd.databricks.v1+cell": {
     "cellMetadata": {},
     "inputWidgets": {},
     "nuid": "08a33e3e-1cea-42d0-8ebe-a3a3d0450050",
     "showTitle": false,
     "tableResultSettingsMap": {},
     "title": ""
    }
   },
   "source": [
    "### Configure Optimizer and Run Optimization\n",
    "\n",
    "Let's configure our optimizer and run the optimizaiton."
   ]
  },
  {
   "cell_type": "code",
   "execution_count": 0,
   "metadata": {
    "application/vnd.databricks.v1+cell": {
     "cellMetadata": {
      "byteLimit": 2048000,
      "rowLimit": 10000
     },
     "inputWidgets": {},
     "nuid": "faa941c0-1e15-4706-8eaf-8133d0fc3c7e",
     "showTitle": false,
     "tableResultSettingsMap": {},
     "title": ""
    }
   },
   "outputs": [
    {
     "output_type": "stream",
     "name": "stdout",
     "output_type": "stream",
     "text": [
      "Optimizing program with MIPRO V2...\n"
     ]
    },
    {
     "output_type": "display_data",
     "data": {
      "text/plain": [
       "\u001B[93m\u001B[1mProjected Language Model (LM) Calls\u001B[0m\n",
       "\n",
       "Based on the parameters you have set, the maximum number of LM calls is projected as follows:\n",
       "\n",
       "\u001B[93m- Prompt Generation: \u001B[94m\u001B[1m10\u001B[0m\u001B[93m data ... y"
      ]
     },
     "metadata": {},
     "output_type": "display_data"
    },
    {
     "output_type": "stream",
     "name": "stderr",
     "output_type": "stream",
     "text": [
      "2024/11/12 22:21:37 INFO dspy.teleprompt.mipro_optimizer_v2: \n==> STEP 1: BOOTSTRAP FEWSHOT EXAMPLES <==\n2024/11/12 22:21:37 INFO dspy.teleprompt.mipro_optimizer_v2: These will be used as few-shot example candidates for our program and for creating instructions.\n\n2024/11/12 22:21:37 INFO dspy.teleprompt.mipro_optimizer_v2: Bootstrapping N=12 sets of demonstrations...\n"
     ]
    },
    {
     "output_type": "stream",
     "name": "stdout",
     "output_type": "stream",
     "text": [
      "Bootstrapping set 1/12\nBootstrapping set 2/12\nBootstrapping set 3/12\n"
     ]
    },
    {
     "output_type": "stream",
     "name": "stderr",
     "output_type": "stream",
     "text": [
      "\n\r  0%|          | 0/200 [00:00<?, ?it/s]\u001B[A\r  2%|▎         | 5/200 [00:00<00:00, 610.28it/s]\n"
     ]
    },
    {
     "output_type": "stream",
     "name": "stdout",
     "output_type": "stream",
     "text": [
      "Bootstrapped 5 full traces after 5 examples for up to 1 rounds, amounting to 5 attempts.\nBootstrapping set 4/12\n"
     ]
    },
    {
     "output_type": "stream",
     "name": "stderr",
     "output_type": "stream",
     "text": [
      "\n\r  0%|          | 0/200 [00:00<?, ?it/s]\u001B[A\r  2%|▏         | 3/200 [00:00<00:00, 679.20it/s]\n"
     ]
    },
    {
     "output_type": "stream",
     "name": "stdout",
     "output_type": "stream",
     "text": [
      "Bootstrapped 3 full traces after 3 examples for up to 1 rounds, amounting to 3 attempts.\nBootstrapping set 5/12\n"
     ]
    },
    {
     "output_type": "stream",
     "name": "stderr",
     "output_type": "stream",
     "text": [
      "\n\r  0%|          | 0/200 [00:00<?, ?it/s]\u001B[A\r  0%|          | 1/200 [00:00<00:00, 627.61it/s]\n"
     ]
    },
    {
     "output_type": "stream",
     "name": "stdout",
     "output_type": "stream",
     "text": [
      "Bootstrapped 1 full traces after 1 examples for up to 1 rounds, amounting to 1 attempts.\nBootstrapping set 6/12\n"
     ]
    },
    {
     "output_type": "stream",
     "name": "stderr",
     "output_type": "stream",
     "text": [
      "\n\r  0%|          | 0/200 [00:00<?, ?it/s]\u001B[A\r  2%|▏         | 3/200 [00:00<00:00, 426.93it/s]\n"
     ]
    },
    {
     "output_type": "stream",
     "name": "stdout",
     "output_type": "stream",
     "text": [
      "Bootstrapped 3 full traces after 3 examples for up to 1 rounds, amounting to 3 attempts.\nBootstrapping set 7/12\n"
     ]
    },
    {
     "output_type": "stream",
     "name": "stderr",
     "output_type": "stream",
     "text": [
      "\n\r  0%|          | 0/200 [00:00<?, ?it/s]\u001B[A\r  0%|          | 1/200 [00:00<00:00, 666.93it/s]\n"
     ]
    },
    {
     "output_type": "stream",
     "name": "stdout",
     "output_type": "stream",
     "text": [
      "Bootstrapped 1 full traces after 1 examples for up to 1 rounds, amounting to 1 attempts.\nBootstrapping set 8/12\n"
     ]
    },
    {
     "output_type": "stream",
     "name": "stderr",
     "output_type": "stream",
     "text": [
      "\n\r  0%|          | 0/200 [00:00<?, ?it/s]\u001B[A\r  0%|          | 1/200 [00:00<00:00, 666.40it/s]\n"
     ]
    },
    {
     "output_type": "stream",
     "name": "stdout",
     "output_type": "stream",
     "text": [
      "Bootstrapped 1 full traces after 1 examples for up to 1 rounds, amounting to 1 attempts.\nBootstrapping set 9/12\n"
     ]
    },
    {
     "output_type": "stream",
     "name": "stderr",
     "output_type": "stream",
     "text": [
      "\n\r  0%|          | 0/200 [00:00<?, ?it/s]\u001B[A\r  2%|▏         | 3/200 [00:00<00:00, 701.74it/s]\n"
     ]
    },
    {
     "output_type": "stream",
     "name": "stdout",
     "output_type": "stream",
     "text": [
      "Bootstrapped 3 full traces after 3 examples for up to 1 rounds, amounting to 3 attempts.\nBootstrapping set 10/12\n"
     ]
    },
    {
     "output_type": "stream",
     "name": "stderr",
     "output_type": "stream",
     "text": [
      "\n\r  0%|          | 0/200 [00:00<?, ?it/s]\u001B[A\r  1%|          | 2/200 [00:00<00:00, 639.33it/s]\n"
     ]
    },
    {
     "output_type": "stream",
     "name": "stdout",
     "output_type": "stream",
     "text": [
      "Bootstrapped 2 full traces after 2 examples for up to 1 rounds, amounting to 2 attempts.\nBootstrapping set 11/12\n"
     ]
    },
    {
     "output_type": "stream",
     "name": "stderr",
     "output_type": "stream",
     "text": [
      "\n\r  0%|          | 0/200 [00:00<?, ?it/s]\u001B[A\r  0%|          | 1/200 [00:00<00:00, 666.08it/s]\n"
     ]
    },
    {
     "output_type": "stream",
     "name": "stdout",
     "output_type": "stream",
     "text": [
      "Bootstrapped 1 full traces after 1 examples for up to 1 rounds, amounting to 1 attempts.\nBootstrapping set 12/12\n"
     ]
    },
    {
     "output_type": "stream",
     "name": "stderr",
     "output_type": "stream",
     "text": [
      "\n\r  0%|          | 0/200 [00:00<?, ?it/s]\u001B[A\r  2%|▏         | 4/200 [00:00<00:00, 629.80it/s]\n2024/11/12 22:21:37 INFO dspy.teleprompt.mipro_optimizer_v2: \n==> STEP 2: PROPOSE INSTRUCTION CANDIDATES <==\n2024/11/12 22:21:37 INFO dspy.teleprompt.mipro_optimizer_v2: We will use the few-shot examples from the previous step, a generated dataset summary, a summary of the program code, and a randomly selected prompting tip to propose instructions.\n2024/11/12 22:21:37 INFO dspy.teleprompt.mipro_optimizer_v2: \nProposing instructions...\n\n2024/11/12 22:21:37 INFO dspy.teleprompt.mipro_optimizer_v2: Proposed Instructions for Predictor 0:\n\n2024/11/12 22:21:37 INFO dspy.teleprompt.mipro_optimizer_v2: 0: Given the fields `text`, produce the fields `label`.\n\n2024/11/12 22:21:37 INFO dspy.teleprompt.mipro_optimizer_v2: 1: Analyze the provided user inquiry in the `text` field and classify it into one of the predefined categories represented by the `label` field. Additionally, generate a detailed rationale explaining the reasoning behind the assigned label, ensuring to consider any context or hints that may enhance the classification accuracy.\n\n2024/11/12 22:21:37 INFO dspy.teleprompt.mipro_optimizer_v2: 2: Based on the user's inquiry provided in the `text` field, classify the issue into one of the predefined labels. Your response should include a detailed rationale explaining the reasoning behind the chosen label. Ensure to analyze the context of the inquiry thoroughly to derive the most accurate classification.\n\n2024/11/12 22:21:37 INFO dspy.teleprompt.mipro_optimizer_v2: 3: Analyze the user's text input carefully to identify their specific banking or financial inquiry. Based on your understanding, classify the inquiry into one of the predefined categories or labels. Additionally, provide a detailed rationale that explains your reasoning process step by step, ensuring clarity in how you arrived at the classification. If available, consider any hints provided to enhance the context of the inquiry without altering the original text.\n\n2024/11/12 22:21:37 INFO dspy.teleprompt.mipro_optimizer_v2: 4: Classify the user inquiry based on the provided text and generate a rationale that explains the reasoning behind the assigned label. Use the fields `text` to determine the appropriate `label` from the predefined categories related to banking and financial transactions.\n\n2024/11/12 22:21:37 INFO dspy.teleprompt.mipro_optimizer_v2: 5: Analyze the following user query regarding financial transactions and classify it into the appropriate category. Provide a detailed rationale for your classification to explain your reasoning.\n\n2024/11/12 22:21:37 INFO dspy.teleprompt.mipro_optimizer_v2: 6: You are a financial customer service representative. Given the user's inquiry in the field `text`, analyze the situation and produce the fields `label` and `rationale` that accurately classify the user's issue and explain your reasoning step by step.\n\n2024/11/12 22:21:37 INFO dspy.teleprompt.mipro_optimizer_v2: 7: Based on the user's inquiry provided in the `text`, classify the inquiry into one of the predefined banking issue categories. Provide a rationale that explains the reasoning behind the assigned label, ensuring clarity and accuracy in the classification process.\n\n2024/11/12 22:21:37 INFO dspy.teleprompt.mipro_optimizer_v2: 8: You are a banking support assistant. Given the user's inquiry in the field `text`, analyze the content and produce a rationale that explains the reasoning behind the classification. Then, classify the inquiry into one of the predefined categories (labels) that best represents the user's issue or question.\n\n2024/11/12 22:21:37 INFO dspy.teleprompt.mipro_optimizer_v2: 9: Please analyze the provided user inquiry in the `text` field and classify it into one of the predefined banking categories. As you do this, explain your reasoning step-by-step in the `rationale` field, detailing how you arrived at the specific `label`. Ensure that your response is clear and addresses the user's concern accurately, utilizing the chain-of-thought approach to enhance the classification process.\n\n2024/11/12 22:21:37 INFO dspy.teleprompt.mipro_optimizer_v2: 10: Analyze the provided text input regarding financial services inquiries and classify it into one of the predefined labels. Ensure to generate a detailed rationale that explains the reasoning behind the classification, considering the context of the inquiry. The labels include various categories such as 'age_limit', 'card_not_working', and 'transfer_fee_charged'. Use the hint mechanism if additional context is necessary to enhance the classification process.\n\n2024/11/12 22:21:37 INFO dspy.teleprompt.mipro_optimizer_v2: 11: You are a financial customer support agent. Given the user's inquiry in the field `text`, analyze the situation and produce a rationale that explains your reasoning step by step. Then, classify the inquiry into one of the predefined categories (labels) that best fits the user's issue.\n\n2024/11/12 22:21:37 INFO dspy.teleprompt.mipro_optimizer_v2: \n\n2024/11/12 22:21:37 INFO dspy.teleprompt.mipro_optimizer_v2: Evaluating the default program...\n\n"
     ]
    },
    {
     "output_type": "stream",
     "name": "stdout",
     "output_type": "stream",
     "text": [
      "Bootstrapped 4 full traces after 4 examples for up to 1 rounds, amounting to 4 attempts.\n"
     ]
    },
    {
     "output_type": "stream",
     "name": "stderr",
     "output_type": "stream",
     "text": [
      "\r  0%|          | 0/100 [00:00<?, ?it/s]\rAverage Metric: 1 / 1  (100.0):   0%|          | 0/100 [00:00<?, ?it/s]\rAverage Metric: 2 / 2  (100.0):   1%|          | 1/100 [00:00<00:00, 1216.45it/s]\rAverage Metric: 3 / 3  (100.0):   2%|▏         | 2/100 [00:00<00:00, 1500.91it/s]\rAverage Metric: 4 / 4  (100.0):   3%|▎         | 3/100 [00:00<00:00, 1587.35it/s]\rAverage Metric: 5 / 5  (100.0):   4%|▍         | 4/100 [00:00<00:00, 1616.30it/s]\rAverage Metric: 5 / 6  (83.3):   5%|▌         | 5/100 [00:00<00:00, 1682.03it/s] \rAverage Metric: 6 / 7  (85.7):   6%|▌         | 6/100 [00:00<00:00, 1732.59it/s]\rAverage Metric: 6 / 8  (75.0):   7%|▋         | 7/100 [00:00<00:00, 1763.37it/s]\rAverage Metric: 7 / 9  (77.8):   8%|▊         | 8/100 [00:00<00:00, 1823.12it/s]\rAverage Metric: 7 / 10  (70.0):   9%|▉         | 9/100 [00:00<00:00, 1825.82it/s]\rAverage Metric: 8 / 11  (72.7):  10%|█         | 10/100 [00:00<00:00, 1491.04it/s]\rAverage Metric: 9 / 12  (75.0):  11%|█         | 11/100 [00:00<00:00, 1528.33it/s]\rAverage Metric: 10 / 13  (76.9):  12%|█▏        | 12/100 [00:00<00:00, 1557.82it/s]\rAverage Metric: 11 / 14  (78.6):  13%|█▎        | 13/100 [00:00<00:00, 1519.84it/s]\rAverage Metric: 11 / 15  (73.3):  14%|█▍        | 14/100 [00:00<00:00, 1559.47it/s]\rAverage Metric: 11 / 16  (68.8):  15%|█▌        | 15/100 [00:00<00:00, 1585.31it/s]\rAverage Metric: 11 / 17  (64.7):  16%|█▌        | 16/100 [00:00<00:00, 1611.95it/s]\rAverage Metric: 12 / 18  (66.7):  17%|█▋        | 17/100 [00:00<00:00, 1632.06it/s]\rAverage Metric: 12 / 19  (63.2):  18%|█▊        | 18/100 [00:00<00:00, 1644.68it/s]\rAverage Metric: 13 / 20  (65.0):  19%|█▉        | 19/100 [00:00<00:00, 1663.12it/s]\rAverage Metric: 14 / 21  (66.7):  20%|██        | 20/100 [00:00<00:00, 1686.36it/s]\rAverage Metric: 15 / 22  (68.2):  21%|██        | 21/100 [00:00<00:00, 1706.82it/s]\rAverage Metric: 15 / 23  (65.2):  22%|██▏       | 22/100 [00:00<00:00, 1727.08it/s]\rAverage Metric: 16 / 24  (66.7):  23%|██▎       | 23/100 [00:00<00:00, 1739.90it/s]\rAverage Metric: 17 / 25  (68.0):  24%|██▍       | 24/100 [00:00<00:00, 1748.99it/s]\rAverage Metric: 17 / 26  (65.4):  25%|██▌       | 25/100 [00:00<00:00, 1749.58it/s]\rAverage Metric: 18 / 27  (66.7):  26%|██▌       | 26/100 [00:00<00:00, 1752.85it/s]\rAverage Metric: 19 / 28  (67.9):  27%|██▋       | 27/100 [00:00<00:00, 1727.82it/s]\rAverage Metric: 20 / 29  (69.0):  28%|██▊       | 28/100 [00:00<00:00, 1732.93it/s]\rAverage Metric: 21 / 30  (70.0):  29%|██▉       | 29/100 [00:00<00:00, 1738.86it/s]\rAverage Metric: 22 / 31  (71.0):  30%|███       | 30/100 [00:00<00:00, 1749.55it/s]\rAverage Metric: 22 / 32  (68.8):  31%|███       | 31/100 [00:00<00:00, 1754.16it/s]\rAverage Metric: 23 / 33  (69.7):  32%|███▏      | 32/100 [00:00<00:00, 1625.38it/s]\rAverage Metric: 23 / 34  (67.6):  33%|███▎      | 33/100 [00:00<00:00, 1631.54it/s]\rAverage Metric: 24 / 35  (68.6):  34%|███▍      | 34/100 [00:00<00:00, 1639.34it/s]\rAverage Metric: 25 / 36  (69.4):  35%|███▌      | 35/100 [00:00<00:00, 1623.63it/s]\rAverage Metric: 25 / 37  (67.6):  36%|███▌      | 36/100 [00:00<00:00, 1628.47it/s]\rAverage Metric: 26 / 38  (68.4):  37%|███▋      | 37/100 [00:00<00:00, 1619.47it/s]\rAverage Metric: 26 / 39  (66.7):  38%|███▊      | 38/100 [00:00<00:00, 1624.95it/s]\rAverage Metric: 27 / 40  (67.5):  39%|███▉      | 39/100 [00:00<00:00, 1618.53it/s]\rAverage Metric: 27 / 41  (65.9):  40%|████      | 40/100 [00:00<00:00, 1623.75it/s]\rAverage Metric: 27 / 42  (64.3):  41%|████      | 41/100 [00:00<00:00, 1607.54it/s]\rAverage Metric: 27 / 43  (62.8):  42%|████▏     | 42/100 [00:00<00:00, 1613.53it/s]\rAverage Metric: 27 / 44  (61.4):  43%|████▎     | 43/100 [00:00<00:00, 1622.64it/s]\rAverage Metric: 28 / 45  (62.2):  44%|████▍     | 44/100 [00:00<00:00, 1630.12it/s]\rAverage Metric: 28 / 46  (60.9):  45%|████▌     | 45/100 [00:00<00:00, 1639.34it/s]\rAverage Metric: 28 / 47  (59.6):  46%|████▌     | 46/100 [00:00<00:00, 1611.37it/s]\rAverage Metric: 29 / 48  (60.4):  47%|████▋     | 47/100 [00:00<00:00, 1615.92it/s]\rAverage Metric: 30 / 49  (61.2):  48%|████▊     | 48/100 [00:00<00:00, 1611.04it/s]\rAverage Metric: 31 / 50  (62.0):  49%|████▉     | 49/100 [00:00<00:00, 1613.49it/s]\rAverage Metric: 32 / 51  (62.7):  50%|█████     | 50/100 [00:00<00:00, 1600.44it/s]\rAverage Metric: 33 / 52  (63.5):  51%|█████     | 51/100 [00:00<00:00, 1605.49it/s]\rAverage Metric: 34 / 53  (64.2):  52%|█████▏    | 52/100 [00:00<00:00, 1603.33it/s]\rAverage Metric: 35 / 54  (64.8):  53%|█████▎    | 53/100 [00:00<00:00, 1606.58it/s]\rAverage Metric: 36 / 55  (65.5):  54%|█████▍    | 54/100 [00:00<00:00, 1602.62it/s]\rAverage Metric: 37 / 56  (66.1):  55%|█████▌    | 55/100 [00:00<00:00, 1604.59it/s]\rAverage Metric: 38 / 57  (66.7):  56%|█████▌    | 56/100 [00:00<00:00, 1604.58it/s]\rAverage Metric: 38 / 58  (65.5):  57%|█████▋    | 57/100 [00:00<00:00, 1608.41it/s]\rAverage Metric: 39 / 59  (66.1):  58%|█████▊    | 58/100 [00:00<00:00, 1613.81it/s]\rAverage Metric: 39 / 60  (65.0):  59%|█████▉    | 59/100 [00:00<00:00, 1615.09it/s]\rAverage Metric: 40 / 61  (65.6):  60%|██████    | 60/100 [00:00<00:00, 1619.32it/s]\rAverage Metric: 41 / 62  (66.1):  61%|██████    | 61/100 [00:00<00:00, 1624.15it/s]\rAverage Metric: 41 / 63  (65.1):  62%|██████▏   | 62/100 [00:00<00:00, 1630.03it/s]\rAverage Metric: 41 / 64  (64.1):  63%|██████▎   | 63/100 [00:00<00:00, 1631.35it/s]\rAverage Metric: 42 / 65  (64.6):  64%|██████▍   | 64/100 [00:00<00:00, 1635.33it/s]\rAverage Metric: 42 / 66  (63.6):  65%|██████▌   | 65/100 [00:00<00:00, 1641.04it/s]\rAverage Metric: 42 / 67  (62.7):  66%|██████▌   | 66/100 [00:00<00:00, 1644.70it/s]\rAverage Metric: 43 / 68  (63.2):  67%|██████▋   | 67/100 [00:00<00:00, 1649.39it/s]\rAverage Metric: 44 / 69  (63.8):  68%|██████▊   | 68/100 [00:00<00:00, 1613.71it/s]\rAverage Metric: 45 / 70  (64.3):  69%|██████▉   | 69/100 [00:00<00:00, 1614.84it/s]\rAverage Metric: 46 / 71  (64.8):  70%|███████   | 70/100 [00:00<00:00, 1618.16it/s]\rAverage Metric: 47 / 72  (65.3):  71%|███████   | 71/100 [00:00<00:00, 1624.02it/s]\rAverage Metric: 48 / 73  (65.8):  72%|███████▏  | 72/100 [00:00<00:00, 1625.11it/s]\rAverage Metric: 49 / 74  (66.2):  73%|███████▎  | 73/100 [00:00<00:00, 1628.76it/s]\rAverage Metric: 50 / 75  (66.7):  74%|███████▍  | 74/100 [00:00<00:00, 1636.10it/s]\rAverage Metric: 50 / 76  (65.8):  75%|███████▌  | 75/100 [00:00<00:00, 1639.77it/s]\rAverage Metric: 50 / 77  (64.9):  76%|███████▌  | 76/100 [00:00<00:00, 1643.85it/s]\rAverage Metric: 50 / 78  (64.1):  77%|███████▋  | 77/100 [00:00<00:00, 1648.78it/s]\rAverage Metric: 50 / 79  (63.3):  78%|███████▊  | 78/100 [00:00<00:00, 1649.92it/s]\rAverage Metric: 51 / 80  (63.8):  79%|███████▉  | 79/100 [00:00<00:00, 1653.33it/s]\rAverage Metric: 52 / 81  (64.2):  80%|████████  | 80/100 [00:00<00:00, 1658.35it/s]\rAverage Metric: 52 / 82  (63.4):  81%|████████  | 81/100 [00:00<00:00, 1659.86it/s]\rAverage Metric: 52 / 83  (62.7):  82%|████████▏ | 82/100 [00:00<00:00, 1662.68it/s]\rAverage Metric: 53 / 84  (63.1):  83%|████████▎ | 83/100 [00:00<00:00, 1667.38it/s]\rAverage Metric: 54 / 85  (63.5):  84%|████████▍ | 84/100 [00:00<00:00, 1664.67it/s]\rAverage Metric: 55 / 86  (64.0):  85%|████████▌ | 85/100 [00:00<00:00, 1667.01it/s]\rAverage Metric: 56 / 87  (64.4):  86%|████████▌ | 86/100 [00:00<00:00, 1668.89it/s]\rAverage Metric: 57 / 88  (64.8):  87%|████████▋ | 87/100 [00:00<00:00, 1672.46it/s]\rAverage Metric: 58 / 89  (65.2):  88%|████████▊ | 88/100 [00:00<00:00, 1676.57it/s]\rAverage Metric: 58 / 90  (64.4):  89%|████████▉ | 89/100 [00:00<00:00, 1675.08it/s]\rAverage Metric: 59 / 91  (64.8):  90%|█████████ | 90/100 [00:00<00:00, 1676.37it/s]\rAverage Metric: 60 / 92  (65.2):  91%|█████████ | 91/100 [00:00<00:00, 1674.90it/s]\rAverage Metric: 61 / 93  (65.6):  92%|█████████▏| 92/100 [00:00<00:00, 1675.16it/s]\rAverage Metric: 62 / 94  (66.0):  93%|█████████▎| 93/100 [00:00<00:00, 1675.21it/s]\rAverage Metric: 63 / 95  (66.3):  94%|█████████▍| 94/100 [00:00<00:00, 1677.94it/s]\rAverage Metric: 63 / 96  (65.6):  95%|█████████▌| 95/100 [00:00<00:00, 1683.52it/s]\rAverage Metric: 64 / 97  (66.0):  96%|█████████▌| 96/100 [00:00<00:00, 1685.75it/s]\rAverage Metric: 64 / 98  (65.3):  97%|█████████▋| 97/100 [00:00<00:00, 1688.11it/s]\rAverage Metric: 65 / 99  (65.7):  98%|█████████▊| 98/100 [00:00<00:00, 1691.89it/s]\rAverage Metric: 66 / 100  (66.0):  99%|█████████▉| 99/100 [00:00<00:00, 1691.40it/s]\rAverage Metric: 66 / 100  (66.0): 100%|██████████| 100/100 [00:00<00:00, 1693.81it/s]\n2024/11/12 22:21:37 INFO dspy.evaluate.evaluate: Average Metric: 66 / 100 (66.0%)\n2024/11/12 22:21:37 INFO dspy.teleprompt.mipro_optimizer_v2: Default program score: 66.0\n\n2024/11/12 22:21:37 INFO dspy.teleprompt.mipro_optimizer_v2: ==> STEP 3: FINDING OPTIMAL PROMPT PARAMETERS <==\n2024/11/12 22:21:37 INFO dspy.teleprompt.mipro_optimizer_v2: We will evaluate the program over a series of trials with different combinations of instructions and few-shot examples to find the optimal combination using Bayesian Optimization.\n\n/databricks/python/lib/python3.11/site-packages/optuna/samplers/_tpe/sampler.py:319: ExperimentalWarning: ``multivariate`` option is an experimental feature. The interface can change in the future.\n  warnings.warn(\n2024/11/12 22:21:37 INFO dspy.teleprompt.mipro_optimizer_v2: == Minibatch Trial 1 / 25 ==\n\r  0%|          | 0/20 [00:00<?, ?it/s]\rAverage Metric: 0 / 1  (0.0):   0%|          | 0/20 [00:01<?, ?it/s]\rAverage Metric: 0 / 1  (0.0):   5%|▌         | 1/20 [00:01<00:27,  1.45s/it]\rAverage Metric: 1 / 2  (50.0):   5%|▌         | 1/20 [00:01<00:27,  1.45s/it]\rAverage Metric: 2 / 3  (66.7):  10%|█         | 2/20 [00:01<00:26,  1.45s/it]\rAverage Metric: 2 / 3  (66.7):  15%|█▌        | 3/20 [00:01<00:09,  1.79it/s]\rAverage Metric: 2 / 4  (50.0):  15%|█▌        | 3/20 [00:02<00:09,  1.79it/s]\rAverage Metric: 2 / 4  (50.0):  20%|██        | 4/20 [00:02<00:06,  2.45it/s]\rAverage Metric: 2 / 5  (40.0):  20%|██        | 4/20 [00:03<00:06,  2.45it/s]\rAverage Metric: 2 / 5  (40.0):  25%|██▌       | 5/20 [00:03<00:09,  1.64it/s]\rAverage Metric: 2 / 6  (33.3):  25%|██▌       | 5/20 [00:03<00:09,  1.64it/s]\rAverage Metric: 2 / 7  (28.6):  30%|███       | 6/20 [00:03<00:08,  1.64it/s]\rAverage Metric: 2 / 7  (28.6):  35%|███▌      | 7/20 [00:03<00:05,  2.25it/s]\rAverage Metric: 3 / 8  (37.5):  35%|███▌      | 7/20 [00:03<00:05,  2.25it/s]\rAverage Metric: 3 / 9  (33.3):  40%|████      | 8/20 [00:04<00:05,  2.25it/s]\rAverage Metric: 3 / 9  (33.3):  45%|████▌     | 9/20 [00:04<00:05,  2.10it/s]\rAverage Metric: 4 / 10  (40.0):  45%|████▌     | 9/20 [00:05<00:05,  2.10it/s]\rAverage Metric: 4 / 10  (40.0):  50%|█████     | 10/20 [00:05<00:04,  2.18it/s]\rAverage Metric: 4 / 11  (36.4):  50%|█████     | 10/20 [00:05<00:04,  2.18it/s]\rAverage Metric: 4 / 11  (36.4):  55%|█████▌    | 11/20 [00:05<00:03,  2.64it/s]\rAverage Metric: 4 / 12  (33.3):  55%|█████▌    | 11/20 [00:05<00:03,  2.64it/s]\rAverage Metric: 4 / 12  (33.3):  60%|██████    | 12/20 [00:05<00:03,  2.44it/s]\rAverage Metric: 5 / 13  (38.5):  60%|██████    | 12/20 [00:06<00:03,  2.44it/s]\rAverage Metric: 5 / 13  (38.5):  65%|██████▌   | 13/20 [00:06<00:03,  1.97it/s]\rAverage Metric: 6 / 14  (42.9):  65%|██████▌   | 13/20 [00:06<00:03,  1.97it/s]\rAverage Metric: 6 / 14  (42.9):  70%|███████   | 14/20 [00:06<00:02,  2.03it/s]\rAverage Metric: 7 / 15  (46.7):  70%|███████   | 14/20 [00:07<00:02,  2.03it/s]\rAverage Metric: 7 / 15  (46.7):  75%|███████▌  | 15/20 [00:07<00:02,  1.82it/s]\rAverage Metric: 8 / 16  (50.0):  75%|███████▌  | 15/20 [00:07<00:02,  1.82it/s]\rAverage Metric: 9 / 17  (52.9):  80%|████████  | 16/20 [00:08<00:02,  1.82it/s]\rAverage Metric: 9 / 17  (52.9):  85%|████████▌ | 17/20 [00:08<00:01,  2.37it/s]\rAverage Metric: 10 / 18  (55.6):  85%|████████▌ | 17/20 [00:08<00:01,  2.37it/s]\rAverage Metric: 10 / 18  (55.6):  90%|█████████ | 18/20 [00:08<00:00,  2.24it/s]\rAverage Metric: 11 / 19  (57.9):  90%|█████████ | 18/20 [00:09<00:00,  2.24it/s]\rAverage Metric: 11 / 19  (57.9):  95%|█████████▌| 19/20 [00:09<00:00,  2.08it/s]\rAverage Metric: 12 / 20  (60.0):  95%|█████████▌| 19/20 [00:09<00:00,  2.08it/s]\rAverage Metric: 12 / 20  (60.0): 100%|██████████| 20/20 [00:09<00:00,  2.15it/s]\n2024/11/12 22:21:46 INFO dspy.evaluate.evaluate: Average Metric: 12 / 20 (60.0%)\n2024/11/12 22:21:46 INFO dspy.teleprompt.mipro_optimizer_v2: Score: 60.0 on minibatch of size 20 with parameters ['Predictor 0: Instruction 11', 'Predictor 0: Few-Shot Set 0'].\n2024/11/12 22:21:46 INFO dspy.teleprompt.mipro_optimizer_v2: Minibatch scores so far: [60.0]\n2024/11/12 22:21:46 INFO dspy.teleprompt.mipro_optimizer_v2: Full eval scores so far: [66.0]\n2024/11/12 22:21:46 INFO dspy.teleprompt.mipro_optimizer_v2: Best full score so far: 66.0\n2024/11/12 22:21:46 INFO dspy.teleprompt.mipro_optimizer_v2: ============================\n\n\n2024/11/12 22:21:46 INFO dspy.teleprompt.mipro_optimizer_v2: == Minibatch Trial 2 / 25 ==\n\r  0%|          | 0/20 [00:00<?, ?it/s]\rAverage Metric: 0 / 1  (0.0):   0%|          | 0/20 [00:01<?, ?it/s]\rAverage Metric: 0 / 1  (0.0):   5%|▌         | 1/20 [00:01<00:25,  1.34s/it]\rAverage Metric: 0 / 2  (0.0):   5%|▌         | 1/20 [00:01<00:25,  1.34s/it]\rAverage Metric: 0 / 2  (0.0):  10%|█         | 2/20 [00:01<00:11,  1.54it/s]\rAverage Metric: 1 / 3  (33.3):  10%|█         | 2/20 [00:01<00:11,  1.54it/s]\rAverage Metric: 1 / 3  (33.3):  15%|█▌        | 3/20 [00:01<00:07,  2.39it/s]\rAverage Metric: 2 / 4  (50.0):  15%|█▌        | 3/20 [00:01<00:07,  2.39it/s]\rAverage Metric: 2 / 4  (50.0):  20%|██        | 4/20 [00:01<00:05,  2.99it/s]\rAverage Metric: 3 / 5  (60.0):  20%|██        | 4/20 [00:02<00:05,  2.99it/s]\rAverage Metric: 3 / 5  (60.0):  25%|██▌       | 5/20 [00:02<00:07,  1.91it/s]\rAverage Metric: 3 / 6  (50.0):  25%|██▌       | 5/20 [00:02<00:07,  1.91it/s]\rAverage Metric: 3 / 6  (50.0):  30%|███       | 6/20 [00:02<00:05,  2.61it/s]\rAverage Metric: 3 / 7  (42.9):  30%|███       | 6/20 [00:03<00:05,  2.61it/s]\rAverage Metric: 3 / 7  (42.9):  35%|███▌      | 7/20 [00:03<00:04,  2.61it/s]\rAverage Metric: 3 / 8  (37.5):  35%|███▌      | 7/20 [00:03<00:04,  2.61it/s]\rAverage Metric: 3 / 8  (37.5):  40%|████      | 8/20 [00:03<00:03,  3.37it/s]\rAverage Metric: 3 / 9  (33.3):  40%|████      | 8/20 [00:04<00:03,  3.37it/s]\rAverage Metric: 3 / 9  (33.3):  45%|████▌     | 9/20 [00:04<00:05,  1.86it/s]\rAverage Metric: 4 / 10  (40.0):  45%|████▌     | 9/20 [00:04<00:05,  1.86it/s]\rAverage Metric: 5 / 11  (45.5):  50%|█████     | 10/20 [00:04<00:05,  1.86it/s]\rAverage Metric: 5 / 11  (45.5):  55%|█████▌    | 11/20 [00:04<00:03,  2.96it/s]\rAverage Metric: 5 / 12  (41.7):  55%|█████▌    | 11/20 [00:04<00:03,  2.96it/s]\rAverage Metric: 5 / 12  (41.7):  60%|██████    | 12/20 [00:04<00:02,  3.58it/s]\rAverage Metric: 6 / 13  (46.2):  60%|██████    | 12/20 [00:05<00:02,  3.58it/s]\rAverage Metric: 6 / 13  (46.2):  65%|██████▌   | 13/20 [00:05<00:03,  2.07it/s]\rAverage Metric: 7 / 14  (50.0):  65%|██████▌   | 13/20 [00:05<00:03,  2.07it/s]\rAverage Metric: 7 / 14  (50.0):  70%|███████   | 14/20 [00:05<00:02,  2.60it/s]\rAverage Metric: 8 / 15  (53.3):  70%|███████   | 14/20 [00:06<00:02,  2.60it/s]\rAverage Metric: 8 / 15  (53.3):  75%|███████▌  | 15/20 [00:06<00:01,  3.20it/s]\rAverage Metric: 9 / 16  (56.2):  75%|███████▌  | 15/20 [00:06<00:01,  3.20it/s]\rAverage Metric: 9 / 16  (56.2):  80%|████████  | 16/20 [00:06<00:01,  3.31it/s]\rAverage Metric: 10 / 17  (58.8):  80%|████████  | 16/20 [00:07<00:01,  3.31it/s]\rAverage Metric: 10 / 17  (58.8):  85%|████████▌ | 17/20 [00:07<00:01,  2.11it/s]\rAverage Metric: 11 / 18  (61.1):  85%|████████▌ | 17/20 [00:07<00:01,  2.11it/s]\rAverage Metric: 12 / 19  (63.2):  90%|█████████ | 18/20 [00:07<00:00,  2.11it/s]\rAverage Metric: 12 / 20  (60.0):  95%|█████████▌| 19/20 [00:08<00:00,  2.11it/s]\rAverage Metric: 12 / 20  (60.0): 100%|██████████| 20/20 [00:08<00:00,  2.66it/s]\rAverage Metric: 12 / 20  (60.0): 100%|██████████| 20/20 [00:08<00:00,  2.47it/s]\n2024/11/12 22:21:54 INFO dspy.evaluate.evaluate: Average Metric: 12 / 20 (60.0%)\n2024/11/12 22:21:54 INFO dspy.teleprompt.mipro_optimizer_v2: Score: 60.0 on minibatch of size 20 with parameters ['Predictor 0: Instruction 2', 'Predictor 0: Few-Shot Set 0'].\n2024/11/12 22:21:54 INFO dspy.teleprompt.mipro_optimizer_v2: Minibatch scores so far: [60.0, 60.0]\n2024/11/12 22:21:54 INFO dspy.teleprompt.mipro_optimizer_v2: Full eval scores so far: [66.0]\n2024/11/12 22:21:54 INFO dspy.teleprompt.mipro_optimizer_v2: Best full score so far: 66.0\n2024/11/12 22:21:54 INFO dspy.teleprompt.mipro_optimizer_v2: ============================\n\n\n2024/11/12 22:21:54 INFO dspy.teleprompt.mipro_optimizer_v2: == Minibatch Trial 3 / 25 ==\n\r  0%|          | 0/20 [00:00<?, ?it/s]\rAverage Metric: 0 / 1  (0.0):   0%|          | 0/20 [00:01<?, ?it/s]\rAverage Metric: 0 / 1  (0.0):   5%|▌         | 1/20 [00:01<00:19,  1.03s/it]\rAverage Metric: 1 / 2  (50.0):   5%|▌         | 1/20 [00:01<00:19,  1.03s/it]\rAverage Metric: 2 / 3  (66.7):  10%|█         | 2/20 [00:01<00:18,  1.03s/it]\rAverage Metric: 3 / 4  (75.0):  15%|█▌        | 3/20 [00:01<00:17,  1.03s/it]\rAverage Metric: 3 / 4  (75.0):  20%|██        | 4/20 [00:01<00:03,  4.47it/s]\rAverage Metric: 4 / 5  (80.0):  20%|██        | 4/20 [00:01<00:03,  4.47it/s]\rAverage Metric: 5 / 6  (83.3):  25%|██▌       | 5/20 [00:01<00:03,  4.47it/s]\rAverage Metric: 5 / 6  (83.3):  30%|███       | 6/20 [00:01<00:04,  3.47it/s]\rAverage Metric: 5 / 7  (71.4):  30%|███       | 6/20 [00:02<00:04,  3.47it/s]\rAverage Metric: 6 / 8  (75.0):  35%|███▌      | 7/20 [00:02<00:03,  3.47it/s]\rAverage Metric: 6 / 8  (75.0):  40%|████      | 8/20 [00:02<00:02,  4.39it/s]\rAverage Metric: 7 / 9  (77.8):  40%|████      | 8/20 [00:02<00:02,  4.39it/s]\rAverage Metric: 7 / 9  (77.8):  45%|████▌     | 9/20 [00:02<00:03,  3.25it/s]\rAverage Metric: 8 / 10  (80.0):  45%|████▌     | 9/20 [00:02<00:03,  3.25it/s]\rAverage Metric: 8 / 10  (80.0):  50%|█████     | 10/20 [00:02<00:02,  3.57it/s]\rAverage Metric: 9 / 11  (81.8):  50%|█████     | 10/20 [00:03<00:02,  3.57it/s]\rAverage Metric: 9 / 11  (81.8):  55%|█████▌    | 11/20 [00:03<00:02,  3.37it/s]\rAverage Metric: 10 / 12  (83.3):  55%|█████▌    | 11/20 [00:03<00:02,  3.37it/s]\rAverage Metric: 10 / 12  (83.3):  60%|██████    | 12/20 [00:03<00:01,  4.01it/s]\rAverage Metric: 11 / 13  (84.6):  60%|██████    | 12/20 [00:03<00:01,  4.01it/s]\rAverage Metric: 11 / 13  (84.6):  65%|██████▌   | 13/20 [00:03<00:02,  3.46it/s]\rAverage Metric: 12 / 14  (85.7):  65%|██████▌   | 13/20 [00:03<00:02,  3.46it/s]\rAverage Metric: 12 / 14  (85.7):  70%|███████   | 14/20 [00:03<00:01,  3.96it/s]\rAverage Metric: 12 / 15  (80.0):  70%|███████   | 14/20 [00:04<00:01,  3.96it/s]\rAverage Metric: 12 / 15  (80.0):  75%|███████▌  | 15/20 [00:04<00:01,  3.48it/s]\rAverage Metric: 13 / 16  (81.2):  75%|███████▌  | 15/20 [00:04<00:01,  3.48it/s]\rAverage Metric: 13 / 16  (81.2):  80%|████████  | 16/20 [00:04<00:01,  3.67it/s]\rAverage Metric: 14 / 17  (82.4):  80%|████████  | 16/20 [00:04<00:01,  3.67it/s]\rAverage Metric: 14 / 17  (82.4):  85%|████████▌ | 17/20 [00:04<00:00,  4.31it/s]\rAverage Metric: 15 / 18  (83.3):  85%|████████▌ | 17/20 [00:04<00:00,  4.31it/s]\rAverage Metric: 15 / 18  (83.3):  90%|█████████ | 18/20 [00:04<00:00,  4.35it/s]\rAverage Metric: 16 / 19  (84.2):  90%|█████████ | 18/20 [00:05<00:00,  4.35it/s]\rAverage Metric: 16 / 19  (84.2):  95%|█████████▌| 19/20 [00:05<00:00,  3.90it/s]\rAverage Metric: 17 / 20  (85.0):  95%|█████████▌| 19/20 [00:05<00:00,  3.90it/s]\rAverage Metric: 17 / 20  (85.0): 100%|██████████| 20/20 [00:05<00:00,  3.48it/s]\rAverage Metric: 17 / 20  (85.0): 100%|██████████| 20/20 [00:05<00:00,  3.57it/s]\n2024/11/12 22:22:00 INFO dspy.evaluate.evaluate: Average Metric: 17 / 20 (85.0%)\n2024/11/12 22:22:00 INFO dspy.teleprompt.mipro_optimizer_v2: Score: 85.0 on minibatch of size 20 with parameters ['Predictor 0: Instruction 0', 'Predictor 0: Few-Shot Set 4'].\n2024/11/12 22:22:00 INFO dspy.teleprompt.mipro_optimizer_v2: Minibatch scores so far: [60.0, 60.0, 85.0]\n2024/11/12 22:22:00 INFO dspy.teleprompt.mipro_optimizer_v2: Full eval scores so far: [66.0]\n2024/11/12 22:22:00 INFO dspy.teleprompt.mipro_optimizer_v2: Best full score so far: 66.0\n2024/11/12 22:22:00 INFO dspy.teleprompt.mipro_optimizer_v2: ============================\n\n\n2024/11/12 22:22:00 INFO dspy.teleprompt.mipro_optimizer_v2: == Minibatch Trial 4 / 25 ==\n\r  0%|          | 0/20 [00:00<?, ?it/s]\rAverage Metric: 1 / 1  (100.0):   0%|          | 0/20 [00:01<?, ?it/s]\rAverage Metric: 1 / 1  (100.0):   5%|▌         | 1/20 [00:01<00:19,  1.05s/it]\rAverage Metric: 1 / 2  (50.0):   5%|▌         | 1/20 [00:01<00:19,  1.05s/it] \rAverage Metric: 2 / 3  (66.7):  10%|█         | 2/20 [00:01<00:18,  1.05s/it]\rAverage Metric: 2 / 3  (66.7):  15%|█▌        | 3/20 [00:01<00:05,  3.13it/s]\rAverage Metric: 3 / 4  (75.0):  15%|█▌        | 3/20 [00:01<00:05,  3.13it/s]\rAverage Metric: 3 / 4  (75.0):  20%|██        | 4/20 [00:01<00:05,  3.04it/s]\rAverage Metric: 4 / 5  (80.0):  20%|██        | 4/20 [00:02<00:05,  3.04it/s]\rAverage Metric: 4 / 5  (80.0):  25%|██▌       | 5/20 [00:02<00:06,  2.34it/s]\rAverage Metric: 5 / 6  (83.3):  25%|██▌       | 5/20 [00:02<00:06,  2.34it/s]\rAverage Metric: 5 / 6  (83.3):  30%|███       | 6/20 [00:02<00:04,  3.05it/s]\rAverage Metric: 6 / 7  (85.7):  30%|███       | 6/20 [00:02<00:04,  3.05it/s]\rAverage Metric: 6 / 8  (75.0):  35%|███▌      | 7/20 [00:02<00:04,  3.05it/s]\rAverage Metric: 6 / 8  (75.0):  40%|████      | 8/20 [00:02<00:03,  3.49it/s]\rAverage Metric: 6 / 9  (66.7):  40%|████      | 8/20 [00:03<00:03,  3.49it/s]\rAverage Metric: 6 / 9  (66.7):  45%|████▌     | 9/20 [00:03<00:03,  2.83it/s]\rAverage Metric: 6 / 10  (60.0):  45%|████▌     | 9/20 [00:03<00:03,  2.83it/s]\rAverage Metric: 7 / 11  (63.6):  50%|█████     | 10/20 [00:03<00:03,  2.83it/s]\rAverage Metric: 7 / 11  (63.6):  55%|█████▌    | 11/20 [00:03<00:02,  4.07it/s]\rAverage Metric: 8 / 12  (66.7):  55%|█████▌    | 11/20 [00:03<00:02,  4.07it/s]\rAverage Metric: 8 / 12  (66.7):  60%|██████    | 12/20 [00:03<00:01,  4.69it/s]\rAverage Metric: 9 / 13  (69.2):  60%|██████    | 12/20 [00:04<00:01,  4.69it/s]\rAverage Metric: 9 / 13  (69.2):  65%|██████▌   | 13/20 [00:04<00:02,  3.38it/s]\rAverage Metric: 10 / 14  (71.4):  65%|██████▌   | 13/20 [00:04<00:02,  3.38it/s]\rAverage Metric: 10 / 14  (71.4):  70%|███████   | 14/20 [00:04<00:01,  3.65it/s]\rAverage Metric: 10 / 15  (66.7):  70%|███████   | 14/20 [00:04<00:01,  3.65it/s]\rAverage Metric: 10 / 15  (66.7):  75%|███████▌  | 15/20 [00:04<00:01,  3.92it/s]\rAverage Metric: 11 / 16  (68.8):  75%|███████▌  | 15/20 [00:04<00:01,  3.92it/s]\rAverage Metric: 11 / 16  (68.8):  80%|████████  | 16/20 [00:04<00:00,  4.67it/s]\rAverage Metric: 12 / 17  (70.6):  80%|████████  | 16/20 [00:05<00:00,  4.67it/s]\rAverage Metric: 12 / 17  (70.6):  85%|████████▌ | 17/20 [00:05<00:00,  3.69it/s]\rAverage Metric: 13 / 18  (72.2):  85%|████████▌ | 17/20 [00:05<00:00,  3.69it/s]\rAverage Metric: 13 / 18  (72.2):  90%|█████████ | 18/20 [00:05<00:00,  2.75it/s]\rAverage Metric: 14 / 19  (73.7):  90%|█████████ | 18/20 [00:05<00:00,  2.75it/s]\rAverage Metric: 14 / 20  (70.0):  95%|█████████▌| 19/20 [00:06<00:00,  2.75it/s]\rAverage Metric: 14 / 20  (70.0): 100%|██████████| 20/20 [00:06<00:00,  2.99it/s]\rAverage Metric: 14 / 20  (70.0): 100%|██████████| 20/20 [00:06<00:00,  3.19it/s]\n2024/11/12 22:22:06 INFO dspy.evaluate.evaluate: Average Metric: 14 / 20 (70.0%)\n2024/11/12 22:22:06 INFO dspy.teleprompt.mipro_optimizer_v2: Score: 70.0 on minibatch of size 20 with parameters ['Predictor 0: Instruction 11', 'Predictor 0: Few-Shot Set 10'].\n2024/11/12 22:22:06 INFO dspy.teleprompt.mipro_optimizer_v2: Minibatch scores so far: [60.0, 60.0, 85.0, 70.0]\n2024/11/12 22:22:06 INFO dspy.teleprompt.mipro_optimizer_v2: Full eval scores so far: [66.0]\n2024/11/12 22:22:06 INFO dspy.teleprompt.mipro_optimizer_v2: Best full score so far: 66.0\n2024/11/12 22:22:06 INFO dspy.teleprompt.mipro_optimizer_v2: ============================\n\n\n2024/11/12 22:22:06 INFO dspy.teleprompt.mipro_optimizer_v2: == Minibatch Trial 5 / 25 ==\n\r  0%|          | 0/20 [00:00<?, ?it/s]\rAverage Metric: 1 / 1  (100.0):   0%|          | 0/20 [00:01<?, ?it/s]\rAverage Metric: 1 / 1  (100.0):   5%|▌         | 1/20 [00:01<00:20,  1.10s/it]\rAverage Metric: 2 / 2  (100.0):   5%|▌         | 1/20 [00:01<00:20,  1.10s/it]\rAverage Metric: 3 / 3  (100.0):  10%|█         | 2/20 [00:01<00:19,  1.10s/it]\rAverage Metric: 3 / 3  (100.0):  15%|█▌        | 3/20 [00:01<00:06,  2.74it/s]\rAverage Metric: 3 / 4  (75.0):  15%|█▌        | 3/20 [00:01<00:06,  2.74it/s] \rAverage Metric: 4 / 5  (80.0):  20%|██        | 4/20 [00:02<00:05,  2.74it/s]\rAverage Metric: 4 / 5  (80.0):  25%|██▌       | 5/20 [00:02<00:06,  2.16it/s]\rAverage Metric: 5 / 6  (83.3):  25%|██▌       | 5/20 [00:02<00:06,  2.16it/s]\rAverage Metric: 6 / 7  (85.7):  30%|███       | 6/20 [00:02<00:06,  2.16it/s]\rAverage Metric: 6 / 7  (85.7):  35%|███▌      | 7/20 [00:02<00:04,  3.23it/s]\rAve\n\n*** WARNING: max output size exceeded, skipping output. ***\n\n 70.0, 80.0, 75.0, 70.0]\n2024/11/12 22:25:29 INFO dspy.teleprompt.mipro_optimizer_v2: Full eval scores so far: [66.0, 77.0, 74.0, 73.0, 74.0]\n2024/11/12 22:25:29 INFO dspy.teleprompt.mipro_optimizer_v2: Best full score so far: 77.0\n2024/11/12 22:25:29 INFO dspy.teleprompt.mipro_optimizer_v2: =============================\n\n\n2024/11/12 22:25:29 INFO dspy.teleprompt.mipro_optimizer_v2: == Minibatch Trial 23 / 25 ==\n\r  0%|          | 0/20 [00:00<?, ?it/s]\rAverage Metric: 0 / 1  (0.0):   0%|          | 0/20 [00:01<?, ?it/s]\rAverage Metric: 0 / 1  (0.0):   5%|▌         | 1/20 [00:01<00:21,  1.14s/it]\rAverage Metric: 1 / 2  (50.0):   5%|▌         | 1/20 [00:01<00:21,  1.14s/it]\rAverage Metric: 1 / 2  (50.0):  10%|█         | 2/20 [00:01<00:10,  1.77it/s]\rAverage Metric: 1 / 3  (33.3):  10%|█         | 2/20 [00:01<00:10,  1.77it/s]\rAverage Metric: 2 / 4  (50.0):  15%|█▌        | 3/20 [00:01<00:09,  1.77it/s]\rAverage Metric: 2 / 4  (50.0):  20%|██        | 4/20 [00:01<00:06,  2.34it/s]\rAverage Metric: 2 / 5  (40.0):  20%|██        | 4/20 [00:02<00:06,  2.34it/s]\rAverage Metric: 2 / 5  (40.0):  25%|██▌       | 5/20 [00:02<00:05,  2.84it/s]\rAverage Metric: 2 / 6  (33.3):  25%|██▌       | 5/20 [00:02<00:05,  2.84it/s]\rAverage Metric: 3 / 7  (42.9):  30%|███       | 6/20 [00:02<00:04,  2.84it/s]\rAverage Metric: 3 / 7  (42.9):  35%|███▌      | 7/20 [00:02<00:03,  4.11it/s]\rAverage Metric: 4 / 8  (50.0):  35%|███▌      | 7/20 [00:03<00:03,  4.11it/s]\rAverage Metric: 4 / 8  (50.0):  40%|████      | 8/20 [00:03<00:04,  2.76it/s]\rAverage Metric: 5 / 9  (55.6):  40%|████      | 8/20 [00:03<00:04,  2.76it/s]\rAverage Metric: 5 / 10  (50.0):  45%|████▌     | 9/20 [00:03<00:03,  2.76it/s]\rAverage Metric: 6 / 11  (54.5):  50%|█████     | 10/20 [00:03<00:03,  2.76it/s]\rAverage Metric: 6 / 11  (54.5):  55%|█████▌    | 11/20 [00:03<00:02,  4.26it/s]\rAverage Metric: 6 / 12  (50.0):  55%|█████▌    | 11/20 [00:04<00:02,  4.26it/s]\rAverage Metric: 6 / 12  (50.0):  60%|██████    | 12/20 [00:04<00:02,  3.31it/s]\rAverage Metric: 7 / 13  (53.8):  60%|██████    | 12/20 [00:04<00:02,  3.31it/s]\rAverage Metric: 7 / 13  (53.8):  65%|██████▌   | 13/20 [00:04<00:01,  3.84it/s]\rAverage Metric: 8 / 14  (57.1):  65%|██████▌   | 13/20 [00:04<00:01,  3.84it/s]\rAverage Metric: 8 / 14  (57.1):  70%|███████   | 14/20 [00:04<00:01,  4.46it/s]\rAverage Metric: 9 / 15  (60.0):  70%|███████   | 14/20 [00:04<00:01,  4.46it/s]\rAverage Metric: 9 / 15  (60.0):  75%|███████▌  | 15/20 [00:04<00:00,  5.09it/s]\rAverage Metric: 9 / 16  (56.2):  75%|███████▌  | 15/20 [00:04<00:00,  5.09it/s]\rAverage Metric: 9 / 16  (56.2):  80%|████████  | 16/20 [00:04<00:01,  3.47it/s]\rAverage Metric: 10 / 17  (58.8):  80%|████████  | 16/20 [00:05<00:01,  3.47it/s]\rAverage Metric: 10 / 17  (58.8):  85%|████████▌ | 17/20 [00:05<00:00,  4.22it/s]\rAverage Metric: 10 / 18  (55.6):  85%|████████▌ | 17/20 [00:05<00:00,  4.22it/s]\rAverage Metric: 10 / 18  (55.6):  90%|█████████ | 18/20 [00:05<00:00,  4.65it/s]\rAverage Metric: 11 / 19  (57.9):  90%|█████████ | 18/20 [00:05<00:00,  4.65it/s]\rAverage Metric: 11 / 19  (57.9):  95%|█████████▌| 19/20 [00:05<00:00,  5.39it/s]\rAverage Metric: 11 / 20  (55.0):  95%|█████████▌| 19/20 [00:06<00:00,  5.39it/s]\rAverage Metric: 11 / 20  (55.0): 100%|██████████| 20/20 [00:06<00:00,  2.96it/s]\rAverage Metric: 11 / 20  (55.0): 100%|██████████| 20/20 [00:06<00:00,  3.32it/s]\n2024/11/12 22:25:35 INFO dspy.evaluate.evaluate: Average Metric: 11 / 20 (55.0%)\n2024/11/12 22:25:35 INFO dspy.teleprompt.mipro_optimizer_v2: Score: 55.0 on minibatch of size 20 with parameters ['Predictor 0: Instruction 8', 'Predictor 0: Few-Shot Set 8'].\n2024/11/12 22:25:35 INFO dspy.teleprompt.mipro_optimizer_v2: Minibatch scores so far: [60.0, 60.0, 85.0, 70.0, 80.0, 80.0, 85.0, 75.0, 75.0, 85.0, 75.0, 65.0, 85.0, 70.0, 70.0, 60.0, 70.0, 65.0, 70.0, 80.0, 75.0, 70.0, 55.0]\n2024/11/12 22:25:35 INFO dspy.teleprompt.mipro_optimizer_v2: Full eval scores so far: [66.0, 77.0, 74.0, 73.0, 74.0]\n2024/11/12 22:25:35 INFO dspy.teleprompt.mipro_optimizer_v2: Best full score so far: 77.0\n2024/11/12 22:25:35 INFO dspy.teleprompt.mipro_optimizer_v2: =============================\n\n\n2024/11/12 22:25:35 INFO dspy.teleprompt.mipro_optimizer_v2: == Minibatch Trial 24 / 25 ==\n\r  0%|          | 0/20 [00:00<?, ?it/s]\rAverage Metric: 1 / 1  (100.0):   0%|          | 0/20 [00:00<?, ?it/s]\rAverage Metric: 1 / 1  (100.0):   5%|▌         | 1/20 [00:00<00:18,  1.01it/s]\rAverage Metric: 2 / 2  (100.0):   5%|▌         | 1/20 [00:00<00:18,  1.01it/s]\rAverage Metric: 3 / 3  (100.0):  10%|█         | 2/20 [00:01<00:17,  1.01it/s]\rAverage Metric: 4 / 4  (100.0):  15%|█▌        | 3/20 [00:01<00:16,  1.01it/s]\rAverage Metric: 5 / 5  (100.0):  20%|██        | 4/20 [00:01<00:15,  1.01it/s]\rAverage Metric: 5 / 5  (100.0):  25%|██▌       | 5/20 [00:01<00:05,  2.92it/s]\rAverage Metric: 6 / 6  (100.0):  25%|██▌       | 5/20 [00:01<00:05,  2.92it/s]\rAverage Metric: 7 / 7  (100.0):  30%|███       | 6/20 [00:01<00:04,  2.92it/s]\rAverage Metric: 8 / 8  (100.0):  35%|███▌      | 7/20 [00:02<00:04,  2.92it/s]\rAverage Metric: 8 / 8  (100.0):  40%|████      | 8/20 [00:02<00:02,  4.22it/s]\rAverage Metric: 9 / 9  (100.0):  40%|████      | 8/20 [00:02<00:02,  4.22it/s]\rAverage Metric: 9 / 9  (100.0):  45%|████▌     | 9/20 [00:02<00:03,  3.23it/s]\rAverage Metric: 10 / 10  (100.0):  45%|████▌     | 9/20 [00:03<00:03,  3.23it/s]\rAverage Metric: 10 / 10  (100.0):  50%|█████     | 10/20 [00:03<00:02,  3.53it/s]\rAverage Metric: 11 / 11  (100.0):  50%|█████     | 10/20 [00:03<00:02,  3.53it/s]\rAverage Metric: 11 / 11  (100.0):  55%|█████▌    | 11/20 [00:03<00:02,  4.06it/s]\rAverage Metric: 12 / 12  (100.0):  55%|█████▌    | 11/20 [00:03<00:02,  4.06it/s]\rAverage Metric: 12 / 12  (100.0):  60%|██████    | 12/20 [00:03<00:01,  4.31it/s]\rAverage Metric: 13 / 13  (100.0):  60%|██████    | 12/20 [00:04<00:01,  4.31it/s]\rAverage Metric: 13 / 13  (100.0):  65%|██████▌   | 13/20 [00:04<00:02,  2.76it/s]\rAverage Metric: 14 / 14  (100.0):  65%|██████▌   | 13/20 [00:04<00:02,  2.76it/s]\rAverage Metric: 14 / 14  (100.0):  70%|███████   | 14/20 [00:04<00:01,  3.10it/s]\rAverage Metric: 15 / 15  (100.0):  70%|███████   | 14/20 [00:04<00:01,  3.10it/s]\rAverage Metric: 15 / 15  (100.0):  75%|███████▌  | 15/20 [00:04<00:01,  3.36it/s]\rAverage Metric: 15 / 16  (93.8):  75%|███████▌  | 15/20 [00:05<00:01,  3.36it/s] \rAverage Metric: 15 / 16  (93.8):  80%|████████  | 16/20 [00:05<00:01,  2.29it/s]\rAverage Metric: 16 / 17  (94.1):  80%|████████  | 16/20 [00:05<00:01,  2.29it/s]\rAverage Metric: 16 / 18  (88.9):  85%|████████▌ | 17/20 [00:05<00:01,  2.29it/s]\rAverage Metric: 16 / 18  (88.9):  90%|█████████ | 18/20 [00:05<00:00,  3.61it/s]\rAverage Metric: 17 / 19  (89.5):  90%|█████████ | 18/20 [00:06<00:00,  3.61it/s]\rAverage Metric: 17 / 19  (89.5):  95%|█████████▌| 19/20 [00:06<00:00,  2.51it/s]\rAverage Metric: 17 / 20  (85.0):  95%|█████████▌| 19/20 [00:06<00:00,  2.51it/s]\rAverage Metric: 17 / 20  (85.0): 100%|██████████| 20/20 [00:06<00:00,  2.89it/s]\rAverage Metric: 17 / 20  (85.0): 100%|██████████| 20/20 [00:06<00:00,  3.08it/s]\n2024/11/12 22:25:41 INFO dspy.evaluate.evaluate: Average Metric: 17 / 20 (85.0%)\n2024/11/12 22:25:41 INFO dspy.teleprompt.mipro_optimizer_v2: Score: 85.0 on minibatch of size 20 with parameters ['Predictor 0: Instruction 8', 'Predictor 0: Few-Shot Set 2'].\n2024/11/12 22:25:41 INFO dspy.teleprompt.mipro_optimizer_v2: Minibatch scores so far: [60.0, 60.0, 85.0, 70.0, 80.0, 80.0, 85.0, 75.0, 75.0, 85.0, 75.0, 65.0, 85.0, 70.0, 70.0, 60.0, 70.0, 65.0, 70.0, 80.0, 75.0, 70.0, 55.0, 85.0]\n2024/11/12 22:25:41 INFO dspy.teleprompt.mipro_optimizer_v2: Full eval scores so far: [66.0, 77.0, 74.0, 73.0, 74.0]\n2024/11/12 22:25:41 INFO dspy.teleprompt.mipro_optimizer_v2: Best full score so far: 77.0\n2024/11/12 22:25:41 INFO dspy.teleprompt.mipro_optimizer_v2: =============================\n\n\n2024/11/12 22:25:41 INFO dspy.teleprompt.mipro_optimizer_v2: == Minibatch Trial 25 / 25 ==\n\r  0%|          | 0/20 [00:00<?, ?it/s]\rAverage Metric: 0 / 1  (0.0):   0%|          | 0/20 [00:01<?, ?it/s]\rAverage Metric: 0 / 1  (0.0):   5%|▌         | 1/20 [00:01<00:20,  1.06s/it]\rAverage Metric: 1 / 2  (50.0):   5%|▌         | 1/20 [00:01<00:20,  1.06s/it]\rAverage Metric: 1 / 3  (33.3):  10%|█         | 2/20 [00:01<00:19,  1.06s/it]\rAverage Metric: 1 / 3  (33.3):  15%|█▌        | 3/20 [00:01<00:05,  2.97it/s]\rAverage Metric: 2 / 4  (50.0):  15%|█▌        | 3/20 [00:01<00:05,  2.97it/s]\rAverage Metric: 3 / 5  (60.0):  20%|██        | 4/20 [00:01<00:05,  2.97it/s]\rAverage Metric: 3 / 5  (60.0):  25%|██▌       | 5/20 [00:01<00:05,  2.96it/s]\rAverage Metric: 4 / 6  (66.7):  25%|██▌       | 5/20 [00:02<00:05,  2.96it/s]\rAverage Metric: 4 / 6  (66.7):  30%|███       | 6/20 [00:02<00:05,  2.75it/s]\rAverage Metric: 4 / 7  (57.1):  30%|███       | 6/20 [00:02<00:05,  2.75it/s]\rAverage Metric: 5 / 8  (62.5):  35%|███▌      | 7/20 [00:02<00:04,  2.75it/s]\rAverage Metric: 5 / 8  (62.5):  40%|████      | 8/20 [00:02<00:02,  4.20it/s]\rAverage Metric: 6 / 9  (66.7):  40%|████      | 8/20 [00:02<00:02,  4.20it/s]\rAverage Metric: 6 / 9  (66.7):  45%|████▌     | 9/20 [00:02<00:03,  3.39it/s]\rAverage Metric: 6 / 10  (60.0):  45%|████▌     | 9/20 [00:03<00:03,  3.39it/s]\rAverage Metric: 6 / 10  (60.0):  50%|█████     | 10/20 [00:03<00:03,  3.33it/s]\rAverage Metric: 6 / 11  (54.5):  50%|█████     | 10/20 [00:03<00:03,  3.33it/s]\rAverage Metric: 6 / 11  (54.5):  55%|█████▌    | 11/20 [00:03<00:02,  3.41it/s]\rAverage Metric: 7 / 12  (58.3):  55%|█████▌    | 11/20 [00:03<00:02,  3.41it/s]\rAverage Metric: 8 / 13  (61.5):  60%|██████    | 12/20 [00:03<00:02,  3.41it/s]\rAverage Metric: 8 / 13  (61.5):  65%|██████▌   | 13/20 [00:03<00:01,  4.13it/s]\rAverage Metric: 9 / 14  (64.3):  65%|██████▌   | 13/20 [00:04<00:01,  4.13it/s]\rAverage Metric: 9 / 14  (64.3):  70%|███████   | 14/20 [00:04<00:01,  3.36it/s]\rAverage Metric: 9 / 15  (60.0):  70%|███████   | 14/20 [00:04<00:01,  3.36it/s]\rAverage Metric: 9 / 15  (60.0):  75%|███████▌  | 15/20 [00:04<00:01,  3.69it/s]\rAverage Metric: 10 / 16  (62.5):  75%|███████▌  | 15/20 [00:04<00:01,  3.69it/s]\rAverage Metric: 10 / 16  (62.5):  80%|████████  | 16/20 [00:04<00:00,  4.21it/s]\rAverage Metric: 10 / 17  (58.8):  80%|████████  | 16/20 [00:04<00:00,  4.21it/s]\rAverage Metric: 10 / 17  (58.8):  85%|████████▌ | 17/20 [00:04<00:00,  4.10it/s]\rAverage Metric: 11 / 18  (61.1):  85%|████████▌ | 17/20 [00:05<00:00,  4.10it/s]\rAverage Metric: 11 / 18  (61.1):  90%|█████████ | 18/20 [00:05<00:00,  3.09it/s]\rAverage Metric: 12 / 19  (63.2):  90%|█████████ | 18/20 [00:05<00:00,  3.09it/s]\rAverage Metric: 13 / 20  (65.0):  95%|█████████▌| 19/20 [00:06<00:00,  3.09it/s]\rAverage Metric: 13 / 20  (65.0): 100%|██████████| 20/20 [00:06<00:00,  3.40it/s]\rAverage Metric: 13 / 20  (65.0): 100%|██████████| 20/20 [00:06<00:00,  3.32it/s]\n2024/11/12 22:25:47 INFO dspy.evaluate.evaluate: Average Metric: 13 / 20 (65.0%)\n2024/11/12 22:25:47 INFO dspy.teleprompt.mipro_optimizer_v2: Score: 65.0 on minibatch of size 20 with parameters ['Predictor 0: Instruction 6', 'Predictor 0: Few-Shot Set 7'].\n2024/11/12 22:25:47 INFO dspy.teleprompt.mipro_optimizer_v2: Minibatch scores so far: [60.0, 60.0, 85.0, 70.0, 80.0, 80.0, 85.0, 75.0, 75.0, 85.0, 75.0, 65.0, 85.0, 70.0, 70.0, 60.0, 70.0, 65.0, 70.0, 80.0, 75.0, 70.0, 55.0, 85.0, 65.0]\n2024/11/12 22:25:47 INFO dspy.teleprompt.mipro_optimizer_v2: Full eval scores so far: [66.0, 77.0, 74.0, 73.0, 74.0]\n2024/11/12 22:25:47 INFO dspy.teleprompt.mipro_optimizer_v2: Best full score so far: 77.0\n2024/11/12 22:25:47 INFO dspy.teleprompt.mipro_optimizer_v2: =============================\n\n\n2024/11/12 22:25:47 INFO dspy.teleprompt.mipro_optimizer_v2: ===== Full Eval 5 =====\n2024/11/12 22:25:47 INFO dspy.teleprompt.mipro_optimizer_v2: Doing full eval on next top averaging program (Avg Score: 85.0) from minibatch trials...\n\r  0%|          | 0/100 [00:00<?, ?it/s]\rAverage Metric: 0 / 1  (0.0):   0%|          | 0/100 [00:00<?, ?it/s]\rAverage Metric: 1 / 2  (50.0):   1%|          | 1/100 [00:00<01:29,  1.10it/s]\rAverage Metric: 1 / 2  (50.0):   2%|▏         | 2/100 [00:00<00:45,  2.17it/s]\rAverage Metric: 2 / 3  (66.7):   2%|▏         | 2/100 [00:00<00:45,  2.17it/s]\rAverage Metric: 3 / 4  (75.0):   3%|▎         | 3/100 [00:00<00:44,  2.17it/s]\rAverage Metric: 3 / 5  (60.0):   4%|▍         | 4/100 [00:00<00:44,  2.17it/s]\rAverage Metric: 4 / 6  (66.7):   5%|▌         | 5/100 [00:01<00:43,  2.17it/s]\rAverage Metric: 4 / 6  (66.7):   6%|▌         | 6/100 [00:01<00:14,  6.37it/s]\rAverage Metric: 5 / 7  (71.4):   6%|▌         | 6/100 [00:01<00:14,  6.37it/s]\rAverage Metric: 5 / 8  (62.5):   7%|▋         | 7/100 [00:01<00:14,  6.37it/s]\rAverage Metric: 5 / 8  (62.5):   8%|▊         | 8/100 [00:01<00:21,  4.30it/s]\rAverage Metric: 6 / 9  (66.7):   8%|▊         | 8/100 [00:01<00:21,  4.30it/s]\rAverage Metric: 7 / 10  (70.0):   9%|▉         | 9/100 [00:01<00:21,  4.30it/s]\rAverage Metric: 7 / 10  (70.0):  10%|█         | 10/100 [00:01<00:15,  5.78it/s]\rAverage Metric: 8 / 11  (72.7):  10%|█         | 10/100 [00:02<00:15,  5.78it/s]\rAverage Metric: 9 / 12  (75.0):  11%|█         | 11/100 [00:02<00:15,  5.78it/s]\rAverage Metric: 9 / 12  (75.0):  12%|█▏        | 12/100 [00:02<00:20,  4.33it/s]\rAverage Metric: 9 / 13  (69.2):  12%|█▏        | 12/100 [00:02<00:20,  4.33it/s]\rAverage Metric: 9 / 13  (69.2):  13%|█▎        | 13/100 [00:02<00:17,  4.84it/s]\rAverage Metric: 9 / 14  (64.3):  13%|█▎        | 13/100 [00:02<00:17,  4.84it/s]\rAverage Metric: 10 / 15  (66.7):  14%|█▍        | 14/100 [00:03<00:17,  4.84it/s]\rAverage Metric: 10 / 15  (66.7):  15%|█▌        | 15/100 [00:03<00:17,  4.97it/s]\rAverage Metric: 11 / 16  (68.8):  15%|█▌        | 15/100 [00:03<00:17,  4.97it/s]\rAverage Metric: 11 / 16  (68.8):  16%|█▌        | 16/100 [00:03<00:23,  3.64it/s]\rAverage Metric: 11 / 17  (64.7):  16%|█▌        | 16/100 [00:03<00:23,  3.64it/s]\rAverage Metric: 12 / 18  (66.7):  17%|█▋        | 17/100 [00:03<00:22,  3.64it/s]\rAverage Metric: 12 / 18  (66.7):  18%|█▊        | 18/100 [00:03<00:18,  4.54it/s]\rAverage Metric: 13 / 19  (68.4):  18%|█▊        | 18/100 [00:04<00:18,  4.54it/s]\rAverage Metric: 14 / 20  (70.0):  19%|█▉        | 19/100 [00:04<00:17,  4.54it/s]\rAverage Metric: 14 / 20  (70.0):  20%|██        | 20/100 [00:04<00:20,  3.85it/s]\rAverage Metric: 15 / 21  (71.4):  20%|██        | 20/100 [00:05<00:20,  3.85it/s]\rAverage Metric: 15 / 21  (71.4):  21%|██        | 21/100 [00:05<00:22,  3.54it/s]\rAverage Metric: 16 / 22  (72.7):  21%|██        | 21/100 [00:05<00:22,  3.54it/s]\rAverage Metric: 16 / 23  (69.6):  22%|██▏       | 22/100 [00:05<00:22,  3.54it/s]\rAverage Metric: 17 / 24  (70.8):  23%|██▎       | 23/100 [00:05<00:21,  3.54it/s]\rAverage Metric: 17 / 24  (70.8):  24%|██▍       | 24/100 [00:05<00:18,  4.11it/s]\rAverage Metric: 18 / 25  (72.0):  24%|██▍       | 24/100 [00:05<00:18,  4.11it/s]\rAverage Metric: 18 / 25  (72.0):  25%|██▌       | 25/100 [00:05<00:18,  3.97it/s]\rAverage Metric: 18 / 26  (69.2):  25%|██▌       | 25/100 [00:05<00:18,  3.97it/s]\rAverage Metric: 18 / 27  (66.7):  26%|██▌       | 26/100 [00:06<00:18,  3.97it/s]\rAverage Metric: 18 / 27  (66.7):  27%|██▋       | 27/100 [00:06<00:14,  5.15it/s]\rAverage Metric: 19 / 28  (67.9):  27%|██▋       | 27/100 [00:06<00:14,  5.15it/s]\rAverage Metric: 19 / 28  (67.9):  28%|██▊       | 28/100 [00:06<00:19,  3.79it/s]\rAverage Metric: 20 / 29  (69.0):  28%|██▊       | 28/100 [00:06<00:19,  3.79it/s]\rAverage Metric: 20 / 29  (69.0):  29%|██▉       | 29/100 [00:06<00:17,  4.02it/s]\rAverage Metric: 21 / 30  (70.0):  29%|██▉       | 29/100 [00:06<00:17,  4.02it/s]\rAverage Metric: 21 / 31  (67.7):  30%|███       | 30/100 [00:07<00:17,  4.02it/s]\rAverage Metric: 21 / 31  (67.7):  31%|███       | 31/100 [00:07<00:13,  5.05it/s]\rAverage Metric: 22 / 32  (68.8):  31%|███       | 31/100 [00:07<00:13,  5.05it/s]\rAverage Metric: 22 / 32  (68.8):  32%|███▏      | 32/100 [00:07<00:22,  2.97it/s]\rAverage Metric: 23 / 33  (69.7):  32%|███▏      | 32/100 [00:07<00:22,  2.97it/s]\rAverage Metric: 24 / 34  (70.6):  33%|███▎      | 33/100 [00:08<00:22,  2.97it/s]\rAverage Metric: 24 / 34  (70.6):  34%|███▍      | 34/100 [00:08<00:19,  3.42it/s]\rAverage Metric: 25 / 35  (71.4):  34%|███▍      | 34/100 [00:08<00:19,  3.42it/s]\rAverage Metric: 25 / 35  (71.4):  35%|███▌      | 35/100 [00:08<00:20,  3.21it/s]\rAverage Metric: 26 / 36  (72.2):  35%|███▌      | 35/100 [00:08<00:20,  3.21it/s]\rAverage Metric: 27 / 37  (73.0):  36%|███▌      | 36/100 [00:09<00:19,  3.21it/s]\rAverage Metric: 27 / 37  (73.0):  37%|███▋      | 37/100 [00:09<00:16,  3.88it/s]\rAverage Metric: 28 / 38  (73.7):  37%|███▋      | 37/100 [00:09<00:16,  3.88it/s]\rAverage Metric: 29 / 39  (74.4):  38%|███▊      | 38/100 [00:09<00:15,  3.88it/s]\rAverage Metric: 29 / 39  (74.4):  39%|███▉      | 39/100 [00:09<00:13,  4.49it/s]\rAverage Metric: 30 / 40  (75.0):  39%|███▉      | 39/100 [00:09<00:13,  4.49it/s]\rAverage Metric: 30 / 40  (75.0):  40%|████      | 40/100 [00:09<00:16,  3.63it/s]\rAverage Metric: 31 / 41  (75.6):  40%|████      | 40/100 [00:10<00:16,  3.63it/s]\rAverage Metric: 31 / 41  (75.6):  41%|████      | 41/100 [00:10<00:18,  3.27it/s]\rAverage Metric: 32 / 42  (76.2):  41%|████      | 41/100 [00:10<00:18,  3.27it/s]\rAverage Metric: 32 / 42  (76.2):  42%|████▏     | 42/100 [00:11<00:27,  2.13it/s]\rAverage Metric: 33 / 43  (76.7):  42%|████▏     | 42/100 [00:11<00:27,  2.13it/s]\rAverage Metric: 33 / 44  (75.0):  43%|████▎     | 43/100 [00:11<00:26,  2.13it/s]\rAverage Metric: 34 / 45  (75.6):  44%|████▍     | 44/100 [00:11<00:26,  2.13it/s]\rAverage Metric: 34 / 45  (75.6):  45%|████▌     | 45/100 [00:11<00:15,  3.44it/s]\rAverage Metric: 35 / 46  (76.1):  45%|████▌     | 45/100 [00:12<00:15,  3.44it/s]\rAverage Metric: 35 / 46  (76.1):  46%|████▌     | 46/100 [00:12<00:19,  2.76it/s]\rAverage Metric: 35 / 47  (74.5):  46%|████▌     | 46/100 [00:12<00:19,  2.76it/s]\rAverage Metric: 36 / 48  (75.0):  47%|████▋     | 47/100 [00:12<00:19,  2.76it/s]\rAverage Metric: 36 / 48  (75.0):  48%|████▊     | 48/100 [00:12<00:13,  3.89it/s]\rAverage Metric: 37 / 49  (75.5):  48%|████▊     | 48/100 [00:12<00:13,  3.89it/s]\rAverage Metric: 37 / 49  (75.5):  49%|████▉     | 49/100 [00:12<00:12,  4.19it/s]\rAverage Metric: 38 / 50  (76.0):  49%|████▉     | 49/100 [00:13<00:12,  4.19it/s]\rAverage Metric: 38 / 50  (76.0):  50%|█████     | 50/100 [00:13<00:16,  3.00it/s]\rAverage Metric: 39 / 51  (76.5):  50%|█████     | 50/100 [00:13<00:16,  3.00it/s]\rAverage Metric: 40 / 52  (76.9):  51%|█████     | 51/100 [00:13<00:16,  3.00it/s]\rAverage Metric: 41 / 53  (77.4):  52%|█████▏    | 52/100 [00:13<00:15,  3.00it/s]\rAverage Metric: 41 / 53  (77.4):  53%|█████▎    | 53/100 [00:13<00:10,  4.66it/s]\rAverage Metric: 42 / 54  (77.8):  53%|█████▎    | 53/100 [00:13<00:10,  4.66it/s]\rAverage Metric: 43 / 55  (78.2):  54%|█████▍    | 54/100 [00:13<00:09,  4.66it/s]\rAverage Metric: 43 / 56  (76.8):  55%|█████▌    | 55/100 [00:13<00:09,  4.66it/s]\rAverage Metric: 43 / 56  (76.8):  56%|█████▌    | 56/100 [00:13<00:06,  6.93it/s]\rAverage Metric: 44 / 57  (77.2):  56%|█████▌    | 56/100 [00:14<00:06,  6.93it/s]\rAverage Metric: 45 / 58  (77.6):  57%|█████▋    | 57/100 [00:14<00:06,  6.93it/s]\rAverage Metric: 45 / 58  (77.6):  58%|█████▊    | 58/100 [00:14<00:09,  4.22it/s]\rAverage Metric: 46 / 59  (78.0):  58%|█████▊    | 58/100 [00:14<00:09,  4.22it/s]\rAverage Metric: 47 / 60  (78.3):  59%|█████▉    | 59/100 [00:14<00:09,  4.22it/s]\rAverage Metric: 48 / 61  (78.7):  60%|██████    | 60/100 [00:14<00:09,  4.22it/s]\rAverage Metric: 48 / 61  (78.7):  61%|██████    | 61/100 [00:14<00:06,  6.20it/s]\rAverage Metric: 49 / 62  (79.0):  61%|██████    | 61/100 [00:14<00:06,  6.20it/s]\rAverage Metric: 50 / 63  (79.4):  62%|██████▏   | 62/100 [00:14<00:06,  6.20it/s]\rAverage Metric: 51 / 64  (79.7):  63%|██████▎   | 63/100 [00:14<00:05,  6.20it/s]\rAverage Metric: 52 / 65  (80.0):  64%|██████▍   | 64/100 [00:14<00:05,  6.20it/s]\rAverage Metric: 53 / 66  (80.3):  65%|██████▌   | 65/100 [00:14<00:05,  6.20it/s]\rAverage Metric: 54 / 67  (80.6):  66%|██████▌   | 66/100 [00:15<00:05,  6.20it/s]\rAverage Metric: 54 / 67  (80.6):  67%|██████▋   | 67/100 [00:15<00:04,  7.50it/s]\rAverage Metric: 54 / 68  (79.4):  67%|██████▋   | 67/100 [00:15<00:04,  7.50it/s]\rAverage Metric: 55 / 69  (79.7):  68%|██████▊   | 68/100 [00:15<00:04,  7.50it/s]\rAverage Metric: 55 / 69  (79.7):  69%|██████▉   | 69/100 [00:15<00:04,  7.29it/s]\rAverage Metric: 56 / 70  (80.0):  69%|██████▉   | 69/100 [00:15<00:04,  7.29it/s]\rAverage Metric: 56 / 71  (78.9):  70%|███████   | 70/100 [00:15<00:04,  7.29it/s]\rAverage Metric: 56 / 71  (78.9):  71%|███████   | 71/100 [00:15<00:03,  8.39it/s]\rAverage Metric: 57 / 72  (79.2):  71%|███████   | 71/100 [00:16<00:03,  8.39it/s]\rAverage Metric: 58 / 73  (79.5):  72%|███████▏  | 72/100 [00:16<00:03,  8.39it/s]\rAverage Metric: 58 / 73  (79.5):  73%|███████▎  | 73/100 [00:16<00:04,  5.45it/s]\rAverage Metric: 59 / 74  (79.7):  73%|███████▎  | 73/100 [00:16<00:04,  5.45it/s]\rAverage Metric: 59 / 75  (78.7):  74%|███████▍  | 74/100 [00:16<00:04,  5.45it/s]\rAverage Metric: 59 / 75  (78.7):  75%|███████▌  | 75/100 [00:16<00:04,  6.02it/s]\rAverage Metric: 60 / 76  (78.9):  75%|███████▌  | 75/100 [00:17<00:04,  6.02it/s]\rAverage Metric: 60 / 76  (78.9):  76%|███████▌  | 76/100 [00:17<00:06,  3.92it/s]\rAverage Metric: 61 / 77  (79.2):  76%|███████▌  | 76/100 [00:17<00:06,  3.92it/s]\rAverage Metric: 62 / 78  (79.5):  77%|███████▋  | 77/100 [00:17<00:05,  3.92it/s]\rAverage Metric: 63 / 79  (79.7):  78%|███████▊  | 78/100 [00:17<00:05,  3.92it/s]\rAverage Metric: 63 / 80  (78.8):  79%|███████▉  | 79/100 [00:18<00:05,  3.92it/s]\rAverage Metric: 63 / 80  (78.8):  80%|████████  | 80/100 [00:18<00:04,  4.91it/s]\rAverage Metric: 63 / 81  (77.8):  80%|████████  | 80/100 [00:18<00:04,  4.91it/s]\rAverage Metric: 64 / 82  (78.0):  81%|████████  | 81/100 [00:18<00:03,  4.91it/s]\rAverage Metric: 64 / 82  (78.0):  82%|████████▏ | 82/100 [00:18<00:03,  4.92it/s]\rAverage Metric: 65 / 83  (78.3):  82%|████████▏ | 82/100 [00:18<00:03,  4.92it/s]\rAverage Metric: 66 / 84  (78.6):  83%|████████▎ | 83/100 [00:19<00:03,  4.92it/s]\rAverage Metric: 66 / 84  (78.6):  84%|████████▍ | 84/100 [00:19<00:03,  4.55it/s]\rAverage Metric: 67 / 85  (78.8):  84%|████████▍ | 84/100 [00:19<00:03,  4.55it/s]\rAverage Metric: 67 / 86  (77.9):  85%|████████▌ | 85/100 [00:19<00:03,  4.55it/s]\rAverage Metric: 67 / 86  (77.9):  86%|████████▌ | 86/100 [00:19<00:03,  4.44it/s]\rAverage Metric: 67 / 87  (77.0):  86%|████████▌ | 86/100 [00:19<00:03,  4.44it/s]\rAverage Metric: 68 / 88  (77.3):  87%|████████▋ | 87/100 [00:19<00:02,  4.44it/s]\rAverage Metric: 69 / 89  (77.5):  88%|████████▊ | 88/100 [00:19<00:02,  4.44it/s]\rAverage Metric: 69 / 89  (77.5):  89%|████████▉ | 89/100 [00:19<00:01,  5.50it/s]\rAverage Metric: 70 / 90  (77.8):  89%|████████▉ | 89/100 [00:19<00:01,  5.50it/s]\rAverage Metric: 70 / 91  (76.9):  90%|█████████ | 90/100 [00:19<00:01,  5.50it/s]\rAverage Metric: 70 / 91  (76.9):  91%|█████████ | 91/100 [00:19<00:01,  6.66it/s]\rAverage Metric: 71 / 92  (77.2):  91%|█████████ | 91/100 [00:20<00:01,  6.66it/s]\rAverage Metric: 72 / 93  (77.4):  92%|█████████▏| 92/100 [00:20<00:01,  6.66it/s]\rAverage Metric: 72 / 93  (77.4):  93%|█████████▎| 93/100 [00:20<00:01,  5.15it/s]\rAverage Metric: 73 / 94  (77.7):  93%|█████████▎| 93/100 [00:20<00:01,  5.15it/s]\rAverage Metric: 73 / 95  (76.8):  94%|█████████▍| 94/100 [00:20<00:01,  5.15it/s]\rAverage Metric: 73 / 95  (76.8):  95%|█████████▌| 95/100 [00:20<00:00,  6.00it/s]\rAverage Metric: 73 / 96  (76.0):  95%|█████████▌| 95/100 [00:20<00:00,  6.00it/s]\rAverage Metric: 73 / 96  (76.0):  96%|█████████▌| 96/100 [00:21<00:00,  5.61it/s]\rAverage Metric: 74 / 97  (76.3):  96%|█████████▌| 96/100 [00:21<00:00,  5.61it/s]\rAverage Metric: 75 / 98  (76.5):  97%|█████████▋| 97/100 [00:21<00:00,  5.61it/s]\rAverage Metric: 75 / 98  (76.5):  98%|█████████▊| 98/100 [00:21<00:00,  5.02it/s]\rAverage Metric: 76 / 99  (76.8):  98%|█████████▊| 98/100 [00:21<00:00,  5.02it/s]\rAverage Metric: 76 / 99  (76.8):  99%|█████████▉| 99/100 [00:21<00:00,  4.51it/s]\rAverage Metric: 77 / 100  (77.0):  99%|█████████▉| 99/100 [00:21<00:00,  4.51it/s]\rAverage Metric: 77 / 100  (77.0): 100%|██████████| 100/100 [00:21<00:00,  4.93it/s]\rAverage Metric: 77 / 100  (77.0): 100%|██████████| 100/100 [00:21<00:00,  4.56it/s]\n2024/11/12 22:26:09 INFO dspy.evaluate.evaluate: Average Metric: 77 / 100 (77.0%)\n2024/11/12 22:26:09 INFO dspy.teleprompt.mipro_optimizer_v2: Full eval scores so far: [66.0, 77.0, 74.0, 73.0, 74.0, 77.0]\n2024/11/12 22:26:09 INFO dspy.teleprompt.mipro_optimizer_v2: Best full score so far: 77.0\n2024/11/12 22:26:09 INFO dspy.teleprompt.mipro_optimizer_v2: =======================\n2024/11/12 22:26:09 INFO dspy.teleprompt.mipro_optimizer_v2: \n\n2024/11/12 22:26:09 INFO dspy.teleprompt.mipro_optimizer_v2: Returning best identified program with score 77.0!\n"
     ]
    }
   ],
   "source": [
    "from dspy.teleprompt import MIPROv2\n",
    "\n",
    "\n",
    "# Initialize optimizer\n",
    "optimizer = MIPROv2(\n",
    "   metric=accuracy,\n",
    "   num_candidates=12,\n",
    "   init_temperature=0.3,\n",
    "   verbose=False,\n",
    "   num_threads=4,\n",
    ")\n",
    "\n",
    "\n",
    "# Optimize program\n",
    "print(f\"Optimizing program with MIPRO V2...\")\n",
    "optimized_classifier = optimizer.compile(\n",
    "   classifier.deepcopy(),\n",
    "   trainset=trainset[:200],\n",
    "   valset=valset[:100],\n",
    "   max_bootstrapped_demos=5,\n",
    "   max_labeled_demos=5,\n",
    "   num_trials=25,\n",
    "   minibatch_size=20,\n",
    "   minibatch_full_eval_steps=5,\n",
    ")"
   ]
  },
  {
   "cell_type": "markdown",
   "metadata": {
    "application/vnd.databricks.v1+cell": {
     "cellMetadata": {},
     "inputWidgets": {},
     "nuid": "c5e03618-a82f-4610-999b-8911adf808ba",
     "showTitle": false,
     "tableResultSettingsMap": {},
     "title": ""
    }
   },
   "source": [
    "Let's see the performance of the optimized classifier. "
   ]
  },
  {
   "cell_type": "code",
   "execution_count": 0,
   "metadata": {
    "application/vnd.databricks.v1+cell": {
     "cellMetadata": {
      "byteLimit": 2048000,
      "rowLimit": 10000
     },
     "inputWidgets": {},
     "nuid": "c4d70802-f22a-4f7f-8c88-199f6fbc7fa3",
     "showTitle": false,
     "tableResultSettingsMap": {},
     "title": ""
    }
   },
   "outputs": [
    {
     "output_type": "stream",
     "name": "stderr",
     "output_type": "stream",
     "text": [
      "\r  0%|          | 0/100 [00:00<?, ?it/s]\rAverage Metric: 1 / 1  (100.0):   0%|          | 0/100 [00:00<?, ?it/s]\rAverage Metric: 2 / 2  (100.0):   1%|          | 1/100 [00:00<00:00, 1224.26it/s]\rAverage Metric: 2 / 3  (66.7):   2%|▏         | 2/100 [00:00<00:00, 1407.48it/s] \rAverage Metric: 3 / 4  (75.0):   3%|▎         | 3/100 [00:00<00:00, 1444.82it/s]\rAverage Metric: 4 / 5  (80.0):   4%|▍         | 4/100 [00:00<00:00, 1509.83it/s]\rAverage Metric: 5 / 6  (83.3):   5%|▌         | 5/100 [00:00<00:00, 1551.03it/s]\rAverage Metric: 6 / 7  (85.7):   6%|▌         | 6/100 [00:00<00:00, 1566.60it/s]\rAverage Metric: 7 / 8  (87.5):   7%|▋         | 7/100 [00:00<00:00, 1590.65it/s]\rAverage Metric: 8 / 9  (88.9):   8%|▊         | 8/100 [00:00<00:00, 1601.87it/s]\rAverage Metric: 9 / 10  (90.0):   9%|▉         | 9/100 [00:00<00:00, 1608.45it/s]\rAverage Metric: 10 / 11  (90.9):  10%|█         | 10/100 [00:00<00:00, 1613.13it/s]\rAverage Metric: 10 / 12  (83.3):  11%|█         | 11/100 [00:00<00:00, 1621.30it/s]\rAverage Metric: 11 / 13  (84.6):  12%|█▏        | 12/100 [00:00<00:00, 1626.54it/s]\rAverage Metric: 12 / 14  (85.7):  13%|█▎        | 13/100 [00:00<00:00, 1631.44it/s]\rAverage Metric: 13 / 15  (86.7):  14%|█▍        | 14/100 [00:00<00:00, 1642.02it/s]\rAverage Metric: 14 / 16  (87.5):  15%|█▌        | 15/100 [00:00<00:00, 1645.64it/s]\rAverage Metric: 15 / 17  (88.2):  16%|█▌        | 16/100 [00:00<00:00, 1646.00it/s]\rAverage Metric: 16 / 18  (88.9):  17%|█▋        | 17/100 [00:00<00:00, 1666.78it/s]\rAverage Metric: 17 / 19  (89.5):  18%|█▊        | 18/100 [00:00<00:00, 1669.19it/s]\rAverage Metric: 17 / 20  (85.0):  19%|█▉        | 19/100 [00:00<00:00, 1668.80it/s]\rAverage Metric: 17 / 21  (81.0):  20%|██        | 20/100 [00:00<00:00, 1678.70it/s]\rAverage Metric: 18 / 22  (81.8):  21%|██        | 21/100 [00:00<00:00, 1680.03it/s]\rAverage Metric: 19 / 23  (82.6):  22%|██▏       | 22/100 [00:00<00:00, 1683.11it/s]\rAverage Metric: 20 / 24  (83.3):  23%|██▎       | 23/100 [00:00<00:00, 1688.53it/s]\rAverage Metric: 21 / 25  (84.0):  24%|██▍       | 24/100 [00:00<00:00, 1693.10it/s]\rAverage Metric: 21 / 26  (80.8):  25%|██▌       | 25/100 [00:00<00:00, 1699.28it/s]\rAverage Metric: 22 / 27  (81.5):  26%|██▌       | 26/100 [00:00<00:00, 1701.04it/s]\rAverage Metric: 23 / 28  (82.1):  27%|██▋       | 27/100 [00:00<00:00, 1703.49it/s]\rAverage Metric: 23 / 29  (79.3):  28%|██▊       | 28/100 [00:00<00:00, 1707.18it/s]\rAverage Metric: 23 / 30  (76.7):  29%|██▉       | 29/100 [00:00<00:00, 1711.89it/s]\rAverage Metric: 24 / 31  (77.4):  30%|███       | 30/100 [00:00<00:00, 1723.40it/s]\rAverage Metric: 25 / 32  (78.1):  31%|███       | 31/100 [00:00<00:00, 1733.92it/s]\rAverage Metric: 26 / 33  (78.8):  32%|███▏      | 32/100 [00:00<00:00, 1743.40it/s]\rAverage Metric: 27 / 34  (79.4):  33%|███▎      | 33/100 [00:00<00:00, 1753.85it/s]\rAverage Metric: 27 / 35  (77.1):  34%|███▍      | 34/100 [00:00<00:00, 1762.88it/s]\rAverage Metric: 28 / 36  (77.8):  35%|███▌      | 35/100 [00:00<00:00, 1770.54it/s]\rAverage Metric: 28 / 37  (75.7):  36%|███▌      | 36/100 [00:00<00:00, 1777.54it/s]\rAverage Metric: 29 / 38  (76.3):  37%|███▋      | 37/100 [00:00<00:00, 1780.84it/s]\rAverage Metric: 30 / 39  (76.9):  38%|███▊      | 38/100 [00:00<00:00, 1571.50it/s]\rAverage Metric: 31 / 40  (77.5):  39%|███▉      | 39/100 [00:00<00:00, 1579.03it/s]\rAverage Metric: 32 / 41  (78.0):  40%|████      | 40/100 [00:00<00:00, 1589.25it/s]\rAverage Metric: 33 / 42  (78.6):  41%|████      | 41/100 [00:00<00:00, 1599.29it/s]\rAverage Metric: 34 / 43  (79.1):  42%|████▏     | 42/100 [00:00<00:00, 1609.66it/s]\rAverage Metric: 34 / 44  (77.3):  43%|████▎     | 43/100 [00:00<00:00, 1619.63it/s]\rAverage Metric: 35 / 45  (77.8):  44%|████▍     | 44/100 [00:00<00:00, 1629.04it/s]\rAverage Metric: 36 / 46  (78.3):  45%|████▌     | 45/100 [00:00<00:00, 1638.60it/s]\rAverage Metric: 37 / 47  (78.7):  46%|████▌     | 46/100 [00:00<00:00, 1646.17it/s]\rAverage Metric: 38 / 48  (79.2):  47%|████▋     | 47/100 [00:00<00:00, 1653.32it/s]\rAverage Metric: 39 / 49  (79.6):  48%|████▊     | 48/100 [00:00<00:00, 1661.19it/s]\rAverage Metric: 40 / 50  (80.0):  49%|████▉     | 49/100 [00:00<00:00, 1670.10it/s]\rAverage Metric: 41 / 51  (80.4):  50%|█████     | 50/100 [00:00<00:00, 1677.51it/s]\rAverage Metric: 42 / 52  (80.8):  51%|█████     | 51/100 [00:00<00:00, 1682.53it/s]\rAverage Metric: 42 / 53  (79.2):  52%|█████▏    | 52/100 [00:00<00:00, 1621.28it/s]\rAverage Metric: 42 / 54  (77.8):  53%|█████▎    | 53/100 [00:00<00:00, 1624.31it/s]\rAverage Metric: 43 / 55  (78.2):  54%|█████▍    | 54/100 [00:00<00:00, 1629.51it/s]\rAverage Metric: 44 / 56  (78.6):  55%|█████▌    | 55/100 [00:00<00:00, 1619.32it/s]\rAverage Metric: 45 / 57  (78.9):  56%|█████▌    | 56/100 [00:00<00:00, 1623.27it/s]\rAverage Metric: 46 / 58  (79.3):  57%|█████▋    | 57/100 [00:00<00:00, 1618.28it/s]\rAverage Metric: 47 / 59  (79.7):  58%|█████▊    | 58/100 [00:00<00:00, 1621.65it/s]\rAverage Metric: 47 / 60  (78.3):  59%|█████▉    | 59/100 [00:00<00:00, 1624.51it/s]\rAverage Metric: 48 / 61  (78.7):  60%|██████    | 60/100 [00:00<00:00, 1630.97it/s]\rAverage Metric: 49 / 62  (79.0):  61%|██████    | 61/100 [00:00<00:00, 1634.38it/s]\rAverage Metric: 50 / 63  (79.4):  62%|██████▏   | 62/100 [00:00<00:00, 1617.43it/s]\rAverage Metric: 51 / 64  (79.7):  63%|██████▎   | 63/100 [00:00<00:00, 1621.06it/s]\rAverage Metric: 52 / 65  (80.0):  64%|██████▍   | 64/100 [00:00<00:00, 1616.61it/s]\rAverage Metric: 53 / 66  (80.3):  65%|██████▌   | 65/100 [00:00<00:00, 1617.40it/s]\rAverage Metric: 54 / 67  (80.6):  66%|██████▌   | 66/100 [00:00<00:00, 1612.88it/s]\rAverage Metric: 54 / 68  (79.4):  67%|██████▋   | 67/100 [00:00<00:00, 1615.87it/s]\rAverage Metric: 55 / 69  (79.7):  68%|██████▊   | 68/100 [00:00<00:00, 1612.13it/s]\rAverage Metric: 56 / 70  (80.0):  69%|██████▉   | 69/100 [00:00<00:00, 1615.30it/s]\rAverage Metric: 57 / 71  (80.3):  70%|███████   | 70/100 [00:00<00:00, 1611.65it/s]\rAverage Metric: 58 / 72  (80.6):  71%|███████   | 71/100 [00:00<00:00, 1613.81it/s]\rAverage Metric: 58 / 73  (79.5):  72%|███████▏  | 72/100 [00:00<00:00, 1609.25it/s]\rAverage Metric: 59 / 74  (79.7):  73%|███████▎  | 73/100 [00:00<00:00, 1611.26it/s]\rAverage Metric: 60 / 75  (80.0):  74%|███████▍  | 74/100 [00:00<00:00, 1608.10it/s]\rAverage Metric: 61 / 76  (80.3):  75%|███████▌  | 75/100 [00:00<00:00, 1611.13it/s]\rAverage Metric: 61 / 77  (79.2):  76%|███████▌  | 76/100 [00:00<00:00, 1608.04it/s]\rAverage Metric: 62 / 78  (79.5):  77%|███████▋  | 77/100 [00:00<00:00, 1610.52it/s]\rAverage Metric: 63 / 79  (79.7):  78%|███████▊  | 78/100 [00:00<00:00, 1607.10it/s]\rAverage Metric: 64 / 80  (80.0):  79%|███████▉  | 79/100 [00:00<00:00, 1609.91it/s]\rAverage Metric: 65 / 81  (80.2):  80%|████████  | 80/100 [00:00<00:00, 1606.94it/s]\rAverage Metric: 65 / 82  (79.3):  81%|████████  | 81/100 [00:00<00:00, 1610.22it/s]\rAverage Metric: 66 / 83  (79.5):  82%|████████▏ | 82/100 [00:00<00:00, 1607.31it/s]\rAverage Metric: 67 / 84  (79.8):  83%|████████▎ | 83/100 [00:00<00:00, 1609.95it/s]\rAverage Metric: 68 / 85  (80.0):  84%|████████▍ | 84/100 [00:00<00:00, 1606.49it/s]\rAverage Metric: 68 / 86  (79.1):  85%|████████▌ | 85/100 [00:00<00:00, 1609.25it/s]\rAverage Metric: 68 / 87  (78.2):  86%|████████▌ | 86/100 [00:00<00:00, 1606.61it/s]\rAverage Metric: 69 / 88  (78.4):  87%|████████▋ | 87/100 [00:00<00:00, 1609.16it/s]\rAverage Metric: 69 / 89  (77.5):  88%|████████▊ | 88/100 [00:00<00:00, 1606.61it/s]\rAverage Metric: 70 / 90  (77.8):  89%|████████▉ | 89/100 [00:00<00:00, 1609.45it/s]\rAverage Metric: 71 / 91  (78.0):  90%|█████████ | 90/100 [00:00<00:00, 1606.19it/s]\rAverage Metric: 72 / 92  (78.3):  91%|█████████ | 91/100 [00:00<00:00, 1608.48it/s]\rAverage Metric: 72 / 93  (77.4):  92%|█████████▏| 92/100 [00:00<00:00, 1605.95it/s]\rAverage Metric: 73 / 94  (77.7):  93%|█████████▎| 93/100 [00:00<00:00, 1608.36it/s]\rAverage Metric: 73 / 95  (76.8):  94%|█████████▍| 94/100 [00:00<00:00, 1605.92it/s]\rAverage Metric: 73 / 96  (76.0):  95%|█████████▌| 95/100 [00:00<00:00, 1608.26it/s]\rAverage Metric: 74 / 97  (76.3):  96%|█████████▌| 96/100 [00:00<00:00, 1605.24it/s]\rAverage Metric: 75 / 98  (76.5):  97%|█████████▋| 97/100 [00:00<00:00, 1607.28it/s]\rAverage Metric: 76 / 99  (76.8):  98%|█████████▊| 98/100 [00:00<00:00, 1605.01it/s]\rAverage Metric: 77 / 100  (77.0):  99%|█████████▉| 99/100 [00:00<00:00, 1607.50it/s]\rAverage Metric: 77 / 100  (77.0): 100%|██████████| 100/100 [00:00<00:00, 1604.23it/s]\n2024/11/12 22:29:11 INFO dspy.evaluate.evaluate: Average Metric: 77 / 100 (77.0%)\n"
     ]
    },
    {
     "output_type": "display_data",
     "data": {
      "text/html": [
       "<style type=\"text/css\">\n",
       "#T_5e7ac th {\n",
       "  text-align: left;\n",
       "}\n",
       "#T_5e7ac td {\n",
       "  text-align: left;\n",
       "}\n",
       "#T_5e7ac_row0_col0, #T_5e7ac_row0_col1, #T_5e7ac_row0_col2, #T_5e7ac_row0_col3, #T_5e7ac_row0_col4, #T_5e7ac_row1_col0, #T_5e7ac_row1_col1, #T_5e7ac_row1_col2, #T_5e7ac_row1_col3, #T_5e7ac_row1_col4, #T_5e7ac_row2_col0, #T_5e7ac_row2_col1, #T_5e7ac_row2_col2, #T_5e7ac_row2_col3, #T_5e7ac_row2_col4, #T_5e7ac_row3_col0, #T_5e7ac_row3_col1, #T_5e7ac_row3_col2, #T_5e7ac_row3_col3, #T_5e7ac_row3_col4, #T_5e7ac_row4_col0, #T_5e7ac_row4_col1, #T_5e7ac_row4_col2, #T_5e7ac_row4_col3, #T_5e7ac_row4_col4 {\n",
       "  text-align: left;\n",
       "  white-space: pre-wrap;\n",
       "  word-wrap: break-word;\n",
       "  max-width: 400px;\n",
       "}\n",
       "</style>\n",
       "<table id=\"T_5e7ac\">\n",
       "  <thead>\n",
       "    <tr>\n",
       "      <th class=\"blank level0\" >&nbsp;</th>\n",
       "      <th id=\"T_5e7ac_level0_col0\" class=\"col_heading level0 col0\" >text</th>\n",
       "      <th id=\"T_5e7ac_level0_col1\" class=\"col_heading level0 col1\" >example_label</th>\n",
       "      <th id=\"T_5e7ac_level0_col2\" class=\"col_heading level0 col2\" >rationale</th>\n",
       "      <th id=\"T_5e7ac_level0_col3\" class=\"col_heading level0 col3\" >pred_label</th>\n",
       "      <th id=\"T_5e7ac_level0_col4\" class=\"col_heading level0 col4\" >accuracy</th>\n",
       "    </tr>\n",
       "  </thead>\n",
       "  <tbody>\n",
       "    <tr>\n",
       "      <th id=\"T_5e7ac_level0_row0\" class=\"row_heading level0 row0\" >0</th>\n",
       "      <td id=\"T_5e7ac_row0_col0\" class=\"data row0 col0\" >Please delete my account.</td>\n",
       "      <td id=\"T_5e7ac_row0_col1\" class=\"data row0 col1\" >terminate_account</td>\n",
       "      <td id=\"T_5e7ac_row0_col2\" class=\"data row0 col2\" >The user is requesting to delete their account, which directly relates to the action of terminating an account.</td>\n",
       "      <td id=\"T_5e7ac_row0_col3\" class=\"data row0 col3\" >terminate_account</td>\n",
       "      <td id=\"T_5e7ac_row0_col4\" class=\"data row0 col4\" >✔️ [1]</td>\n",
       "    </tr>\n",
       "    <tr>\n",
       "      <th id=\"T_5e7ac_level0_row1\" class=\"row_heading level0 row1\" >1</th>\n",
       "      <td id=\"T_5e7ac_row1_col0\" class=\"data row1 col0\" >There's a debit on my account that I didn't do.</td>\n",
       "      <td id=\"T_5e7ac_row1_col1\" class=\"data row1 col1\" >direct_debit_payment_not_recognised</td>\n",
       "      <td id=\"T_5e7ac_row1_col2\" class=\"data row1 col2\" >The user is reporting an unauthorized debit on their account, which suggests that they do not recognize a transaction that has occurred. This situation is...</td>\n",
       "      <td id=\"T_5e7ac_row1_col3\" class=\"data row1 col3\" >card_payment_not_recognised</td>\n",
       "      <td id=\"T_5e7ac_row1_col4\" class=\"data row1 col4\" ></td>\n",
       "    </tr>\n",
       "    <tr>\n",
       "      <th id=\"T_5e7ac_level0_row2\" class=\"row_heading level0 row2\" >2</th>\n",
       "      <td id=\"T_5e7ac_row2_col0\" class=\"data row2 col0\" >Where do I order a virtual card from?</td>\n",
       "      <td id=\"T_5e7ac_row2_col1\" class=\"data row2 col1\" >getting_virtual_card</td>\n",
       "      <td id=\"T_5e7ac_row2_col2\" class=\"data row2 col2\" >The user is asking about the process to obtain a virtual card, which relates to the action of getting a virtual card.</td>\n",
       "      <td id=\"T_5e7ac_row2_col3\" class=\"data row2 col3\" >getting_virtual_card</td>\n",
       "      <td id=\"T_5e7ac_row2_col4\" class=\"data row2 col4\" >✔️ [1]</td>\n",
       "    </tr>\n",
       "    <tr>\n",
       "      <th id=\"T_5e7ac_level0_row3\" class=\"row_heading level0 row3\" >3</th>\n",
       "      <td id=\"T_5e7ac_row3_col0\" class=\"data row3 col0\" >Where is my card accepted?</td>\n",
       "      <td id=\"T_5e7ac_row3_col1\" class=\"data row3 col1\" >card_acceptance</td>\n",
       "      <td id=\"T_5e7ac_row3_col2\" class=\"data row3 col2\" >The user is asking about the locations or types of merchants where their card can be used, which pertains to card acceptance.</td>\n",
       "      <td id=\"T_5e7ac_row3_col3\" class=\"data row3 col3\" >card_acceptance</td>\n",
       "      <td id=\"T_5e7ac_row3_col4\" class=\"data row3 col4\" >✔️ [1]</td>\n",
       "    </tr>\n",
       "    <tr>\n",
       "      <th id=\"T_5e7ac_level0_row4\" class=\"row_heading level0 row4\" >4</th>\n",
       "      <td id=\"T_5e7ac_row4_col0\" class=\"data row4 col0\" >If I want a physical card, do I have to pay anything?</td>\n",
       "      <td id=\"T_5e7ac_row4_col1\" class=\"data row4 col1\" >order_physical_card</td>\n",
       "      <td id=\"T_5e7ac_row4_col2\" class=\"data row4 col2\" >The user is asking about potential fees associated with obtaining a physical card, which relates to the costs involved in card issuance.</td>\n",
       "      <td id=\"T_5e7ac_row4_col3\" class=\"data row4 col3\" >get_physical_card</td>\n",
       "      <td id=\"T_5e7ac_row4_col4\" class=\"data row4 col4\" ></td>\n",
       "    </tr>\n",
       "  </tbody>\n",
       "</table>\n"
      ],
      "text/plain": [
       "<pandas.io.formats.style.Styler at 0x7f81fec03d10>"
      ]
     },
     "metadata": {},
     "output_type": "display_data"
    },
    {
     "output_type": "display_data",
     "data": {
      "text/html": [
       "\n",
       "                <div style='\n",
       "                    text-align: center;\n",
       "                    font-size: 16px;\n",
       "                    font-weight: bold;\n",
       "                    color: #555;\n",
       "                    margin: 10px 0;'>\n",
       "                    ... 95 more rows not displayed ...\n",
       "                </div>\n",
       "                "
      ],
      "text/plain": [
       "<IPython.core.display.HTML object>"
      ]
     },
     "metadata": {},
     "output_type": "display_data"
    }
   ],
   "source": [
    "# Launch evaluation.\n",
    "eval_score = evaluator(optimized_classifier, metric=accuracy)"
   ]
  },
  {
   "cell_type": "markdown",
   "metadata": {
    "application/vnd.databricks.v1+cell": {
     "cellMetadata": {},
     "inputWidgets": {},
     "nuid": "c65675e4-7aad-42c6-bb34-67f2db50b35b",
     "showTitle": false,
     "tableResultSettingsMap": {},
     "title": ""
    }
   },
   "source": [
    "In our run, the accuracy on validation set got boosted from 66% to 77% bu optimization!"
   ]
  },
  {
   "cell_type": "markdown",
   "metadata": {
    "application/vnd.databricks.v1+cell": {
     "cellMetadata": {},
     "inputWidgets": {},
     "nuid": "38173ca2-a8fb-4c33-9d76-43c2cc6af350",
     "showTitle": false,
     "tableResultSettingsMap": {},
     "title": ""
    }
   },
   "source": [
    "## Conclusion \n",
    "\n",
    "Congratulations on finishing reading the guide! To further improve the classification accuracy, you can try using a more powerful model like gpt-4o, having the optimizer try more candidates with more rounds, or applying finetuning. Keep exploring!"
   ]
  },
  {
   "cell_type": "markdown",
   "metadata": {
    "application/vnd.databricks.v1+cell": {
     "cellMetadata": {
      "byteLimit": 2048000,
      "rowLimit": 10000
     },
     "inputWidgets": {},
     "nuid": "5f61a34f-48e8-4115-9af5-ebfc798c4c4a",
     "showTitle": false,
     "tableResultSettingsMap": {},
     "title": ""
    }
   },
   "source": []
  }
 ],
 "metadata": {
  "application/vnd.databricks.v1+notebook": {
   "dashboards": [],
   "environmentMetadata": {
    "base_environment": "",
    "client": "1"
   },
   "language": "python",
   "notebookMetadata": {
    "pythonIndentUnit": 4
   },
   "notebookName": "DSPy Text Classification Guide",
   "widgets": {}
  },
  "language_info": {
   "name": "python"
  }
 },
 "nbformat": 4,
 "nbformat_minor": 0
}