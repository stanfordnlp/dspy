{
  "cells": [
    {
      "cell_type": "markdown",
      "metadata": {},
      "source": [
        "# Contextual AI Reranker Integration with DSPy\n",
        "\n",
        "This tutorial demonstrates how to integrate Contextual AI's instruction-following reranker with DSPy for improved retrieval-augmented generation (RAG) performance. We'll show how DSPy's optimization capabilities can work with Contextual AI's reranking to achieve better results.\n"
      ]
    },
    {
      "cell_type": "markdown",
      "metadata": {},
      "source": [
        "## Setup\n"
      ]
    },
    {
      "cell_type": "code",
      "execution_count": null,
      "metadata": {},
      "outputs": [],
      "source": [
        "import dspy\n",
        "import os\n",
        "import requests\n",
        "import ujson\n",
        "import random\n",
        "from dspy.utils import download\n",
        "from dspy.evaluate import SemanticF1\n",
        "\n",
        "# Set API keys\n",
        "# Get this key at http://app.contextual.ai/\n",
        "CONTEXTUAL_API_KEY = \"your_contextual_api_key\"\n",
        "OPENAI_API_KEY = \"your_openai_api_key\"\n",
        "os.environ[\"OPENAI_API_KEY\"] = OPENAI_API_KEY\n",
        "\n",
        "lm = dspy.LM(model=\"openai/gpt-4o-mini\", api_key=OPENAI_API_KEY)\n",
        "dspy.settings.configure(lm=lm)\n"
      ]
    },
    {
      "cell_type": "markdown",
      "metadata": {},
      "source": [
        "## Contextual AI Reranker Implementation\n"
      ]
    },
    {
      "cell_type": "code",
      "execution_count": 7,
      "metadata": {},
      "outputs": [],
      "source": [
        "class ContextualReranker(dspy.Retrieve):\n",
        "    def __init__(self, api_key, base_retriever=None, k=5, rerank_instructions=\"\"):\n",
        "        super().__init__(k=k)\n",
        "        self.api_key = api_key\n",
        "        self.base_retriever = base_retriever\n",
        "        self.rerank_instructions = rerank_instructions\n",
        "    \n",
        "    def forward(self, query_or_queries):\n",
        "        if self.base_retriever:\n",
        "            # Get initial documents from base retriever\n",
        "            initial_docs = self.base_retriever(query_or_queries)\n",
        "            documents = initial_docs.passages\n",
        "        else:\n",
        "            documents = query_or_queries if isinstance(query_or_queries, list) else [query_or_queries]\n",
        "        \n",
        "        url = \"https://api.contextual.ai/v1/rerank\"\n",
        "        headers = {\n",
        "            \"accept\": \"application/json\",\n",
        "            \"content-type\": \"application/json\",\n",
        "            \"authorization\": f\"Bearer {self.api_key}\"\n",
        "        }\n",
        "        \n",
        "        payload = {\n",
        "            \"query\": query_or_queries if isinstance(query_or_queries, str) else query_or_queries[0],\n",
        "            \"documents\": documents,\n",
        "            \"model\": \"ctxl-rerank-v2-instruct-multilingual\",\n",
        "            \"top_n\": self.k,\n",
        "            \"instruction\": self.rerank_instructions\n",
        "        }\n",
        "        \n",
        "        response = requests.post(url, headers=headers, json=payload)\n",
        "        result = response.json()\n",
        "        \n",
        "        if 'results' not in result:\n",
        "            print(\"Contextual API Error:\", result)\n",
        "            return dspy.Prediction(passages=documents[:self.k])\n",
        "        \n",
        "        reranked_results = result['results']\n",
        "        reranked_results.sort(key=lambda x: x['relevance_score'], reverse=True)\n",
        "        \n",
        "        top_docs = []\n",
        "        for item in reranked_results[:self.k]:\n",
        "            doc = documents[item['index']]\n",
        "            if isinstance(doc, str):\n",
        "                top_docs.append(doc)\n",
        "            else:\n",
        "                top_docs.append(doc.get('content', doc))\n",
        "        \n",
        "        return dspy.Prediction(passages=top_docs)\n"
      ]
    },
    {
      "cell_type": "markdown",
      "metadata": {},
      "source": [
        "## Load Dataset\n"
      ]
    },
    {
      "cell_type": "code",
      "execution_count": 9,
      "metadata": {},
      "outputs": [
        {
          "name": "stdout",
          "output_type": "stream",
          "text": [
            "Loaded 100 documents\n"
          ]
        }
      ],
      "source": [
        "# Download and load the RAG-QA Arena Tech dataset\n",
        "download(\"https://huggingface.co/dspy/cache/resolve/main/ragqa_arena_tech_corpus.jsonl\")\n",
        "\n",
        "with open(\"ragqa_arena_tech_corpus.jsonl\") as f:\n",
        "    corpus_lines = f.readlines()[:100]\n",
        "\n",
        "corpus = []\n",
        "for line in corpus_lines:\n",
        "    data = ujson.loads(line)\n",
        "    corpus.append(data['text'])\n",
        "\n",
        "print(f\"Loaded {len(corpus)} documents\")\n"
      ]
    },
    {
      "cell_type": "code",
      "execution_count": 10,
      "metadata": {},
      "outputs": [
        {
          "name": "stdout",
          "output_type": "stream",
          "text": [
            "Downloading 'ragqa_arena_tech_examples.jsonl'...\n",
            "Training: 200, Dev: 300, Test: 500\n"
          ]
        }
      ],
      "source": [
        "# Load question-answer pairs for evaluation\n",
        "download(\"https://huggingface.co/dspy/cache/resolve/main/ragqa_arena_tech_examples.jsonl\")\n",
        "\n",
        "with open(\"ragqa_arena_tech_examples.jsonl\") as f:\n",
        "    data = [ujson.loads(line) for line in f]\n",
        "\n",
        "data = [dspy.Example(**d).with_inputs('question') for d in data]\n",
        "\n",
        "# Split data for training, validation, and testing\n",
        "random.Random(0).shuffle(data)\n",
        "trainset, devset, testset = data[:200], data[200:500], data[500:1000]\n",
        "\n",
        "print(f\"Training: {len(trainset)}, Dev: {len(devset)}, Test: {len(testset)}\")\n"
      ]
    },
    {
      "cell_type": "markdown",
      "metadata": {},
      "source": [
        "## Setup Base Retriever\n"
      ]
    },
    {
      "cell_type": "code",
      "execution_count": 11,
      "metadata": {},
      "outputs": [],
      "source": [
        "# Create base embedding retriever\n",
        "embedder = dspy.Embedder('openai/text-embedding-3-small', dimensions=512, api_key=OPENAI_API_KEY)\n",
        "base_search = dspy.retrievers.Embeddings(embedder=embedder, corpus=corpus, k=10)\n"
      ]
    },
    {
      "cell_type": "markdown",
      "metadata": {},
      "source": [
        "## Create RAG Systems\n"
      ]
    },
    {
      "cell_type": "code",
      "execution_count": null,
      "metadata": {},
      "outputs": [],
      "source": [
        "class RAG(dspy.Module):\n",
        "    def __init__(self, retriever):\n",
        "        super().__init__()\n",
        "        self.retriever = retriever\n",
        "        self.respond = dspy.ChainOfThought('context, question -> response')\n",
        "    \n",
        "    def forward(self, question):\n",
        "        if hasattr(question, 'question'):\n",
        "            question = question.question\n",
        "        elif isinstance(question, dict) and 'question' in question:\n",
        "            question = question['question']\n",
        "        context = self.retriever(question).passages\n",
        "        return self.respond(context=context, question=question)\n",
        "\n",
        "# Create different RAG systems\n",
        "base_rag = RAG(base_search)\n",
        "\n",
        "# RAG with Contextual AI reranking -> Changing the prompt can yield different results\n",
        "contextual_reranker = ContextualReranker(\n",
        "    api_key=CONTEXTUAL_API_KEY,\n",
        "    base_retriever=base_search,\n",
        "    k=5,\n",
        "    rerank_instructions=\"Prioritize documents that provide specific, actionable technical solutions and step-by-step instructions.\"\n",
        ")\n",
        "reranked_rag = RAG(contextual_reranker)\n"
      ]
    },
    {
      "cell_type": "markdown",
      "metadata": {},
      "source": [
        "## Evaluation Setup\n"
      ]
    },
    {
      "cell_type": "code",
      "execution_count": 13,
      "metadata": {},
      "outputs": [],
      "source": [
        "# Setup evaluation metric\n",
        "metric = SemanticF1(decompositional=True)\n",
        "evaluate = dspy.Evaluate(devset=devset, metric=metric, num_threads=4, display_progress=True)\n"
      ]
    },
    {
      "cell_type": "markdown",
      "metadata": {},
      "source": [
        "## Baseline Evaluation\n"
      ]
    },
    {
      "cell_type": "markdown",
      "metadata": {},
      "source": [
        "## Test the Reranker\n",
        "\n",
        "Let's test our reranker with a simple example to see how it works.\n"
      ]
    },
    {
      "cell_type": "code",
      "execution_count": 16,
      "metadata": {},
      "outputs": [
        {
          "name": "stdout",
          "output_type": "stream",
          "text": [
            "Query: How do I fix my Linux system\n",
            "\n",
            "Base retrieval results:\n",
            "1. My resolution was similar to Roman Ts however I needed to add a few extra steps. In my case I had Ubuntu Server 14 VM running on a Windows 8 Desktop in Windows 2008 domain. If I tried NAT or Bridge I ...\n",
            "\n",
            "2. You can, but its a major security and stability risk. Doing so allows any application full access to your computer. You cant know what theyre doing with that access. Its unnecessary, and just really u...\n",
            "\n",
            "3. Android shares very little with a typical Linux distribution. In fact, this is where Richard Stallmans GNU/Linux distinction comes in handy — Android isnt really a Unix-like general purpose operating ...\n",
            "\n",
            "Reranked results:\n",
            "1. My resolution was similar to Roman Ts however I needed to add a few extra steps. In my case I had Ubuntu Server 14 VM running on a Windows 8 Desktop in Windows 2008 domain. If I tried NAT or Bridge I ...\n",
            "\n",
            "2. The primary command to manipulate deb packages is dpkg-deb. To unpack the package, create an empty directory and switch to it, then run dpkg-deb to extract its control information and the package file...\n",
            "\n",
            "3. man pages can be very informative. Dont be intimidated by them. Among everything else, man less says you can use the R command to: R Repaint the screen, discarding any buffered input. Useful if the fi...\n",
            "\n"
          ]
        }
      ],
      "source": [
        "# Test query - something relevant to the tech corpus\n",
        "test_query = \"How do I fix my Linux system\"\n",
        "\n",
        "print(f\"Query: {test_query}\\n\")\n",
        "\n",
        "base_results = base_search(test_query)\n",
        "print(\"Base retrieval results:\")\n",
        "for i, doc in enumerate(base_results.passages[:3]):\n",
        "    print(f\"{i+1}. {doc[:200]}...\\n\")\n",
        "\n",
        "reranked_results = contextual_reranker(test_query)\n",
        "print(\"Reranked results:\")\n",
        "for i, doc in enumerate(reranked_results.passages[:3]):\n",
        "    print(f\"{i+1}. {doc[:200]}...\\n\")\n"
      ]
    },
    {
      "cell_type": "code",
      "execution_count": null,
      "metadata": {},
      "outputs": [
        {
          "name": "stdout",
          "output_type": "stream",
          "text": [
            "Base RAG Response:To address issues with your Linux system, especially related to networking or SSH access, follow these steps:\n",
            "\n",
            "1. **Network Configuration**: Check your network adapters' configuration. If you're using a VM, ensure you have one adapter set to Bridged for Internet access and another set to Host-Only for local communication.\n",
            "\n",
            "2. **Edit Configuration Files**: If you're not getting an IP address, express the network configuration by editing the `/etc/network/interfaces` file. Add the following lines for your second interface (e.g., eth1):\n",
            "   ```\n",
            "   auto eth1\n",
            "   iface eth1 inet dhcp\n",
            "   ```\n",
            "   Save the file and restart the networking service:\n",
            "   ```\n",
            "   sudo service networking restart\n",
            "   ```\n",
            "   or restart the VM if that does not work.\n",
            "\n",
            "3. **Test SSH Access**: After modifying settings, use `ifconfig -a` to check if the interface has received an IP address and attempt to SSH into the VM.\n",
            "\n",
            "4. **Package Issues**: If you are experiencing software-related issues, utilize package management tools like `apt` to update your system and resolve any package conflicts:\n",
            "   ```\n",
            "   sudo apt update\n",
            "   sudo apt upgrade\n",
            "   ```\n",
            "\n",
            "5. **Logs and Errors**: Review system logs for any specific errors that can guide you in diagnosing issues. Use `dmesg` or look into files in `/var/log/` directory for more detailed troubleshooting.\n",
            "\n",
            "6. **Backup**: If you're unable to resolve the issues, consider reverting to a previous state using backups or system restore points if available.\n",
            "\n",
            "These steps should help you in fixing your Linux system depending on the issues being faced.\n",
            "Reranked RAG Response:To address issues with your Linux system:\n",
            "\n",
            "1. **For Networking Issues:**\n",
            "   - Ensure you have the correct network adapter settings.\n",
            "   - You can add a second network adapter (bridged and host-only) as described in the context.\n",
            "   - Edit `/etc/network/interfaces` to configure DHCP for each adapter.\n",
            "   - Restart the networking service or the entire VM to ensure changes take effect.\n",
            "   - Use `ifconfig -a` to verify if you have obtained an IP address.\n",
            "\n",
            "2. **For Package Management Problems:**\n",
            "   - If you're having trouble with .deb files, utilize `dpkg-deb` to unpack and later rebuild packages. Make sure to run commands using `fakeroot` if you need to handle permissions without root access.\n",
            "   - Modify the control files carefully and increment version numbers if necessary to avoid conflicts.\n",
            "\n",
            "If you provide more specific information about the issue you're encountering, I can give more tailored advice.\n"
          ]
        }
      ],
      "source": [
        "# Same Query\n",
        "base_response = base_rag(question=test_query)\n",
        "reranked_response = reranked_rag(question=test_query)\n",
        "\n",
        "print(f\"Base RAG Response:{base_response.response}\")\n"
      ]
    },
    {
      "cell_type": "code",
      "execution_count": 18,
      "metadata": {},
      "outputs": [
        {
          "name": "stdout",
          "output_type": "stream",
          "text": [
            "Reranked RAG Response:To address issues with your Linux system:\n",
            "\n",
            "1. **For Networking Issues:**\n",
            "   - Ensure you have the correct network adapter settings.\n",
            "   - You can add a second network adapter (bridged and host-only) as described in the context.\n",
            "   - Edit `/etc/network/interfaces` to configure DHCP for each adapter.\n",
            "   - Restart the networking service or the entire VM to ensure changes take effect.\n",
            "   - Use `ifconfig -a` to verify if you have obtained an IP address.\n",
            "\n",
            "2. **For Package Management Problems:**\n",
            "   - If you're having trouble with .deb files, utilize `dpkg-deb` to unpack and later rebuild packages. Make sure to run commands using `fakeroot` if you need to handle permissions without root access.\n",
            "   - Modify the control files carefully and increment version numbers if necessary to avoid conflicts.\n",
            "\n",
            "If you provide more specific information about the issue you're encountering, I can give more tailored advice.\n"
          ]
        }
      ],
      "source": [
        "print(f\"Reranked RAG Response:{reranked_response.response}\")"
      ]
    },
    {
      "cell_type": "code",
      "execution_count": 14,
      "metadata": {},
      "outputs": [
        {
          "name": "stdout",
          "output_type": "stream",
          "text": [
            "Evaluating Contextual AI reranked RAG system...\n",
            "Average Metric: 122.68 / 300 (40.9%): 100%|██████████| 300/300 [18:16<00:00,  3.66s/it]"
          ]
        },
        {
          "name": "stderr",
          "output_type": "stream",
          "text": [
            "2025/10/09 01:00:04 INFO dspy.evaluate.evaluate: Average Metric: 122.67520181732142 / 300 (40.9%)\n"
          ]
        },
        {
          "name": "stdout",
          "output_type": "stream",
          "text": [
            "\n"
          ]
        }
      ],
      "source": [
        "print(\"Evaluating Contextual AI reranked RAG system...\")\n",
        "reranked_score = evaluate(reranked_rag)\n"
      ]
    },
    {
      "cell_type": "markdown",
      "metadata": {},
      "source": [
        "> **Note:**  \n",
        "> This notebook is primarily an integration demo, not a performance benchmark.  \n",
        "> but demonstrates how to extend DSPy with Contextual's reranking APIs."
      ]
    }
  ],
  "metadata": {
    "kernelspec": {
      "display_name": "Python 3",
      "language": "python",
      "name": "python3"
    },
    "language_info": {
      "codemirror_mode": {
        "name": "ipython",
        "version": 3
      },
      "file_extension": ".py",
      "mimetype": "text/x-python",
      "name": "python",
      "nbconvert_exporter": "python",
      "pygments_lexer": "ipython3",
      "version": "3.13.7"
    }
  },
  "nbformat": 4,
  "nbformat_minor": 2
}
